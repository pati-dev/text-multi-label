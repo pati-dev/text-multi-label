{
  "nbformat": 4,
  "nbformat_minor": 0,
  "metadata": {
    "colab": {
      "name": "Data pre-processing.ipynb",
      "provenance": [],
      "collapsed_sections": [
        "xazOq9UZUaoD",
        "YUhJTcVNUrGV",
        "_UlkQnJOWrDO"
      ],
      "include_colab_link": true
    },
    "kernelspec": {
      "name": "python3",
      "display_name": "Python 3"
    },
    "accelerator": "GPU"
  },
  "cells": [
    {
      "cell_type": "markdown",
      "metadata": {
        "id": "view-in-github",
        "colab_type": "text"
      },
      "source": [
        "<a href=\"https://colab.research.google.com/github/pati-dev/text-multi-label/blob/master/Data_pre_processing.ipynb\" target=\"_parent\"><img src=\"https://colab.research.google.com/assets/colab-badge.svg\" alt=\"Open In Colab\"/></a>"
      ]
    },
    {
      "cell_type": "markdown",
      "metadata": {
        "id": "o2vhYz2qqNzl",
        "colab_type": "text"
      },
      "source": [
        "# Boot"
      ]
    },
    {
      "cell_type": "code",
      "metadata": {
        "id": "XouXIoPAorWA",
        "colab_type": "code",
        "colab": {}
      },
      "source": [
        "%reload_ext tensorboard\n",
        "%matplotlib inline\n",
        "\n",
        "import re\n",
        "import datetime\n",
        "import pandas as pd\n",
        "import numpy as np\n",
        "\n",
        "import matplotlib.pyplot as plt\n",
        "import seaborn as sns\n",
        "\n",
        "import matplotlib\n",
        "matplotlib.rc('axes',edgecolor='w')"
      ],
      "execution_count": 0,
      "outputs": []
    },
    {
      "cell_type": "code",
      "metadata": {
        "id": "PdgopM6BpPiV",
        "colab_type": "code",
        "outputId": "8d5cbdeb-d987-41c8-e369-61f020baee66",
        "colab": {
          "base_uri": "https://localhost:8080/",
          "height": 34
        }
      },
      "source": [
        "from google.colab import drive\n",
        "drive.mount('/content/drive')"
      ],
      "execution_count": 0,
      "outputs": [
        {
          "output_type": "stream",
          "text": [
            "Drive already mounted at /content/drive; to attempt to forcibly remount, call drive.mount(\"/content/drive\", force_remount=True).\n"
          ],
          "name": "stdout"
        }
      ]
    },
    {
      "cell_type": "markdown",
      "metadata": {
        "id": "xazOq9UZUaoD",
        "colab_type": "text"
      },
      "source": [
        "# Data Pre-processing"
      ]
    },
    {
      "cell_type": "markdown",
      "metadata": {
        "id": "CI7u73646Ae9",
        "colab_type": "text"
      },
      "source": [
        "Load data"
      ]
    },
    {
      "cell_type": "code",
      "metadata": {
        "id": "CEbDSmPUpQaj",
        "colab_type": "code",
        "outputId": "8ef68a5d-1c55-4bb9-c31e-021e96b9ce32",
        "colab": {
          "base_uri": "https://localhost:8080/"
        }
      },
      "source": [
        "bizDF = pd.read_csv(\"/content/drive/My Drive/Search Project/toronto_filtered_reviews_all_cat.csv\", encoding='utf8')\n",
        "bizDF.head()"
      ],
      "execution_count": 0,
      "outputs": [
        {
          "output_type": "execute_result",
          "data": {
            "text/html": [
              "<div>\n",
              "<style scoped>\n",
              "    .dataframe tbody tr th:only-of-type {\n",
              "        vertical-align: middle;\n",
              "    }\n",
              "\n",
              "    .dataframe tbody tr th {\n",
              "        vertical-align: top;\n",
              "    }\n",
              "\n",
              "    .dataframe thead th {\n",
              "        text-align: right;\n",
              "    }\n",
              "</style>\n",
              "<table border=\"1\" class=\"dataframe\">\n",
              "  <thead>\n",
              "    <tr style=\"text-align: right;\">\n",
              "      <th></th>\n",
              "      <th>Unnamed: 0</th>\n",
              "      <th>business_id</th>\n",
              "      <th>categories</th>\n",
              "      <th>user_id</th>\n",
              "      <th>text</th>\n",
              "      <th>RestaurantsPriceRange2</th>\n",
              "      <th>BikeParking</th>\n",
              "      <th>Parking.Garage</th>\n",
              "      <th>Parking.Street</th>\n",
              "      <th>Parking.Validated</th>\n",
              "      <th>Parking.Lot</th>\n",
              "      <th>Parking.Valet</th>\n",
              "      <th>RestaurantsTakeOut</th>\n",
              "      <th>GoodForKids</th>\n",
              "      <th>OutdoorSeating</th>\n",
              "      <th>RestaurantsGoodForGroups</th>\n",
              "      <th>RestaurantsReservations</th>\n",
              "      <th>RestaurantsDelivery</th>\n",
              "      <th>WiFi</th>\n",
              "    </tr>\n",
              "  </thead>\n",
              "  <tbody>\n",
              "    <tr>\n",
              "      <th>0</th>\n",
              "      <td>1</td>\n",
              "      <td>c35qzLN6ItDpVIoj2uQW4Q</td>\n",
              "      <td>Soup, Restaurants, Sandwiches</td>\n",
              "      <td>oAINPedtuyRWpeY7Ey-9Bg</td>\n",
              "      <td>Very simple,  yet very tasty wraps.  Corn chow...</td>\n",
              "      <td>2</td>\n",
              "      <td>True</td>\n",
              "      <td>0</td>\n",
              "      <td>1</td>\n",
              "      <td>0</td>\n",
              "      <td>0</td>\n",
              "      <td>0</td>\n",
              "      <td>True</td>\n",
              "      <td>True</td>\n",
              "      <td>True</td>\n",
              "      <td>True</td>\n",
              "      <td>False</td>\n",
              "      <td>True</td>\n",
              "      <td>u'free'</td>\n",
              "    </tr>\n",
              "    <tr>\n",
              "      <th>1</th>\n",
              "      <td>2</td>\n",
              "      <td>c35qzLN6ItDpVIoj2uQW4Q</td>\n",
              "      <td>Soup, Restaurants, Sandwiches</td>\n",
              "      <td>h9y55WNNg7SYg3kQwzTMmQ</td>\n",
              "      <td>Had the soup and sandwich.  Wow, it was great....</td>\n",
              "      <td>2</td>\n",
              "      <td>True</td>\n",
              "      <td>0</td>\n",
              "      <td>1</td>\n",
              "      <td>0</td>\n",
              "      <td>0</td>\n",
              "      <td>0</td>\n",
              "      <td>True</td>\n",
              "      <td>True</td>\n",
              "      <td>True</td>\n",
              "      <td>True</td>\n",
              "      <td>False</td>\n",
              "      <td>True</td>\n",
              "      <td>u'free'</td>\n",
              "    </tr>\n",
              "    <tr>\n",
              "      <th>2</th>\n",
              "      <td>3</td>\n",
              "      <td>c35qzLN6ItDpVIoj2uQW4Q</td>\n",
              "      <td>Soup, Restaurants, Sandwiches</td>\n",
              "      <td>QfCfgc5PyNVwd_DgPzmeuA</td>\n",
              "      <td>I can't remember when I had a lunch as good as...</td>\n",
              "      <td>2</td>\n",
              "      <td>True</td>\n",
              "      <td>0</td>\n",
              "      <td>1</td>\n",
              "      <td>0</td>\n",
              "      <td>0</td>\n",
              "      <td>0</td>\n",
              "      <td>True</td>\n",
              "      <td>True</td>\n",
              "      <td>True</td>\n",
              "      <td>True</td>\n",
              "      <td>False</td>\n",
              "      <td>True</td>\n",
              "      <td>u'free'</td>\n",
              "    </tr>\n",
              "    <tr>\n",
              "      <th>3</th>\n",
              "      <td>4</td>\n",
              "      <td>c35qzLN6ItDpVIoj2uQW4Q</td>\n",
              "      <td>Soup, Restaurants, Sandwiches</td>\n",
              "      <td>mKemb3MpSyUbsVUVSmI5tg</td>\n",
              "      <td>wow! the wraps are hearty and healthy. i had t...</td>\n",
              "      <td>2</td>\n",
              "      <td>True</td>\n",
              "      <td>0</td>\n",
              "      <td>1</td>\n",
              "      <td>0</td>\n",
              "      <td>0</td>\n",
              "      <td>0</td>\n",
              "      <td>True</td>\n",
              "      <td>True</td>\n",
              "      <td>True</td>\n",
              "      <td>True</td>\n",
              "      <td>False</td>\n",
              "      <td>True</td>\n",
              "      <td>u'free'</td>\n",
              "    </tr>\n",
              "    <tr>\n",
              "      <th>4</th>\n",
              "      <td>5</td>\n",
              "      <td>c35qzLN6ItDpVIoj2uQW4Q</td>\n",
              "      <td>Soup, Restaurants, Sandwiches</td>\n",
              "      <td>zbSBmoujGgIPuNWQcny14g</td>\n",
              "      <td>First time here today w/ a male friend who had...</td>\n",
              "      <td>2</td>\n",
              "      <td>True</td>\n",
              "      <td>0</td>\n",
              "      <td>1</td>\n",
              "      <td>0</td>\n",
              "      <td>0</td>\n",
              "      <td>0</td>\n",
              "      <td>True</td>\n",
              "      <td>True</td>\n",
              "      <td>True</td>\n",
              "      <td>True</td>\n",
              "      <td>False</td>\n",
              "      <td>True</td>\n",
              "      <td>u'free'</td>\n",
              "    </tr>\n",
              "  </tbody>\n",
              "</table>\n",
              "</div>"
            ],
            "text/plain": [
              "   Unnamed: 0             business_id  ... RestaurantsDelivery     WiFi\n",
              "0           1  c35qzLN6ItDpVIoj2uQW4Q  ...                True  u'free'\n",
              "1           2  c35qzLN6ItDpVIoj2uQW4Q  ...                True  u'free'\n",
              "2           3  c35qzLN6ItDpVIoj2uQW4Q  ...                True  u'free'\n",
              "3           4  c35qzLN6ItDpVIoj2uQW4Q  ...                True  u'free'\n",
              "4           5  c35qzLN6ItDpVIoj2uQW4Q  ...                True  u'free'\n",
              "\n",
              "[5 rows x 19 columns]"
            ]
          },
          "metadata": {
            "tags": []
          },
          "execution_count": 28
        }
      ]
    },
    {
      "cell_type": "code",
      "metadata": {
        "id": "17b030zIsPZD",
        "colab_type": "code",
        "outputId": "2c6a769e-3e95-4af6-eaa2-cfc62c39b0dd",
        "colab": {
          "base_uri": "https://localhost:8080/"
        }
      },
      "source": [
        "bizDF.columns"
      ],
      "execution_count": 0,
      "outputs": [
        {
          "output_type": "execute_result",
          "data": {
            "text/plain": [
              "Index(['Unnamed: 0', 'business_id', 'categories', 'user_id', 'text',\n",
              "       'RestaurantsPriceRange2', 'BikeParking', 'Parking.Garage',\n",
              "       'Parking.Street', 'Parking.Validated', 'Parking.Lot', 'Parking.Valet',\n",
              "       'RestaurantsTakeOut', 'GoodForKids', 'OutdoorSeating',\n",
              "       'RestaurantsGoodForGroups', 'RestaurantsReservations',\n",
              "       'RestaurantsDelivery', 'WiFi'],\n",
              "      dtype='object')"
            ]
          },
          "metadata": {
            "tags": []
          },
          "execution_count": 29
        }
      ]
    },
    {
      "cell_type": "markdown",
      "metadata": {
        "id": "YC-Te74_6HfS",
        "colab_type": "text"
      },
      "source": [
        "We have multiple rows for each *business* $\\times$ *user* combination. Let's transform it so that it is in desired shape and form."
      ]
    },
    {
      "cell_type": "code",
      "metadata": {
        "id": "pKrBF8Yyto2d",
        "colab_type": "code",
        "outputId": "a636641f-c468-43c5-9a1e-41f836ebfcb8",
        "colab": {
          "base_uri": "https://localhost:8080/"
        }
      },
      "source": [
        "print(len(bizDF.business_id.unique()))\n",
        "print(len(bizDF))\n",
        "print(len(bizDF.text.unique()))"
      ],
      "execution_count": 0,
      "outputs": [
        {
          "output_type": "stream",
          "text": [
            "1880\n",
            "167177\n",
            "166910\n"
          ],
          "name": "stdout"
        }
      ]
    },
    {
      "cell_type": "markdown",
      "metadata": {
        "id": "wojWev5Z6anR",
        "colab_type": "text"
      },
      "source": [
        "Merge all reviews for a restaurant separated by a *space* in a separate reviews DF."
      ]
    },
    {
      "cell_type": "code",
      "metadata": {
        "id": "p_RDEKYOrqoi",
        "colab_type": "code",
        "outputId": "7975392a-eb30-4dd5-abfe-ae4d3181a087",
        "colab": {
          "base_uri": "https://localhost:8080/"
        }
      },
      "source": [
        "def combineText(reviews):\n",
        "  return \" \".join(reviews)\n",
        "\n",
        "reviewsDF = pd.DataFrame(bizDF.groupby(['business_id'])['text'].apply(combineText).reset_index())\n",
        "print(reviewsDF.head())\n",
        "print(len(reviewsDF))"
      ],
      "execution_count": 0,
      "outputs": [
        {
          "output_type": "stream",
          "text": [
            "              business_id                                               text\n",
            "0  -7BCZH437U5FjmNJ26llkg  This is a nice destination especially for thos...\n",
            "1  -9u2uFwhlj3Yq4mG5IweoA  I'm not sure what to think of this place...hip...\n",
            "2  -BbnAc9YEO6pjvJGEtFbVQ  Lovely little place for ramen amongst the many...\n",
            "3  -CLTZ0cO-ooKDDmXHFoGMg  This was a planned visit as we were visiting a...\n",
            "4  -EX_qttyhm5YNb8NWtAcCQ  Fun little bar for some country music!!! I wou...\n",
            "1880\n"
          ],
          "name": "stdout"
        }
      ]
    },
    {
      "cell_type": "markdown",
      "metadata": {
        "id": "e3lpv7zD6h4c",
        "colab_type": "text"
      },
      "source": [
        "Merge reviews DF with shrunk down version of biz DF to get the final DF."
      ]
    },
    {
      "cell_type": "code",
      "metadata": {
        "id": "XvGd263QK2T-",
        "colab_type": "code",
        "colab": {}
      },
      "source": [
        "attribs = set(['BikeParking',\n",
        "            # 'RestaurantsPriceRange2',\n",
        "            'RestaurantsTakeOut',\n",
        "            'GoodForKids', \n",
        "            'OutdoorSeating', \n",
        "            'RestaurantsGoodForGroups',\n",
        "            'RestaurantsReservations', \n",
        "            'RestaurantsDelivery', \n",
        "            'WiFi'])"
      ],
      "execution_count": 0,
      "outputs": []
    },
    {
      "cell_type": "code",
      "metadata": {
        "id": "VjfliP4U55r8",
        "colab_type": "code",
        "outputId": "210a4cad-cf57-43f4-a519-a09c8d3a1549",
        "colab": {
          "base_uri": "https://localhost:8080/"
        }
      },
      "source": [
        "featuresDF = bizDF.loc[:, list(attribs) + ['business_id']].drop_duplicates()\n",
        "finalDF = reviewsDF.merge(featuresDF, on='business_id')\n",
        "print(finalDF.shape)\n",
        "finalDF.head()"
      ],
      "execution_count": 0,
      "outputs": [
        {
          "output_type": "stream",
          "text": [
            "(1880, 10)\n"
          ],
          "name": "stdout"
        },
        {
          "output_type": "execute_result",
          "data": {
            "text/html": [
              "<div>\n",
              "<style scoped>\n",
              "    .dataframe tbody tr th:only-of-type {\n",
              "        vertical-align: middle;\n",
              "    }\n",
              "\n",
              "    .dataframe tbody tr th {\n",
              "        vertical-align: top;\n",
              "    }\n",
              "\n",
              "    .dataframe thead th {\n",
              "        text-align: right;\n",
              "    }\n",
              "</style>\n",
              "<table border=\"1\" class=\"dataframe\">\n",
              "  <thead>\n",
              "    <tr style=\"text-align: right;\">\n",
              "      <th></th>\n",
              "      <th>business_id</th>\n",
              "      <th>text</th>\n",
              "      <th>RestaurantsReservations</th>\n",
              "      <th>RestaurantsGoodForGroups</th>\n",
              "      <th>OutdoorSeating</th>\n",
              "      <th>RestaurantsTakeOut</th>\n",
              "      <th>GoodForKids</th>\n",
              "      <th>RestaurantsDelivery</th>\n",
              "      <th>WiFi</th>\n",
              "      <th>BikeParking</th>\n",
              "    </tr>\n",
              "  </thead>\n",
              "  <tbody>\n",
              "    <tr>\n",
              "      <th>0</th>\n",
              "      <td>-7BCZH437U5FjmNJ26llkg</td>\n",
              "      <td>This is a nice destination especially for thos...</td>\n",
              "      <td>True</td>\n",
              "      <td>True</td>\n",
              "      <td>False</td>\n",
              "      <td>True</td>\n",
              "      <td>True</td>\n",
              "      <td>True</td>\n",
              "      <td>'free'</td>\n",
              "      <td>True</td>\n",
              "    </tr>\n",
              "    <tr>\n",
              "      <th>1</th>\n",
              "      <td>-9u2uFwhlj3Yq4mG5IweoA</td>\n",
              "      <td>I'm not sure what to think of this place...hip...</td>\n",
              "      <td>True</td>\n",
              "      <td>False</td>\n",
              "      <td>False</td>\n",
              "      <td>True</td>\n",
              "      <td>False</td>\n",
              "      <td>True</td>\n",
              "      <td>u'no'</td>\n",
              "      <td>True</td>\n",
              "    </tr>\n",
              "    <tr>\n",
              "      <th>2</th>\n",
              "      <td>-BbnAc9YEO6pjvJGEtFbVQ</td>\n",
              "      <td>Lovely little place for ramen amongst the many...</td>\n",
              "      <td>False</td>\n",
              "      <td>True</td>\n",
              "      <td>False</td>\n",
              "      <td>True</td>\n",
              "      <td>True</td>\n",
              "      <td>False</td>\n",
              "      <td>'no'</td>\n",
              "      <td>True</td>\n",
              "    </tr>\n",
              "    <tr>\n",
              "      <th>3</th>\n",
              "      <td>-CLTZ0cO-ooKDDmXHFoGMg</td>\n",
              "      <td>This was a planned visit as we were visiting a...</td>\n",
              "      <td>False</td>\n",
              "      <td>False</td>\n",
              "      <td>False</td>\n",
              "      <td>True</td>\n",
              "      <td>True</td>\n",
              "      <td>True</td>\n",
              "      <td>u'no'</td>\n",
              "      <td>True</td>\n",
              "    </tr>\n",
              "    <tr>\n",
              "      <th>4</th>\n",
              "      <td>-EX_qttyhm5YNb8NWtAcCQ</td>\n",
              "      <td>Fun little bar for some country music!!! I wou...</td>\n",
              "      <td>False</td>\n",
              "      <td>True</td>\n",
              "      <td>False</td>\n",
              "      <td>True</td>\n",
              "      <td>False</td>\n",
              "      <td>False</td>\n",
              "      <td>u'no'</td>\n",
              "      <td>True</td>\n",
              "    </tr>\n",
              "  </tbody>\n",
              "</table>\n",
              "</div>"
            ],
            "text/plain": [
              "              business_id  ... BikeParking\n",
              "0  -7BCZH437U5FjmNJ26llkg  ...        True\n",
              "1  -9u2uFwhlj3Yq4mG5IweoA  ...        True\n",
              "2  -BbnAc9YEO6pjvJGEtFbVQ  ...        True\n",
              "3  -CLTZ0cO-ooKDDmXHFoGMg  ...        True\n",
              "4  -EX_qttyhm5YNb8NWtAcCQ  ...        True\n",
              "\n",
              "[5 rows x 10 columns]"
            ]
          },
          "metadata": {
            "tags": []
          },
          "execution_count": 33
        }
      ]
    },
    {
      "cell_type": "markdown",
      "metadata": {
        "id": "YUhJTcVNUrGV",
        "colab_type": "text"
      },
      "source": [
        "# Data Cleaning"
      ]
    },
    {
      "cell_type": "code",
      "metadata": {
        "id": "zxqYo0p5-XFU",
        "colab_type": "code",
        "outputId": "d1ef509a-d5ca-4a4c-8b7b-765e90fcf1e4",
        "colab": {
          "base_uri": "https://localhost:8080/"
        }
      },
      "source": [
        "finalDF.dtypes"
      ],
      "execution_count": 0,
      "outputs": [
        {
          "output_type": "execute_result",
          "data": {
            "text/plain": [
              "business_id                 object\n",
              "text                        object\n",
              "RestaurantsReservations       bool\n",
              "RestaurantsGoodForGroups      bool\n",
              "OutdoorSeating                bool\n",
              "RestaurantsTakeOut            bool\n",
              "GoodForKids                   bool\n",
              "RestaurantsDelivery           bool\n",
              "WiFi                        object\n",
              "BikeParking                   bool\n",
              "dtype: object"
            ]
          },
          "metadata": {
            "tags": []
          },
          "execution_count": 34
        }
      ]
    },
    {
      "cell_type": "markdown",
      "metadata": {
        "id": "Y-la6UEaMPMi",
        "colab_type": "text"
      },
      "source": [
        "WiFi is a text variable with 'free', 'paid', or 'no' values. Let's convert it to boolean so that it's easier to deal with."
      ]
    },
    {
      "cell_type": "code",
      "metadata": {
        "id": "hAf_Ya5b9wF9",
        "colab_type": "code",
        "outputId": "11805a46-859f-482f-baf7-065fe59a50ce",
        "colab": {
          "base_uri": "https://localhost:8080/"
        }
      },
      "source": [
        "finalDF['Wifi'] = np.where( finalDF['WiFi'].str.contains('free') | finalDF['WiFi'].str.contains('paid'), True, False )\n",
        "finalDF.loc[:,['WiFi', 'Wifi']].drop_duplicates()"
      ],
      "execution_count": 0,
      "outputs": [
        {
          "output_type": "execute_result",
          "data": {
            "text/html": [
              "<div>\n",
              "<style scoped>\n",
              "    .dataframe tbody tr th:only-of-type {\n",
              "        vertical-align: middle;\n",
              "    }\n",
              "\n",
              "    .dataframe tbody tr th {\n",
              "        vertical-align: top;\n",
              "    }\n",
              "\n",
              "    .dataframe thead th {\n",
              "        text-align: right;\n",
              "    }\n",
              "</style>\n",
              "<table border=\"1\" class=\"dataframe\">\n",
              "  <thead>\n",
              "    <tr style=\"text-align: right;\">\n",
              "      <th></th>\n",
              "      <th>WiFi</th>\n",
              "      <th>Wifi</th>\n",
              "    </tr>\n",
              "  </thead>\n",
              "  <tbody>\n",
              "    <tr>\n",
              "      <th>0</th>\n",
              "      <td>'free'</td>\n",
              "      <td>True</td>\n",
              "    </tr>\n",
              "    <tr>\n",
              "      <th>1</th>\n",
              "      <td>u'no'</td>\n",
              "      <td>False</td>\n",
              "    </tr>\n",
              "    <tr>\n",
              "      <th>2</th>\n",
              "      <td>'no'</td>\n",
              "      <td>False</td>\n",
              "    </tr>\n",
              "    <tr>\n",
              "      <th>5</th>\n",
              "      <td>u'free'</td>\n",
              "      <td>True</td>\n",
              "    </tr>\n",
              "    <tr>\n",
              "      <th>226</th>\n",
              "      <td>u'paid'</td>\n",
              "      <td>True</td>\n",
              "    </tr>\n",
              "  </tbody>\n",
              "</table>\n",
              "</div>"
            ],
            "text/plain": [
              "        WiFi   Wifi\n",
              "0     'free'   True\n",
              "1      u'no'  False\n",
              "2       'no'  False\n",
              "5    u'free'   True\n",
              "226  u'paid'   True"
            ]
          },
          "metadata": {
            "tags": []
          },
          "execution_count": 35
        }
      ]
    },
    {
      "cell_type": "code",
      "metadata": {
        "id": "bTMJNfMu_3rs",
        "colab_type": "code",
        "outputId": "b4612cf7-51eb-448d-cda8-89ecd036d1bd",
        "colab": {
          "base_uri": "https://localhost:8080/"
        }
      },
      "source": [
        "finalDF = finalDF.drop('WiFi', axis=1)\n",
        "finalDF.dtypes"
      ],
      "execution_count": 0,
      "outputs": [
        {
          "output_type": "execute_result",
          "data": {
            "text/plain": [
              "business_id                 object\n",
              "text                        object\n",
              "RestaurantsReservations       bool\n",
              "RestaurantsGoodForGroups      bool\n",
              "OutdoorSeating                bool\n",
              "RestaurantsTakeOut            bool\n",
              "GoodForKids                   bool\n",
              "RestaurantsDelivery           bool\n",
              "BikeParking                   bool\n",
              "Wifi                          bool\n",
              "dtype: object"
            ]
          },
          "metadata": {
            "tags": []
          },
          "execution_count": 36
        }
      ]
    },
    {
      "cell_type": "markdown",
      "metadata": {
        "id": "amFVngD0S2pl",
        "colab_type": "text"
      },
      "source": [
        "Number of characters in reviews is quite heavily right-tailed (left-skewed)."
      ]
    },
    {
      "cell_type": "code",
      "metadata": {
        "id": "6n8Xtp04SWfL",
        "colab_type": "code",
        "outputId": "77a07212-a014-48fe-d9e2-a5c9ede43ace",
        "colab": {
          "base_uri": "https://localhost:8080/"
        }
      },
      "source": [
        "print('Number of missing reviews in review text:')\n",
        "finalDF['text'].isnull().sum()"
      ],
      "execution_count": 0,
      "outputs": [
        {
          "output_type": "stream",
          "text": [
            "Number of missing reviews in review text:\n"
          ],
          "name": "stdout"
        },
        {
          "output_type": "execute_result",
          "data": {
            "text/plain": [
              "0"
            ]
          },
          "metadata": {
            "tags": []
          },
          "execution_count": 37
        }
      ]
    },
    {
      "cell_type": "code",
      "metadata": {
        "id": "fsS-BHhaPyPm",
        "colab_type": "code",
        "outputId": "981b7b41-01a9-43a7-9348-8f4968b67a7a",
        "colab": {
          "base_uri": "https://localhost:8080/"
        }
      },
      "source": [
        "reviewLen = finalDF.text.str.len()\n",
        "reviewLen.describe()"
      ],
      "execution_count": 0,
      "outputs": [
        {
          "output_type": "execute_result",
          "data": {
            "text/plain": [
              "count      1880.000000\n",
              "mean      68465.901596\n",
              "std       69833.415924\n",
              "min        7668.000000\n",
              "25%       29421.750000\n",
              "50%       45682.500000\n",
              "75%       80226.000000\n",
              "max      847618.000000\n",
              "Name: text, dtype: float64"
            ]
          },
          "metadata": {
            "tags": []
          },
          "execution_count": 38
        }
      ]
    },
    {
      "cell_type": "code",
      "metadata": {
        "id": "WWWIisrLQSTH",
        "colab_type": "code",
        "outputId": "99541ba7-a909-48c1-c35e-05bc2ccadfe5",
        "colab": {
          "base_uri": "https://localhost:8080/"
        }
      },
      "source": [
        "reviewLen.hist(bins = np.arange(0,900000,5000))"
      ],
      "execution_count": 0,
      "outputs": [
        {
          "output_type": "execute_result",
          "data": {
            "text/plain": [
              "<matplotlib.axes._subplots.AxesSubplot at 0x7ff54bd6f6d8>"
            ]
          },
          "metadata": {
            "tags": []
          },
          "execution_count": 39
        },
        {
          "output_type": "display_data",
          "data": {
            "image/png": "[encoded data removed]",
            "text/plain": [
              "<Figure size 432x288 with 1 Axes>"
            ]
          },
          "metadata": {
            "tags": []
          }
        }
      ]
    },
    {
      "cell_type": "markdown",
      "metadata": {
        "id": "0JxU6ORETY5F",
        "colab_type": "text"
      },
      "source": [
        "Clean reviews by clipping the text at first $100$K characters."
      ]
    },
    {
      "cell_type": "code",
      "metadata": {
        "id": "jU741lUCSgc8",
        "colab_type": "code",
        "outputId": "da4dc949-1ea2-4aaa-8cc8-0ed262d5a0bc",
        "colab": {
          "base_uri": "https://localhost:8080/"
        }
      },
      "source": [
        "print(finalDF['text'][0])"
      ],
      "execution_count": 0,
      "outputs": [
        {
          "output_type": "stream",
          "text": [
            "This is a nice destination especially for those who prefer the all \"halal\" food. A nicely crafted pies Turkish style with delicious ingredients like the pastrami and the Turkish sausage. With options for vegetarians too.\n",
            "It's very affordable and the service is ok. All I can say is that the staff are über friendly and the portions are massive! I had to take the rest home.  Pretty cheap if you can get two meals lol\n",
            "\n",
            "Will be back 100% I really enjoyed the pizzas I ordered here.\n",
            "\n",
            "They are done Turkish style with the pizza in a teardrop shape.\n",
            "\n",
            "The pizzas I had were great with toppings I don't see often (lamb anyone?) and the fact that the pizza box was stuffed with lemon slices and tomato slices and onion slices and hot peppers, geesh, makes me want to go order one right now! Mr pide has the original Turkish pide just like you would have in Turkey. \n",
            "The flavours are authentic, the pide is made on the spot with fresh ground beef and other ingredients. \n",
            "Bottom line it's simple yet authentic. Great for a snack or lunch. Mr. Pide is amazing! Located on the danforth, this Turkish spot definitely serves the best Turkish pizza in the city. \n",
            "\n",
            "Mr. Pide has indoor seating, but I usually opt for takeout. They are famous for their pide (pronounced pea-day), but have Turkish sweets as well. \n",
            "\n",
            "When you call for takeout, the pide is made within 15-20 min. The prices are also extremely reasonable, and they have an extensive menu with lots of variety. \n",
            "\n",
            "The takeout boxes come complete with fresh parsley, tomatoes, and onions, along with a tasty ranch/garlic dipping sauce. \n",
            "\n",
            "My favourite pide is lahmajoun, made with finely ground meat and spices on top of the thin, flatbread crust. It's so delicious, and very authentic. \n",
            "\n",
            "The cheesy chicken (tavuklu) is also really good!! And they have vegetarian options as well. \n",
            "\n",
            "It's always my go to spot when I'm in the area, and I'm always hungry for more! Definitely 5 stars every visit! This was my first Turkish pizza experience and I have to say, it was definitely good.  It was a hot summer day when I did take out here and with no \n",
            "A/C, the restaurant can get really hot within the kitchen exposed.\n",
            "\n",
            "I order the lahmacun which is a Turkish pizza with marinated ground beef.  I thought it was full of flavor and I've heard it's a staple in Turkish culture.  It came with a side of veggies to top off your pizza and it also came with a sauce that was like ranch.  I will admit for those that can't handle spicy foods, it is a little bit spicy so beware.  At 11.49, I found this was great value as it's quite a bit of food and you'll finish with a satisfied stomach.\n",
            "\n",
            "The service when ordering and picking up the food was great and the gentleman was very courteous throughout he process.  I will be sure to be back soon and try their other offerings! I don't have anything this to compare to except for traditional North American franchise or frozen pizzas.\n",
            "It's shaped in an oval with different toppings eg. sausage, ground beef, lamb, cheese etc.\n",
            "\n",
            "Personally I thought it was kind of oily. I really liked this place. It's a whole in the wall and the inside is nothing close to fancy with fee tables. But the food was really good. Went with a few friends for brunch  and we each got a different pide. There are a couple with eggs and meat so lots of options. It took about 20 min to arrive but man when it did it looked so fresh and so good. Each pide comes cut up on a platter with onions and chili on the side. Really good. Definitely going back. There's road parking on danforth and parking on side roads so that's good. Also halal. This is mine and my sister's favourite pide place. Mind you we haven't been to any other one, instead we keep frequenting Mr. Pide. Since the first time we came here without every trying Turkish pizza and not knowing what to expect, we now have to have it about once a month. We always have a great experience and it always tastes the same, delicious! It was my first time trying Turkish pizza and I have to say...I was blown away! The workers there are very friendly. Service was quick and efficient. And the food...WOW! We ordered #1 and #18 (warning: the portions are pretty big, but it was fine as we took it to go), we also tried the Turkish tea, which was quite nice as well. We will definitely be back to try some of the other pides. The owner apprenticed at Pizza Pide for 3 years before opening up this place 5 years ago.\n",
            "\n",
            "When he's on point, his stuff is epic.\n",
            "When he's not there, it's not.\n",
            "\n",
            "Order the assorted #18.  Sit and enjoy. ahoy there, matey!\n",
            "hungry for boat-shaped pizza?\n",
            "well come on aboard!\n",
            "\n",
            "try the \"karisik\"\n",
            "for topping variety\n",
            "spicy pep', lamb, more\n",
            "\n",
            "perfectly-cooked dough\n",
            "each topping is quite distinct\n",
            "and of course, tasty!\n",
            "\n",
            "lahmacun's great too\n",
            "ground beef, spices, but no cheese\n",
            "and, um, not boat-shaped I finally knocked this one off of my \"places to try on the Danforth\" list with a former coworker last night and it was worth the wait.\n",
            "\n",
            "The last time we tried to go here they were closed--it must have been Monday.\n",
            "\n",
            "Between us we went with #19 and #11 which is kind of boring but it was hard to decide and I wanted to avoid onions.  Besides, these (one was cheese and Turkish sausage, the other cheese and pepperoni) gave us a great way to compare.\n",
            "\n",
            "What came out to us was a long plate with the pides all cut up and ready to share--very nice touch.  (Not sure if this is the way you normally eat them or not).\n",
            "\n",
            "They were well made.  Thing, crispy crust, nice cheese and tasty meats.  There is no sauce.  But there was a delicious dipping sauce on the side.\n",
            "\n",
            "The service was fine--just one girl taking orders and bringing out food and one guy in the back.  \n",
            "\n",
            "The value can't really be beat.  About $10 for more than enough food.  I also had a tea which was delicious--really enjoyed that small, glass cup.  \n",
            "\n",
            "My sense is that a lot of young students go here for cheap lunches and dinners.  It would work quite well for a family meal out as most kids would eat the basic pides.  It would also work for a date if you are really early (casual environment, you get to work out which two to order and share, etc.) into something or if you are really late and past the point of needing to impress one another on a Friday night.  \n",
            "\n",
            "This could never replace regular pizza for me but it is a nice change.  I'll be back.\n",
            "\n",
            "Highly recommended--and worth a trip out east, especially if you are into trying different kinds of pizza. Awesome!!! 21 varieties of Turkish \"pizza\".  Made fresh to order, a gentle blend of cheesy goodness and meaty wonderfulness... Yes, veggie options for the animal-saviours. Decided to try pide for the first time because I didn't want to order pizza. It was delivered in about 30 minutes and the guy was nice. The pides themselves were hot and freaking delicious - way better than the pizza you get from the big chains. I got the #1 Lahmacun (ground beef blended with garlic, onions, tomatos, parsley, and herbs) and #11 Sucuklu Kasarli (Turkish sausage & mozzarella cheese). Each pide is under $10 and they're huge... they're also accompanied with dip, fresh tomato, lemon, parsley, onion, and jalapenos, at no extra charge. The Turkish sausage was spicy and ironically, I did find it to be more spicy than the Lahmacun, the only item that is marked as spicy on the menu. It's the second time I go to this place and I love it.\n",
            "Food takes a while to be prepared, but it's well worth the wait.\n",
            "3 pizzas are enough to feed 4 people. I haven't been to other places of this kind, but for me this feels authentic enough. Services is nice and friendly. Located in Greek town but more Turkish or rather Mediterranean, this place was awesome. The food was fresh, delicious, plentiful and inexpensive. 5 stars from my perspective. Service was also quick and I'll be back for sure for more. So good.  So so so good.  Fabulous pide.  Really helpful staff.  Interesting beverage options.  I am a fan of the sour cherry nectar.  Nice glass of Turkish tea is offered at the end of the meal. \n",
            "\n",
            " If they ever start serving Turkish breakfast, I'll have to revise the rating to a 6 out of 5.  Great place.  Go.  Eat pide. The best Pide i have ever had. Takes a little longer but its worth the wait, friendly nice staff. Will definitely go there again. This place is great! $7-10 for a made to order long oval shaped pizza. Size is reasonable. It was just about right for me who is a big eater. It comes with some stuff on the side like garlic dip, tomato, onions, and parsley. All were fresh and delicious. \n",
            "\n",
            "I like places that specialize. This place serves nothing but Pide. These guys are pros. But I currently don't have any other Pide places to compare to. \n",
            "\n",
            "Taste wise, this is a good alternative to \"regular\" pizza. The outer layer is almost crispy and very soft. The toppings were a little salty but very delicious. They put an adequate amount of stuff so I feel the price-value ratio is pretty good. Most of them don't have tomato sauce and some of them don't have cheese. I'm no health expert but I think these are healthier than \"regular\" pizzas in general.\n",
            "\n",
            "Pide is not easy to find in Toronto so this place is very niche. But it's a niche well done. I'd come more often if I lived closer but right now, it's too far of a trek. Since I am a regular customer I felt that I need to put an update to the review to answer to the various reviews that seem not to the understand what \"authentic Turkish \" means. \n",
            "\n",
            "For vegetarians : there's no such thing as vegetarian in Turkish culture. It doesn't exist. There are several pides that don't have meat , but they do not cater to vegetarians but simply to regular meat eaters who would like a change of pace once in a while.  No. 14, 15, 17 are all vegetarian. They will do. \n",
            "\n",
            "For vegans: go to another restaurant. Vegan is non existent concept in Turkish culture. \n",
            "\n",
            "For the Gluten-free crowd: no, just no. Celiac disease affects less than 0.01% of the population and the rest are just faking it.\n",
            "\n",
            "Substitutions: don't bother. These Pides were served with the same ingredient for the last six centuries, so to think they would substitute for you is just unrealistic\n",
            "\n",
            "The stereo pumps Turkish popular music which is a Great addition to the authenticity. If you're looking for the crapman Bieber or raggaethon- you're out of luck. \n",
            "\n",
            "In conclusion : this is the most authentic Turkish cuisine place on toronto. If you're looking for \"fusion\" - keep looking Been wanting to go here for ages and finally had a good reason, we headed here with my friend and her boyfriend, who is Turkish, so of course he was enthused to show us the place.\n",
            "\n",
            "We ordered 4 pideh's which all arrived pre-sliced on a huge platter garnished with tomatoes, onions and parsley. We had two of the menu #1 option which is delicious, super thin crust with ground beef, spices and diced tomatoes/onions. Highly recommend that one.\n",
            "\n",
            "The other two we tried had a thicker crust, were still tasty but I definitely prefer the less bread options.\n",
            "\n",
            "Pretty cheap, worked out to about $15 a person including soft-drinks, tax and tip.\n",
            "\n",
            "Place is sort of hole-in-the-wall so don't go expecting fancy decor, but service was quick and it definitely feels like an authentic experience. Awesome Turkish pizzas. The staff is super friendly and helpful. Have been here twice and tried 4 different pizzas. All amazing! This place had been in my bookmarks forever.\n",
            "I finally had a chance to check it out.\n",
            "I was quite happy with my experience here.\n",
            "The staff was helpful in helping us make our decision and very friendly.\n",
            "Tried the soup which was very nice.\n",
            "Had the sampler and was very happy with the choice. Very tasty and perfect for the two of us.\n",
            "Overall i was very satisfied and will be back again.\n",
            "\n",
            "Makes a great addition to the everyday pizza and on Pizza Row as i call it i guess they stand apart from the others.\n",
            "Seems like in between Donlands & Pape there's a Pizza place every second store.\n",
            "I bet i'm right ;-P Ask any Turkish-Torontonian, and you'll hear an earful about how our city lacks good Turkish cuisine. While pideh is an awfully specific and more fast food than authentic cuisine, Mr. Pide somehow captures a classic Turkish vibe I have not found anywhere else in Toronto!\n",
            "\n",
            "The pideh is somewhat of an armageddon between flatbread and pizza dough, and the ingredients are cooked into it in a fashion that is somewhere between a regular pizza and a calzone! Sounds complicated, but it comes out pretty delicious.\n",
            " I tried the Sibzeli Pide which featured an array of veggies and feta cheese. The pideh was prepared in about 10 minutes and was a good bit of food for the price. \n",
            "Overall I would give Mr. Pide another go, but hope that they feature more vegetarian and even a few non traditional toppings (sun-dried tomato pideh would be something to look forward to). Also wish it was open a bit later as it would provide an amazing late night snack! Delicious! I got the one that is a mix of all the ones they offer. It was really the best way to decide which one I would like. Unfortunately, they were all so good I would never be able to decide! That being said I really loved the lamb best! In the end the mixed bag is always best for indecisive me! I drop by here about once a month, get bunch of stuff, freeze them and reheat them later when i want to..So, i am pretty much a regular here.\n",
            "You can't find the same type of food any where else, any better than this in Toronto.Believe me, i tried. Some places use too oily meat to make more profit. This place is limiting that well because there should be some fatty meat too and it is good. One star taken off because meat can be a little better(tastes a little like costco meat) but changing the meat increases the cost and in that area, people won't pay more than that...\n",
            "So,a little critic and tip to improve; may trying putting a little milk or yogurt when marinating but only a couple of hours before. That makes the meat taste a little more tender and better.\n",
            "Yet, it is still very good.Best i could find so far.  Service is good. Owner is friendly and respects his customers. The dough they use it nice and thin and tasty.\n",
            "I bet almost everyone who like Italian food, Turkish food, Middle Eastern, Mediterranean food will leave this place happily after trying this place.\n",
            "Also not sure if it is in the menu but when i call in, the guy makes this anyway(thanks). \n",
            "Try Kasarli Etli Pide ( small minced beef with cheese). Food is delicious, staff is friendly, nice seating, plenty of food options. Very unique, would recommend. The #10 with lamb was my favorite and the baklava is delicious too. Wow, I mean wow! \n",
            "\n",
            "Solid 5*\n",
            "\n",
            "Their lahmacun could be one of the best I've ever tried outside of Turkey, including the US. Thin crispy dough topped with a light mixture of minced meat, tomatoes, peppers and spices cooked to perfection. Lemon juice adds the right amount of acidity to perfection. Definitely hearty but not overwhelming. Just the right amount of chilly kick. \n",
            "\n",
            "The owner is a really nice guy, the room is large and lots of space for big groups. Not a pretentious place, causal inside. Good eats, good vibes, good prices. \n",
            "\n",
            "Last but not least; make sure you get one of those yoghurt drinks to accompany your lahmacun, you will need a refreshment after all the spiciness. \n",
            "\n",
            "Yum! GUYS, I AM ADDICTED...! This place consistently produces great Turkish pizzas.....I don't want to leave Toronto just because the roasted lamb pide is so good. My wife was in the area and wanted to know what to pick up for dinner since she was by the Danforth.  Hmmm....let's see, what does the Danforth have that us Markhamnites don't have?  I got it!  Turkish Pizza!!\n",
            "\n",
            "Mr. Pide is a well know spot that serves authentic Turkish Pizzas to the masses.  From the thin flat traditional Lahmacun, to the boat shaped Pides that comes in a variety of flavours such as spinach and cheese, pepperoni, ground beef and lamb, the food they serve here is solid and delicious.  Not sure what to get?  Try the assorted #18 Karisik which comes with a little bit of everything.  \n",
            "\n",
            "Priced from $9-$12 each serving is enough for 1 and comes with a side of fresh tomatos, onions, curly parsley, pickled chillis and a dipping sauce.\n",
            "\n",
            "A solid 4/5.  Well done Mr. Pide, well done!! My first time eating Turkish pizza and boy am I glad that I picked Mr Pide (pronounced Peed-hey): a small take out kinda place far, far away from home! Talk about beginner's luck!\n",
            "\n",
            "We went there on a nice, bright afternoon for lunch and the restaurant front was wide open to let the sun stream in. Add to that, Omar, the guy who runs the place is really nice. He walked us through the menu and helped us select the mixed pide. He seemed a bit concerned that the pide would be too spicy for us, which we assured him would not be the case.\n",
            "\n",
            "The tear drop shaped pide came to us piping fresh accompanied with garlic sauce, parsley, jalapenos, onions and tomatoes. The dough was delicious! I enjoyed the overall flavors, and especially the beef sausage pide, though it could be even more flavorful. I liked the lamb the least, since the taste of lamb was just too overpowering. \n",
            "Adding fresh parsley to the pide was delicious. The next time I visit, I am going to ask Omar to heighten the flavors and maybe even over spice!\n",
            "\n",
            "While we were basking in the after glow of a good meal, Omar brought us (and the other patrons) complimentary Turkish tea!\n",
            "\n",
            "\n",
            "Good food: +1\n",
            "Good service: +1\n",
            "Value for money: +1\n",
            "Returnability factor: +1\n",
            "\n",
            "1+1+1+1= Yay! I am a fan. Didn't know what to expect from Turkish (pizza) but it was absolutely wonderful. We got the #18 ( I think ) which was sort of a sampler; really tasty! The people who work there are so friendly and kind. I'm here for a week and definitely will be eating there again before I leave town. This is the most authentic \"pide \" or \"lahmanci\" restaurant in Toronto. Pide is a Turkish specialty although similar dishes are known by many names around the Middle East.  The place has a fast food feel, but the food is anything but. It takes about 25 minutes to get your order as everything is made from scratch and cooked to order.  Sometimes the place can be full with patrons who know good Turkish food but there's always the takeout.  Try the #6 and #9 which are most authentic imho.  Also authentic Turkish (non alcoholic ) sodas and drinks. I recalled having one of these during the Taste of Danforth a few years back and I have always wanted to go back and try it again. This stuff is like a cross between a panzerotti, pizza and a pizza pocket. It's kinda like yummy goodness in an open face pizza dough wrap!\n",
            "\n",
            "This was for the most part as good as I had remembered it to be. The dough is exceptional; warm, soft, pillowy with a slight chew. However, I was slightly disappointed with the quality of the toppings. Their Turkish sausage reminds me of hotdogs. The sauce, cheese and veggies are your typical run-of-the-mill stuff. Nothing really stood out in terms of the ingredients but perhaps I was expecting too much? Even down to the dipping sauce; it reminds me of the Pizza Pizza garlic dipping sauce (good but nothing specially really).\n",
            "\n",
            "I would say give it a try even if it's just for the yummy dough! But in this city that is so saturated with pizza and stuff that reminds us of pizza; I am not sure if this one stands out. Great little place the food quality, taste was great. We come back twice. For the great food. Only thing negative I have to say is they don't have a/c and get really hot in there be prepared. I would definitely come back here again, it was good! Very good but a little greasy depending on the selection. Flavours and selection of toppings/fillings  are wonderful, and the sampler was our favourite. Recommend it highly if you want a great alternative to pizza. I am a sucker for good freshly baked products. \n",
            "After being amazed by Pizza Pide in its hay days I was looking for another go to spot after the quality at my old fav went down a bit.\n",
            "Sadly this place isn't much better and has neutralized the taste to cater to main stream tastes. That isn't saying its bad by any means. It beats most of the pizza joints hands down.\n",
            "My buddy and I ordered two mix Pide (#18) and one lahmahchun ( #1 which isground beef on a lavash type bread)\n",
            "The dough was top notch so full marks for that I think its a tad bit better than their competition. As for the spicing on the meats it was ho hum. Sujjuck was kinda bland. There wasn't any bastarma on the mix pizza. The meat on Lahmahchun was thicker than its is supposed to be and spicing was lacking as well.  I can't complain much since this place is a lot more accessible than their counterpart and with the price you pay you can't go wrong. I will come back here when I want my Pide fix.\n",
            "A solid 3.5 stars. This is absolutely as good as anything you will eat in Türkiye. You need to try this place. It's affordable, good for sharing, and best of all: actual Turkish people eat here. \n",
            "\n",
            "Pro tip: try the Ayran with your meal! It's a salted yogurt drink. I know it sounds weird, but trust me on this one. Love this small shop...its a great casual place but with top quality food.\n",
            "All freshly made on the spot and at a very decent price. Order takes time so don't be in a rush.   1 order of anything on the menu can satisfy 2 people but I like going for assortment. Sharing is also a fun part of pide. Everything comes with fresh vegi and sauce that compliments the meal!!  Has never disappointed! Omg- this place is by far my favourite guilty pleasure treat spot in all of the GTA!!\n",
            "\n",
            "I take everyone there- local friends and all out of town visitors. \n",
            "\n",
            "For $8-10, you get a large, leaf shaped Turkish style \"pizza\". It's way better then pizza though. \n",
            "\n",
            "It's tender dough, covered in tenderizing yogurt (you don't taste the yogurt though because once cooked, it blends in), topped with meat, spinach, cheese and eggs (or any combo of these items). They have an amazing garlic sauce to dip you slices in too. The pizzas come with onion slices and lime to squeeze over the top- awesome. \n",
            "\n",
            "On top of it all, the meat is all halal and the sausage and pepperoni is very high quality and delicious spiced. \n",
            "\n",
            "You will be stuffed but it will be hard to stop before you've eaten your whole pide. \n",
            "\n",
            "Staff is always, always, always pleasant and hospitable. Decor is simple. \n",
            " \n",
            "A hot cup of Turkish coffee after your meal will help energize you after you've thoroughly stuffed yourself!\n"
          ],
          "name": "stdout"
        }
      ]
    },
    {
      "cell_type": "code",
      "metadata": {
        "id": "UyKmEMifTr9g",
        "colab_type": "code",
        "outputId": "749d7347-638d-441d-9024-4c408ee17264",
        "colab": {
          "base_uri": "https://localhost:8080/"
        }
      },
      "source": [
        "def cleanTxt(text):\n",
        "    text = text.lower()\n",
        "    text = re.sub(r\"what's\", \"what is \", text)\n",
        "    text = re.sub(r\"it's\", \"it is \", text)\n",
        "    text = re.sub(r\"\\'s\", \" \", text)\n",
        "    text = re.sub(r\"\\'ve\", \" have \", text)\n",
        "    text = re.sub(r\"can't\", \"can not \", text)\n",
        "    text = re.sub(r\"n't\", \" not \", text)\n",
        "    text = re.sub(r\"i'm\", \"i am \", text)\n",
        "    text = re.sub(r\"\\'re\", \" are \", text)\n",
        "    text = re.sub(r\"\\'d\", \" would \", text)\n",
        "    text = re.sub(r\"\\'ll\", \" will \", text)\n",
        "    text = re.sub(r\"\\'scuse\", \" excuse \", text)\n",
        "    text = re.sub('\\W', ' ', text)\n",
        "    text = re.sub('\\s+', ' ', text)\n",
        "    text = text.strip(' ')\n",
        "    return text\n",
        "\n",
        "finalDF['text'] = finalDF['text'].map(lambda review : cleanTxt(review[:100000]))\n",
        "finalDF['text'][0]"
      ],
      "execution_count": 0,
      "outputs": [
        {
          "output_type": "execute_result",
          "data": {
            "text/plain": [
              "'this is a nice destination especially for those who prefer the all halal food a nicely crafted pies turkish style with delicious ingredients like the pastrami and the turkish sausage with options for vegetarians too it is very affordable and the service is ok all i can say is that the staff are über friendly and the portions are massive i had to take the rest home pretty cheap if you can get two meals lol will be back 100 i really enjoyed the pizzas i ordered here they are done turkish style with the pizza in a teardrop shape the pizzas i had were great with toppings i do not see often lamb anyone and the fact that the pizza box was stuffed with lemon slices and tomato slices and onion slices and hot peppers geesh makes me want to go order one right now mr pide has the original turkish pide just like you would have in turkey the flavours are authentic the pide is made on the spot with fresh ground beef and other ingredients bottom line it is simple yet authentic great for a snack or lunch mr pide is amazing located on the danforth this turkish spot definitely serves the best turkish pizza in the city mr pide has indoor seating but i usually opt for takeout they are famous for their pide pronounced pea day but have turkish sweets as well when you call for takeout the pide is made within 15 20 min the prices are also extremely reasonable and they have an extensive menu with lots of variety the takeout boxes come complete with fresh parsley tomatoes and onions along with a tasty ranch garlic dipping sauce my favourite pide is lahmajoun made with finely ground meat and spices on top of the thin flatbread crust it is so delicious and very authentic the cheesy chicken tavuklu is also really good and they have vegetarian options as well it is always my go to spot when i am in the area and i am always hungry for more definitely 5 stars every visit this was my first turkish pizza experience and i have to say it was definitely good it was a hot summer day when i did take out here and with no a c the restaurant can get really hot within the kitchen exposed i order the lahmacun which is a turkish pizza with marinated ground beef i thought it was full of flavor and i have heard it is a staple in turkish culture it came with a side of veggies to top off your pizza and it also came with a sauce that was like ranch i will admit for those that can not handle spicy foods it is a little bit spicy so beware at 11 49 i found this was great value as it is quite a bit of food and you will finish with a satisfied stomach the service when ordering and picking up the food was great and the gentleman was very courteous throughout he process i will be sure to be back soon and try their other offerings i do not have anything this to compare to except for traditional north american franchise or frozen pizzas it is shaped in an oval with different toppings eg sausage ground beef lamb cheese etc personally i thought it was kind of oily i really liked this place it is a whole in the wall and the inside is nothing close to fancy with fee tables but the food was really good went with a few friends for brunch and we each got a different pide there are a couple with eggs and meat so lots of options it took about 20 min to arrive but man when it did it looked so fresh and so good each pide comes cut up on a platter with onions and chili on the side really good definitely going back there road parking on danforth and parking on side roads so that good also halal this is mine and my sister favourite pide place mind you we have not been to any other one instead we keep frequenting mr pide since the first time we came here without every trying turkish pizza and not knowing what to expect we now have to have it about once a month we always have a great experience and it always tastes the same delicious it was my first time trying turkish pizza and i have to say i was blown away the workers there are very friendly service was quick and efficient and the food wow we ordered 1 and 18 warning the portions are pretty big but it was fine as we took it to go we also tried the turkish tea which was quite nice as well we will definitely be back to try some of the other pides the owner apprenticed at pizza pide for 3 years before opening up this place 5 years ago when he on point his stuff is epic when he not there it is not order the assorted 18 sit and enjoy ahoy there matey hungry for boat shaped pizza well come on aboard try the karisik for topping variety spicy pep lamb more perfectly cooked dough each topping is quite distinct and of course tasty lahmacun great too ground beef spices but no cheese and um not boat shaped i finally knocked this one off of my places to try on the danforth list with a former coworker last night and it was worth the wait the last time we tried to go here they were closed it must have been monday between us we went with 19 and 11 which is kind of boring but it was hard to decide and i wanted to avoid onions besides these one was cheese and turkish sausage the other cheese and pepperoni gave us a great way to compare what came out to us was a long plate with the pides all cut up and ready to share very nice touch not sure if this is the way you normally eat them or not they were well made thing crispy crust nice cheese and tasty meats there is no sauce but there was a delicious dipping sauce on the side the service was fine just one girl taking orders and bringing out food and one guy in the back the value can not really be beat about 10 for more than enough food i also had a tea which was delicious really enjoyed that small glass cup my sense is that a lot of young students go here for cheap lunches and dinners it would work quite well for a family meal out as most kids would eat the basic pides it would also work for a date if you are really early casual environment you get to work out which two to order and share etc into something or if you are really late and past the point of needing to impress one another on a friday night this could never replace regular pizza for me but it is a nice change i will be back highly recommended and worth a trip out east especially if you are into trying different kinds of pizza awesome 21 varieties of turkish pizza made fresh to order a gentle blend of cheesy goodness and meaty wonderfulness yes veggie options for the animal saviours decided to try pide for the first time because i did not want to order pizza it was delivered in about 30 minutes and the guy was nice the pides themselves were hot and freaking delicious way better than the pizza you get from the big chains i got the 1 lahmacun ground beef blended with garlic onions tomatos parsley and herbs and 11 sucuklu kasarli turkish sausage mozzarella cheese each pide is under 10 and they are huge they are also accompanied with dip fresh tomato lemon parsley onion and jalapenos at no extra charge the turkish sausage was spicy and ironically i did find it to be more spicy than the lahmacun the only item that is marked as spicy on the menu it is the second time i go to this place and i love it food takes a while to be prepared but it is well worth the wait 3 pizzas are enough to feed 4 people i have not been to other places of this kind but for me this feels authentic enough services is nice and friendly located in greek town but more turkish or rather mediterranean this place was awesome the food was fresh delicious plentiful and inexpensive 5 stars from my perspective service was also quick and i will be back for sure for more so good so so so good fabulous pide really helpful staff interesting beverage options i am a fan of the sour cherry nectar nice glass of turkish tea is offered at the end of the meal if they ever start serving turkish breakfast i will have to revise the rating to a 6 out of 5 great place go eat pide the best pide i have ever had takes a little longer but its worth the wait friendly nice staff will definitely go there again this place is great 7 10 for a made to order long oval shaped pizza size is reasonable it was just about right for me who is a big eater it comes with some stuff on the side like garlic dip tomato onions and parsley all were fresh and delicious i like places that specialize this place serves nothing but pide these guys are pros but i currently do not have any other pide places to compare to taste wise this is a good alternative to regular pizza the outer layer is almost crispy and very soft the toppings were a little salty but very delicious they put an adequate amount of stuff so i feel the price value ratio is pretty good most of them do not have tomato sauce and some of them do not have cheese i am no health expert but i think these are healthier than regular pizzas in general pide is not easy to find in toronto so this place is very niche but it is a niche well done i would come more often if i lived closer but right now it is too far of a trek since i am a regular customer i felt that i need to put an update to the review to answer to the various reviews that seem not to the understand what authentic turkish means for vegetarians there no such thing as vegetarian in turkish culture it does not exist there are several pides that do not have meat but they do not cater to vegetarians but simply to regular meat eaters who would like a change of pace once in a while no 14 15 17 are all vegetarian they will do for vegans go to another restaurant vegan is non existent concept in turkish culture for the gluten free crowd no just no celiac disease affects less than 0 01 of the population and the rest are just faking it substitutions do not bother these pides were served with the same ingredient for the last six centuries so to think they would substitute for you is just unrealistic the stereo pumps turkish popular music which is a great addition to the authenticity if you are looking for the crapman bieber or raggaethon you are out of luck in conclusion this is the most authentic turkish cuisine place on toronto if you are looking for fusion keep looking been wanting to go here for ages and finally had a good reason we headed here with my friend and her boyfriend who is turkish so of course he was enthused to show us the place we ordered 4 pideh which all arrived pre sliced on a huge platter garnished with tomatoes onions and parsley we had two of the menu 1 option which is delicious super thin crust with ground beef spices and diced tomatoes onions highly recommend that one the other two we tried had a thicker crust were still tasty but i definitely prefer the less bread options pretty cheap worked out to about 15 a person including soft drinks tax and tip place is sort of hole in the wall so do not go expecting fancy decor but service was quick and it definitely feels like an authentic experience awesome turkish pizzas the staff is super friendly and helpful have been here twice and tried 4 different pizzas all amazing this place had been in my bookmarks forever i finally had a chance to check it out i was quite happy with my experience here the staff was helpful in helping us make our decision and very friendly tried the soup which was very nice had the sampler and was very happy with the choice very tasty and perfect for the two of us overall i was very satisfied and will be back again makes a great addition to the everyday pizza and on pizza row as i call it i guess they stand apart from the others seems like in between donlands pape there a pizza place every second store i bet i am right p ask any turkish torontonian and you will hear an earful about how our city lacks good turkish cuisine while pideh is an awfully specific and more fast food than authentic cuisine mr pide somehow captures a classic turkish vibe i have not found anywhere else in toronto the pideh is somewhat of an armageddon between flatbread and pizza dough and the ingredients are cooked into it in a fashion that is somewhere between a regular pizza and a calzone sounds complicated but it comes out pretty delicious i tried the sibzeli pide which featured an array of veggies and feta cheese the pideh was prepared in about 10 minutes and was a good bit of food for the price overall i would give mr pide another go but hope that they feature more vegetarian and even a few non traditional toppings sun dried tomato pideh would be something to look forward to also wish it was open a bit later as it would provide an amazing late night snack delicious i got the one that is a mix of all the ones they offer it was really the best way to decide which one i would like unfortunately they were all so good i would never be able to decide that being said i really loved the lamb best in the end the mixed bag is always best for indecisive me i drop by here about once a month get bunch of stuff freeze them and reheat them later when i want to so i am pretty much a regular here you can not find the same type of food any where else any better than this in toronto believe me i tried some places use too oily meat to make more profit this place is limiting that well because there should be some fatty meat too and it is good one star taken off because meat can be a little better tastes a little like costco meat but changing the meat increases the cost and in that area people wo not pay more than that so a little critic and tip to improve may trying putting a little milk or yogurt when marinating but only a couple of hours before that makes the meat taste a little more tender and better yet it is still very good best i could find so far service is good owner is friendly and respects his customers the dough they use it nice and thin and tasty i bet almost everyone who like italian food turkish food middle eastern mediterranean food will leave this place happily after trying this place also not sure if it is in the menu but when i call in the guy makes this anyway thanks try kasarli etli pide small minced beef with cheese food is delicious staff is friendly nice seating plenty of food options very unique would recommend the 10 with lamb was my favorite and the baklava is delicious too wow i mean wow solid 5 their lahmacun could be one of the best i have ever tried outside of turkey including the us thin crispy dough topped with a light mixture of minced meat tomatoes peppers and spices cooked to perfection lemon juice adds the right amount of acidity to perfection definitely hearty but not overwhelming just the right amount of chilly kick the owner is a really nice guy the room is large and lots of space for big groups not a pretentious place causal inside good eats good vibes good prices last but not least make sure you get one of those yoghurt drinks to accompany your lahmacun you will need a refreshment after all the spiciness yum guys i am addicted this place consistently produces great turkish pizzas i do not want to leave toronto just because the roasted lamb pide is so good my wife was in the area and wanted to know what to pick up for dinner since she was by the danforth hmmm let see what does the danforth have that us markhamnites do not have i got it turkish pizza mr pide is a well know spot that serves authentic turkish pizzas to the masses from the thin flat traditional lahmacun to the boat shaped pides that comes in a variety of flavours such as spinach and cheese pepperoni ground beef and lamb the food they serve here is solid and delicious not sure what to get try the assorted 18 karisik which comes with a little bit of everything priced from 9 12 each serving is enough for 1 and comes with a side of fresh tomatos onions curly parsley pickled chillis and a dipping sauce a solid 4 5 well done mr pide well done my first time eating turkish pizza and boy am i glad that i picked mr pide pronounced peed hey a small take out kinda place far far away from home talk about beginner luck we went there on a nice bright afternoon for lunch and the restaurant front was wide open to let the sun stream in add to that omar the guy who runs the place is really nice he walked us through the menu and helped us select the mixed pide he seemed a bit concerned that the pide would be too spicy for us which we assured him would not be the case the tear drop shaped pide came to us piping fresh accompanied with garlic sauce parsley jalapenos onions and tomatoes the dough was delicious i enjoyed the overall flavors and especially the beef sausage pide though it could be even more flavorful i liked the lamb the least since the taste of lamb was just too overpowering adding fresh parsley to the pide was delicious the next time i visit i am going to ask omar to heighten the flavors and maybe even over spice while we were basking in the after glow of a good meal omar brought us and the other patrons complimentary turkish tea good food 1 good service 1 value for money 1 returnability factor 1 1 1 1 1 yay i am a fan did not know what to expect from turkish pizza but it was absolutely wonderful we got the 18 i think which was sort of a sampler really tasty the people who work there are so friendly and kind i am here for a week and definitely will be eating there again before i leave town this is the most authentic pide or lahmanci restaurant in toronto pide is a turkish specialty although similar dishes are known by many names around the middle east the place has a fast food feel but the food is anything but it takes about 25 minutes to get your order as everything is made from scratch and cooked to order sometimes the place can be full with patrons who know good turkish food but there always the takeout try the 6 and 9 which are most authentic imho also authentic turkish non alcoholic sodas and drinks i recalled having one of these during the taste of danforth a few years back and i have always wanted to go back and try it again this stuff is like a cross between a panzerotti pizza and a pizza pocket it is kinda like yummy goodness in an open face pizza dough wrap this was for the most part as good as i had remembered it to be the dough is exceptional warm soft pillowy with a slight chew however i was slightly disappointed with the quality of the toppings their turkish sausage reminds me of hotdogs the sauce cheese and veggies are your typical run of the mill stuff nothing really stood out in terms of the ingredients but perhaps i was expecting too much even down to the dipping sauce it reminds me of the pizza pizza garlic dipping sauce good but nothing specially really i would say give it a try even if it is just for the yummy dough but in this city that is so saturated with pizza and stuff that reminds us of pizza i am not sure if this one stands out great little place the food quality taste was great we come back twice for the great food only thing negative i have to say is they do not have a c and get really hot in there be prepared i would definitely come back here again it was good very good but a little greasy depending on the selection flavours and selection of toppings fillings are wonderful and the sampler was our favourite recommend it highly if you want a great alternative to pizza i am a sucker for good freshly baked products after being amazed by pizza pide in its hay days i was looking for another go to spot after the quality at my old fav went down a bit sadly this place is not much better and has neutralized the taste to cater to main stream tastes that is not saying its bad by any means it beats most of the pizza joints hands down my buddy and i ordered two mix pide 18 and one lahmahchun 1 which isground beef on a lavash type bread the dough was top notch so full marks for that i think its a tad bit better than their competition as for the spicing on the meats it was ho hum sujjuck was kinda bland there was not any bastarma on the mix pizza the meat on lahmahchun was thicker than its is supposed to be and spicing was lacking as well i can not complain much since this place is a lot more accessible than their counterpart and with the price you pay you can not go wrong i will come back here when i want my pide fix a solid 3 5 stars this is absolutely as good as anything you will eat in türkiye you need to try this place it is affordable good for sharing and best of all actual turkish people eat here pro tip try the ayran with your meal it is a salted yogurt drink i know it sounds weird but trust me on this one love this small shop its a great casual place but with top quality food all freshly made on the spot and at a very decent price order takes time so do not be in a rush 1 order of anything on the menu can satisfy 2 people but i like going for assortment sharing is also a fun part of pide everything comes with fresh vegi and sauce that compliments the meal has never disappointed omg this place is by far my favourite guilty pleasure treat spot in all of the gta i take everyone there local friends and all out of town visitors for 8 10 you get a large leaf shaped turkish style pizza it is way better then pizza though it is tender dough covered in tenderizing yogurt you do not taste the yogurt though because once cooked it blends in topped with meat spinach cheese and eggs or any combo of these items they have an amazing garlic sauce to dip you slices in too the pizzas come with onion slices and lime to squeeze over the top awesome on top of it all the meat is all halal and the sausage and pepperoni is very high quality and delicious spiced you will be stuffed but it will be hard to stop before you have eaten your whole pide staff is always always always pleasant and hospitable decor is simple a hot cup of turkish coffee after your meal will help energize you after you have thoroughly stuffed yourself'"
            ]
          },
          "metadata": {
            "tags": []
          },
          "execution_count": 41
        }
      ]
    },
    {
      "cell_type": "code",
      "metadata": {
        "id": "M8Lr8ad75jjg",
        "colab_type": "code",
        "colab": {}
      },
      "source": [
        "finalDF.to_csv('/content/drive/My Drive/Search Project/finalDF.csv', index=False)"
      ],
      "execution_count": 0,
      "outputs": []
    },
    {
      "cell_type": "markdown",
      "metadata": {
        "colab_type": "text",
        "id": "_UlkQnJOWrDO"
      },
      "source": [
        "# Exploratory Analysis"
      ]
    },
    {
      "cell_type": "markdown",
      "metadata": {
        "id": "gktb-qq1MUKA",
        "colab_type": "text"
      },
      "source": [
        "The number of reviews per attribute are uneven. Since this is a multi-label problem and not a multi-class problem, we can't even them out due to potential data loss.\n",
        "\n"
      ]
    },
    {
      "cell_type": "code",
      "metadata": {
        "id": "9IAcZV7iJCb3",
        "colab_type": "code",
        "outputId": "7ce17d8f-1aee-4538-da75-9605e7582ede",
        "colab": {
          "base_uri": "https://localhost:8080/"
        }
      },
      "source": [
        "finalDF.rename({'Wifi' : 'WiFi'}, axis=1, inplace=True)\n",
        "counts = []\n",
        "for attrib in attribs:\n",
        "    counts.append((attrib, finalDF[attrib].sum()))\n",
        "statsDF = pd.DataFrame(counts, columns=['attribute', 'review_count'])\n",
        "statsDF"
      ],
      "execution_count": 0,
      "outputs": [
        {
          "output_type": "execute_result",
          "data": {
            "text/html": [
              "<div>\n",
              "<style scoped>\n",
              "    .dataframe tbody tr th:only-of-type {\n",
              "        vertical-align: middle;\n",
              "    }\n",
              "\n",
              "    .dataframe tbody tr th {\n",
              "        vertical-align: top;\n",
              "    }\n",
              "\n",
              "    .dataframe thead th {\n",
              "        text-align: right;\n",
              "    }\n",
              "</style>\n",
              "<table border=\"1\" class=\"dataframe\">\n",
              "  <thead>\n",
              "    <tr style=\"text-align: right;\">\n",
              "      <th></th>\n",
              "      <th>attribute</th>\n",
              "      <th>review_count</th>\n",
              "    </tr>\n",
              "  </thead>\n",
              "  <tbody>\n",
              "    <tr>\n",
              "      <th>0</th>\n",
              "      <td>RestaurantsReservations</td>\n",
              "      <td>1190</td>\n",
              "    </tr>\n",
              "    <tr>\n",
              "      <th>1</th>\n",
              "      <td>RestaurantsGoodForGroups</td>\n",
              "      <td>1606</td>\n",
              "    </tr>\n",
              "    <tr>\n",
              "      <th>2</th>\n",
              "      <td>OutdoorSeating</td>\n",
              "      <td>749</td>\n",
              "    </tr>\n",
              "    <tr>\n",
              "      <th>3</th>\n",
              "      <td>RestaurantsTakeOut</td>\n",
              "      <td>1672</td>\n",
              "    </tr>\n",
              "    <tr>\n",
              "      <th>4</th>\n",
              "      <td>GoodForKids</td>\n",
              "      <td>1353</td>\n",
              "    </tr>\n",
              "    <tr>\n",
              "      <th>5</th>\n",
              "      <td>RestaurantsDelivery</td>\n",
              "      <td>518</td>\n",
              "    </tr>\n",
              "    <tr>\n",
              "      <th>6</th>\n",
              "      <td>WiFi</td>\n",
              "      <td>845</td>\n",
              "    </tr>\n",
              "    <tr>\n",
              "      <th>7</th>\n",
              "      <td>BikeParking</td>\n",
              "      <td>1680</td>\n",
              "    </tr>\n",
              "  </tbody>\n",
              "</table>\n",
              "</div>"
            ],
            "text/plain": [
              "                  attribute  review_count\n",
              "0   RestaurantsReservations          1190\n",
              "1  RestaurantsGoodForGroups          1606\n",
              "2            OutdoorSeating           749\n",
              "3        RestaurantsTakeOut          1672\n",
              "4               GoodForKids          1353\n",
              "5       RestaurantsDelivery           518\n",
              "6                      WiFi           845\n",
              "7               BikeParking          1680"
            ]
          },
          "metadata": {
            "tags": []
          },
          "execution_count": 43
        }
      ]
    },
    {
      "cell_type": "code",
      "metadata": {
        "id": "JEEb2WmhINIL",
        "colab_type": "code",
        "outputId": "02a4eaec-977e-473f-eafc-fe1863b666c6",
        "colab": {
          "base_uri": "https://localhost:8080/"
        }
      },
      "source": [
        "statsDF.plot(x='attribute', y='review_count', kind='bar', legend=False, grid=True, figsize=(8, 5))\n",
        "plt.title(\"Number of reviews per attribute\")\n",
        "plt.ylabel('Count', fontsize=12)\n",
        "plt.xlabel('Attribute', fontsize=12)"
      ],
      "execution_count": 0,
      "outputs": [
        {
          "output_type": "execute_result",
          "data": {
            "text/plain": [
              "Text(0.5, 0, 'Attribute')"
            ]
          },
          "metadata": {
            "tags": []
          },
          "execution_count": 44
        },
        {
          "output_type": "display_data",
          "data": {
            "image/png": "[encoded data removed]",
            "text/plain": [
              "<Figure size 576x360 with 1 Axes>"
            ]
          },
          "metadata": {
            "tags": []
          }
        }
      ]
    },
    {
      "cell_type": "markdown",
      "metadata": {
        "id": "F7e_GkSBSkSd",
        "colab_type": "text"
      },
      "source": [
        "Distribution of attributes being **TRUE** very closely follows the bell curve with most businesses having $5$ attributes."
      ]
    },
    {
      "cell_type": "code",
      "metadata": {
        "id": "CPufpM1HOmDN",
        "colab_type": "code",
        "outputId": "f522e7fe-4db8-40d1-8bd5-0c38f821ec3b",
        "colab": {
          "base_uri": "https://localhost:8080/"
        }
      },
      "source": [
        "groupedDF = finalDF.iloc[:,2:].sum(axis=1)\n",
        "attribCounts = groupedDF.value_counts()\n",
        "attribCounts"
      ],
      "execution_count": 0,
      "outputs": [
        {
          "output_type": "execute_result",
          "data": {
            "text/plain": [
              "5    486\n",
              "6    465\n",
              "4    385\n",
              "7    253\n",
              "3    178\n",
              "8     55\n",
              "2     50\n",
              "1      8\n",
              "dtype: int64"
            ]
          },
          "metadata": {
            "tags": []
          },
          "execution_count": 45
        }
      ]
    },
    {
      "cell_type": "code",
      "metadata": {
        "id": "SzZpw7UQJ7w7",
        "colab_type": "code",
        "outputId": "68601f2f-3539-4dfe-8429-4225e556bb15",
        "colab": {
          "base_uri": "https://localhost:8080/"
        }
      },
      "source": [
        "plt.figure(figsize=(8,5))\n",
        "ax = sns.barplot(attribCounts.index, attribCounts.values)\n",
        "plt.title(\"Multiple attributes per business\")\n",
        "plt.ylabel('Count', fontsize=12)\n",
        "plt.xlabel('# of attributes', fontsize=12)"
      ],
      "execution_count": 0,
      "outputs": [
        {
          "output_type": "execute_result",
          "data": {
            "text/plain": [
              "Text(0.5, 0, '# of attributes')"
            ]
          },
          "metadata": {
            "tags": []
          },
          "execution_count": 46
        },
        {
          "output_type": "display_data",
          "data": {
            "image/png": "[encoded data removed]",
            "text/plain": [
              "<Figure size 576x360 with 1 Axes>"
            ]
          },
          "metadata": {
            "tags": []
          }
        }
      ]
    }
  ]
}