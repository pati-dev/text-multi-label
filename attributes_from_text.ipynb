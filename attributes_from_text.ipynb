{
  "nbformat": 4,
  "nbformat_minor": 0,
  "metadata": {
    "colab": {
      "name": "attributes-from-text.ipynb",
      "provenance": [],
      "collapsed_sections": [
        "uW1ofdxroCde",
        "T6xu0NOr2sAN"
      ],
      "machine_shape": "hm",
      "include_colab_link": true
    },
    "kernelspec": {
      "name": "python3",
      "display_name": "Python 3"
    },
    "accelerator": "GPU"
  },
  "cells": [
    {
      "cell_type": "markdown",
      "metadata": {
        "id": "view-in-github",
        "colab_type": "text"
      },
      "source": [
        "<a href=\"https://colab.research.google.com/github/pati-dev/text-multi-label/blob/master/attributes_from_text.ipynb\" target=\"_parent\"><img src=\"https://colab.research.google.com/assets/colab-badge.svg\" alt=\"Open In Colab\"/></a>"
      ]
    },
    {
      "cell_type": "markdown",
      "metadata": {
        "id": "o2vhYz2qqNzl",
        "colab_type": "text"
      },
      "source": [
        "# Boot"
      ]
    },
    {
      "cell_type": "code",
      "metadata": {
        "id": "XouXIoPAorWA",
        "colab_type": "code",
        "outputId": "bd146ef3-c2e3-45ca-bfc0-d048588ad977",
        "colab": {
          "base_uri": "https://localhost:8080/",
          "height": 68
        }
      },
      "source": [
        "!pip install scikit-multilearn\n",
        "\n",
        "%reload_ext tensorboard\n",
        "%tensorflow_version 2.x\n",
        "import datetime\n",
        "import pandas as pd\n",
        "import numpy as np\n",
        "import math\n",
        "\n",
        "import nltk\n",
        "nltk.download('stopwords')\n",
        "from nltk.corpus import stopwords\n",
        "\n",
        "import tensorflow as tf\n",
        "from sklearn.model_selection import train_test_split\n",
        "from sklearn.metrics import accuracy_score\n",
        "from sklearn.feature_extraction.text import TfidfVectorizer\n",
        "from sklearn.linear_model import LogisticRegression\n",
        "from sklearn.pipeline import Pipeline\n",
        "from sklearn.multiclass import OneVsRestClassifier\n",
        "from sklearn.svm import LinearSVC\n",
        "from skmultilearn.problem_transform import BinaryRelevance\n",
        "from sklearn.naive_bayes import GaussianNB, MultinomialNB\n",
        "from skmultilearn.adapt import MLkNN\n",
        "from scipy.sparse import csr_matrix, lil_matrix\n",
        "\n",
        "import gensim\n",
        "\n",
        "import matplotlib.pyplot as plt\n",
        "from wordcloud import WordCloud,STOPWORDS"
      ],
      "execution_count": 83,
      "outputs": [
        {
          "output_type": "stream",
          "text": [
            "Requirement already satisfied: scikit-multilearn in /usr/local/lib/python3.6/dist-packages (0.2.0)\n",
            "[nltk_data] Downloading package stopwords to /root/nltk_data...\n",
            "[nltk_data]   Package stopwords is already up-to-date!\n"
          ],
          "name": "stdout"
        }
      ]
    },
    {
      "cell_type": "code",
      "metadata": {
        "id": "PdgopM6BpPiV",
        "colab_type": "code",
        "outputId": "6b5240f3-25ee-4711-eb30-aff3ab5e1a5b",
        "colab": {
          "base_uri": "https://localhost:8080/",
          "height": 122
        }
      },
      "source": [
        "from google.colab import drive\n",
        "drive.mount('/content/drive')"
      ],
      "execution_count": 2,
      "outputs": [
        {
          "output_type": "stream",
          "text": [
            "Go to this URL in a browser: https://accounts.google.com/o/oauth2/auth?client_id=947318989803-6bn6qk8qdgf4n4g3pfee6491hc0brc4i.apps.googleusercontent.com&redirect_uri=urn%3aietf%3awg%3aoauth%3a2.0%3aoob&response_type=code&scope=email%20https%3a%2f%2fwww.googleapis.com%2fauth%2fdocs.test%20https%3a%2f%2fwww.googleapis.com%2fauth%2fdrive%20https%3a%2f%2fwww.googleapis.com%2fauth%2fdrive.photos.readonly%20https%3a%2f%2fwww.googleapis.com%2fauth%2fpeopleapi.readonly\n",
            "\n",
            "Enter your authorization code:\n",
            "··········\n",
            "Mounted at /content/drive\n"
          ],
          "name": "stdout"
        }
      ]
    },
    {
      "cell_type": "code",
      "metadata": {
        "id": "3K1lPtY66BLa",
        "colab_type": "code",
        "colab": {}
      },
      "source": [
        "finalDF = pd.read_csv('/content/drive/My Drive/Search Project/finalDF.csv')\n",
        "# finalDF.head()"
      ],
      "execution_count": 0,
      "outputs": []
    },
    {
      "cell_type": "markdown",
      "metadata": {
        "id": "OX5sCj7Aje-d",
        "colab_type": "text"
      },
      "source": [
        "# Remove stop words"
      ]
    },
    {
      "cell_type": "code",
      "metadata": {
        "id": "DGAT-_axXB_F",
        "colab_type": "code",
        "colab": {}
      },
      "source": [
        "stop = stopwords.words('english')\n",
        "\n",
        "finalDF['clean_text'] = finalDF['text'].str.lower().str.split()\n",
        "finalDF['clean_text'] = finalDF['clean_text'].apply(lambda x: [item for item in x if item not in stop])"
      ],
      "execution_count": 0,
      "outputs": []
    },
    {
      "cell_type": "markdown",
      "metadata": {
        "id": "uW1ofdxroCde",
        "colab_type": "text"
      },
      "source": [
        "# Word Clouds"
      ]
    },
    {
      "cell_type": "code",
      "metadata": {
        "id": "qKOBNbeBoCLg",
        "colab_type": "code",
        "colab": {
          "base_uri": "https://localhost:8080/",
          "height": 249
        },
        "outputId": "3f0f8c4e-db9b-4e91-ac0e-7b877b1eb4a7"
      },
      "source": [
        "plt.figure(figsize=(40,25))\n",
        "\n",
        "# RestaurantsReservations\n",
        "subset = finalDF[finalDF.RestaurantsReservations==True]\n",
        "text = subset.text.values\n",
        "cloud = WordCloud(\n",
        "                          stopwords=STOPWORDS,\n",
        "                          background_color='black',\n",
        "                          collocations=False,\n",
        "                          width=2500,\n",
        "                          height=1800\n",
        "                         ).generate(\" \".join(text))\n",
        "plt.axis('off')\n",
        "plt.title(\"RestaurantsReservations\",fontsize=40)\n",
        "plt.imshow(cloud)"
      ],
      "execution_count": 72,
      "outputs": [
        {
          "output_type": "error",
          "ename": "TypeError",
          "evalue": "ignored",
          "traceback": [
            "\u001b[0;31m---------------------------------------------------------------------------\u001b[0m",
            "\u001b[0;31mTypeError\u001b[0m                                 Traceback (most recent call last)",
            "\u001b[0;32m<ipython-input-72-73de45d4ee18>\u001b[0m in \u001b[0;36m<module>\u001b[0;34m()\u001b[0m\n\u001b[1;32m     10\u001b[0m                           \u001b[0mwidth\u001b[0m\u001b[0;34m=\u001b[0m\u001b[0;36m2500\u001b[0m\u001b[0;34m,\u001b[0m\u001b[0;34m\u001b[0m\u001b[0;34m\u001b[0m\u001b[0m\n\u001b[1;32m     11\u001b[0m                           \u001b[0mheight\u001b[0m\u001b[0;34m=\u001b[0m\u001b[0;36m1800\u001b[0m\u001b[0;34m\u001b[0m\u001b[0;34m\u001b[0m\u001b[0m\n\u001b[0;32m---> 12\u001b[0;31m                          ).generate(\" \".join(clean_text))\n\u001b[0m\u001b[1;32m     13\u001b[0m \u001b[0mplt\u001b[0m\u001b[0;34m.\u001b[0m\u001b[0maxis\u001b[0m\u001b[0;34m(\u001b[0m\u001b[0;34m'off'\u001b[0m\u001b[0;34m)\u001b[0m\u001b[0;34m\u001b[0m\u001b[0;34m\u001b[0m\u001b[0m\n\u001b[1;32m     14\u001b[0m \u001b[0mplt\u001b[0m\u001b[0;34m.\u001b[0m\u001b[0mtitle\u001b[0m\u001b[0;34m(\u001b[0m\u001b[0;34m\"RestaurantsReservations\"\u001b[0m\u001b[0;34m,\u001b[0m\u001b[0mfontsize\u001b[0m\u001b[0;34m=\u001b[0m\u001b[0;36m40\u001b[0m\u001b[0;34m)\u001b[0m\u001b[0;34m\u001b[0m\u001b[0;34m\u001b[0m\u001b[0m\n",
            "\u001b[0;31mTypeError\u001b[0m: sequence item 0: expected str instance, list found"
          ]
        },
        {
          "output_type": "display_data",
          "data": {
            "text/plain": [
              "<Figure size 2880x1800 with 0 Axes>"
            ]
          },
          "metadata": {
            "tags": []
          }
        }
      ]
    },
    {
      "cell_type": "code",
      "metadata": {
        "id": "ynyqWPtlsigF",
        "colab_type": "code",
        "colab": {}
      },
      "source": [
        "plt.figure(figsize=(40,25))\n",
        "\n",
        "# RestaurantsGoodForGroups\n",
        "subset = finalDF[finalDF.RestaurantsGoodForGroups==True]\n",
        "text = subset.text.values\n",
        "cloud = WordCloud(\n",
        "                          stopwords=STOPWORDS,\n",
        "                          background_color='black',\n",
        "                          collocations=False,\n",
        "                          width=2500,\n",
        "                          height=1800\n",
        "                         ).generate(\" \".join(text))\n",
        "plt.axis('off')\n",
        "plt.title(\"RestaurantsGoodForGroups\",fontsize=40)\n",
        "plt.imshow(cloud)"
      ],
      "execution_count": 0,
      "outputs": []
    },
    {
      "cell_type": "code",
      "metadata": {
        "id": "MKFZBIPrtJnN",
        "colab_type": "code",
        "colab": {}
      },
      "source": [
        "plt.figure(figsize=(40,25))\n",
        "\n",
        "# OutdoorSeating\n",
        "subset = finalDF[finalDF.OutdoorSeating==True]\n",
        "text = subset.text.values\n",
        "cloud = WordCloud(\n",
        "                          stopwords=STOPWORDS,\n",
        "                          background_color='black',\n",
        "                          collocations=False,\n",
        "                          width=2500,\n",
        "                          height=1800\n",
        "                         ).generate(\" \".join(text))\n",
        "plt.axis('off')\n",
        "plt.title(\"OutdoorSeating\",fontsize=40)\n",
        "plt.imshow(cloud)"
      ],
      "execution_count": 0,
      "outputs": []
    },
    {
      "cell_type": "code",
      "metadata": {
        "id": "l7EZOv6Bthyu",
        "colab_type": "code",
        "colab": {}
      },
      "source": [
        "plt.figure(figsize=(40,25))\n",
        "\n",
        "# RestaurantsTakeOut\n",
        "subset = finalDF[finalDF.RestaurantsTakeOut==True]\n",
        "text = subset.text.values\n",
        "cloud = WordCloud(\n",
        "                          stopwords=STOPWORDS,\n",
        "                          background_color='black',\n",
        "                          collocations=False,\n",
        "                          width=2500,\n",
        "                          height=1800\n",
        "                         ).generate(\" \".join(text))\n",
        "plt.axis('off')\n",
        "plt.title(\"RestaurantsTakeOut\",fontsize=40)\n",
        "plt.imshow(cloud)"
      ],
      "execution_count": 0,
      "outputs": []
    },
    {
      "cell_type": "code",
      "metadata": {
        "id": "5o0aqW3Ytmd-",
        "colab_type": "code",
        "colab": {}
      },
      "source": [
        "plt.figure(figsize=(40,25))\n",
        "\n",
        "# GoodForKids\n",
        "subset = finalDF[finalDF.GoodForKids==True]\n",
        "text = subset.text.values\n",
        "cloud = WordCloud(\n",
        "                          stopwords=STOPWORDS,\n",
        "                          background_color='black',\n",
        "                          collocations=False,\n",
        "                          width=2500,\n",
        "                          height=1800\n",
        "                         ).generate(\" \".join(text))\n",
        "plt.axis('off')\n",
        "plt.title(\"GoodForKids\",fontsize=40)\n",
        "plt.imshow(cloud)"
      ],
      "execution_count": 0,
      "outputs": []
    },
    {
      "cell_type": "code",
      "metadata": {
        "id": "-IYrmUPct7Ks",
        "colab_type": "code",
        "colab": {}
      },
      "source": [
        "plt.figure(figsize=(40,25))\n",
        "\n",
        "# RestaurantsDelivery\n",
        "subset = finalDF[finalDF.RestaurantsDelivery==True]\n",
        "text = subset.text.values\n",
        "cloud = WordCloud(\n",
        "                          stopwords=STOPWORDS,\n",
        "                          background_color='black',\n",
        "                          collocations=False,\n",
        "                          width=2500,\n",
        "                          height=1800\n",
        "                         ).generate(\" \".join(text))\n",
        "plt.axis('off')\n",
        "plt.title(\"RestaurantsDelivery\",fontsize=40)\n",
        "plt.imshow(cloud)"
      ],
      "execution_count": 0,
      "outputs": []
    },
    {
      "cell_type": "code",
      "metadata": {
        "id": "nQskqiD8t_DF",
        "colab_type": "code",
        "colab": {}
      },
      "source": [
        "plt.figure(figsize=(40,25))\n",
        "\n",
        "# BikeParking\n",
        "subset = finalDF[finalDF.BikeParking==True]\n",
        "text = subset.text.values\n",
        "cloud = WordCloud(\n",
        "                          stopwords=STOPWORDS,\n",
        "                          background_color='black',\n",
        "                          collocations=False,\n",
        "                          width=2500,\n",
        "                          height=1800\n",
        "                         ).generate(\" \".join(text))\n",
        "plt.axis('off')\n",
        "plt.title(\"BikeParking\",fontsize=40)\n",
        "plt.imshow(cloud)"
      ],
      "execution_count": 0,
      "outputs": []
    },
    {
      "cell_type": "code",
      "metadata": {
        "id": "6ZVYFHv-uK48",
        "colab_type": "code",
        "colab": {}
      },
      "source": [
        "plt.figure(figsize=(40,25))\n",
        "\n",
        "# Wifi\n",
        "subset = finalDF[finalDF.Wifi==True]\n",
        "text = subset.text.values\n",
        "cloud = WordCloud(\n",
        "                          stopwords=STOPWORDS,\n",
        "                          background_color='black',\n",
        "                          collocations=False,\n",
        "                          width=2500,\n",
        "                          height=1800\n",
        "                         ).generate(\" \".join(text))\n",
        "plt.axis('off')\n",
        "plt.title(\"Wifi\",fontsize=40)\n",
        "plt.imshow(cloud)"
      ],
      "execution_count": 0,
      "outputs": []
    },
    {
      "cell_type": "markdown",
      "metadata": {
        "id": "I3nLwWZgwx6U",
        "colab_type": "text"
      },
      "source": [
        "# Data Preparation"
      ]
    },
    {
      "cell_type": "code",
      "metadata": {
        "id": "PKsOvJtjwgo2",
        "colab_type": "code",
        "outputId": "5f1fda8d-2217-4f35-caef-43bfa243d81b",
        "colab": {
          "base_uri": "https://localhost:8080/",
          "height": 34
        }
      },
      "source": [
        "train, test = train_test_split(finalDF, test_size=0.30, shuffle=True)\n",
        "print(train.shape, test.shape)"
      ],
      "execution_count": 77,
      "outputs": [
        {
          "output_type": "stream",
          "text": [
            "(1316, 10) (564, 10)\n"
          ],
          "name": "stdout"
        }
      ]
    },
    {
      "cell_type": "markdown",
      "metadata": {
        "id": "Gt1F6B61xeXg",
        "colab_type": "text"
      },
      "source": [
        "## Method 1: TF-IDF using *sci-kit learn*"
      ]
    },
    {
      "cell_type": "code",
      "metadata": {
        "id": "kMXFWeUXlCX6",
        "colab_type": "code",
        "colab": {}
      },
      "source": [
        "x_train = train.text.values\n",
        "x_test = test.text.values"
      ],
      "execution_count": 0,
      "outputs": []
    },
    {
      "cell_type": "code",
      "metadata": {
        "id": "1F48g0phkMwg",
        "colab_type": "code",
        "colab": {
          "base_uri": "https://localhost:8080/",
          "height": 289
        },
        "outputId": "053681ee-76b4-40dc-970f-ee87fa77e9d0"
      },
      "source": [
        "categories = ['RestaurantsReservations',\n",
        "       'RestaurantsGoodForGroups', 'OutdoorSeating', 'RestaurantsTakeOut',\n",
        "       'GoodForKids', 'RestaurantsDelivery', 'BikeParking', 'Wifi']\n",
        "\n",
        "# Define a pipeline combining a text feature extractor with multi lable classifier\n",
        "NB_pipeline = Pipeline([\n",
        "                ('tfidf', TfidfVectorizer(stop_words=stop)),\n",
        "                ('clf', OneVsRestClassifier(MultinomialNB(\n",
        "                    fit_prior=True, class_prior=None))),\n",
        "            ])\n",
        "for category in categories:\n",
        "    print('... Processing {}'.format(category))\n",
        "    # train the model using X_dtm & y\n",
        "    NB_pipeline.fit(x_train, train[category])\n",
        "    # compute the testing accuracy\n",
        "    prediction = NB_pipeline.predict(x_test)\n",
        "    print('Test accuracy is {}'.format(accuracy_score(test[category], prediction)))"
      ],
      "execution_count": 82,
      "outputs": [
        {
          "output_type": "stream",
          "text": [
            "... Processing RestaurantsReservations\n",
            "Test accuracy is 0.6312056737588653\n",
            "... Processing RestaurantsGoodForGroups\n",
            "Test accuracy is 0.8333333333333334\n",
            "... Processing OutdoorSeating\n",
            "Test accuracy is 0.599290780141844\n",
            "... Processing RestaurantsTakeOut\n",
            "Test accuracy is 0.8953900709219859\n",
            "... Processing GoodForKids\n",
            "Test accuracy is 0.7411347517730497\n",
            "... Processing RestaurantsDelivery\n",
            "Test accuracy is 0.7074468085106383\n",
            "... Processing BikeParking\n",
            "Test accuracy is 0.9095744680851063\n",
            "... Processing Wifi\n",
            "Test accuracy is 0.6453900709219859\n"
          ],
          "name": "stdout"
        }
      ]
    },
    {
      "cell_type": "code",
      "metadata": {
        "id": "B-AMdejolhkg",
        "colab_type": "code",
        "colab": {
          "base_uri": "https://localhost:8080/",
          "height": 289
        },
        "outputId": "4501dc2e-da28-4a12-b5cf-3c8a493c72b1"
      },
      "source": [
        "SVC_pipeline = Pipeline([\n",
        "                ('tfidf', TfidfVectorizer(stop_words=stop)),\n",
        "                ('clf', OneVsRestClassifier(LinearSVC(), n_jobs=1)),\n",
        "            ])\n",
        "for category in categories:\n",
        "    print('... Processing {}'.format(category))\n",
        "    # train the model using X_dtm & y\n",
        "    SVC_pipeline.fit(x_train, train[category])\n",
        "    # compute the testing accuracy\n",
        "    prediction = SVC_pipeline.predict(x_test)\n",
        "    print('Test accuracy is {}'.format(accuracy_score(test[category], prediction)))"
      ],
      "execution_count": 85,
      "outputs": [
        {
          "output_type": "stream",
          "text": [
            "... Processing RestaurantsReservations\n",
            "Test accuracy is 0.8812056737588653\n",
            "... Processing RestaurantsGoodForGroups\n",
            "Test accuracy is 0.8563829787234043\n",
            "... Processing OutdoorSeating\n",
            "Test accuracy is 0.7872340425531915\n",
            "... Processing RestaurantsTakeOut\n",
            "Test accuracy is 0.9184397163120568\n",
            "... Processing GoodForKids\n",
            "Test accuracy is 0.8953900709219859\n",
            "... Processing RestaurantsDelivery\n",
            "Test accuracy is 0.7783687943262412\n",
            "... Processing BikeParking\n",
            "Test accuracy is 0.9095744680851063\n",
            "... Processing Wifi\n",
            "Test accuracy is 0.6985815602836879\n"
          ],
          "name": "stdout"
        }
      ]
    },
    {
      "cell_type": "code",
      "metadata": {
        "id": "eSE1H1aBl6zQ",
        "colab_type": "code",
        "colab": {
          "base_uri": "https://localhost:8080/",
          "height": 289
        },
        "outputId": "bb115cad-3b8f-441f-c320-c55a7d47b529"
      },
      "source": [
        "LogReg_pipeline = Pipeline([\n",
        "                ('tfidf', TfidfVectorizer(stop_words=stop)),\n",
        "                ('clf', OneVsRestClassifier(LogisticRegression(solver='sag'), n_jobs=1)),\n",
        "            ])\n",
        "for category in categories:\n",
        "    print('... Processing {}'.format(category))\n",
        "    # train the model using X_dtm & y\n",
        "    LogReg_pipeline.fit(x_train, train[category])\n",
        "    # compute the testing accuracy\n",
        "    prediction = LogReg_pipeline.predict(x_test)\n",
        "    print('Test accuracy is {}'.format(accuracy_score(test[category], prediction)))"
      ],
      "execution_count": 86,
      "outputs": [
        {
          "output_type": "stream",
          "text": [
            "... Processing RestaurantsReservations\n",
            "Test accuracy is 0.8563829787234043\n",
            "... Processing RestaurantsGoodForGroups\n",
            "Test accuracy is 0.8421985815602837\n",
            "... Processing OutdoorSeating\n",
            "Test accuracy is 0.774822695035461\n",
            "... Processing RestaurantsTakeOut\n",
            "Test accuracy is 0.9060283687943262\n",
            "... Processing GoodForKids\n",
            "Test accuracy is 0.8953900709219859\n",
            "... Processing RestaurantsDelivery\n",
            "Test accuracy is 0.7588652482269503\n",
            "... Processing BikeParking\n",
            "Test accuracy is 0.9095744680851063\n",
            "... Processing Wifi\n",
            "Test accuracy is 0.7074468085106383\n"
          ],
          "name": "stdout"
        }
      ]
    },
    {
      "cell_type": "markdown",
      "metadata": {
        "id": "T6xu0NOr2sAN",
        "colab_type": "text"
      },
      "source": [
        "# References"
      ]
    },
    {
      "cell_type": "markdown",
      "metadata": {
        "id": "zqE-_4Qa2t6Q",
        "colab_type": "text"
      },
      "source": [
        "[Journey to the center of multi-label classification](https://towardsdatascience.com/journey-to-the-center-of-multi-label-classification-384c40229bff)"
      ]
    },
    {
      "cell_type": "markdown",
      "metadata": {
        "id": "MRYbbk94rDUc",
        "colab_type": "text"
      },
      "source": [
        "[Multi Label Text Classification with Scikit-Learn](https://towardsdatascience.com/multi-label-text-classification-with-scikit-learn-30714b7819c5)"
      ]
    }
  ]
}