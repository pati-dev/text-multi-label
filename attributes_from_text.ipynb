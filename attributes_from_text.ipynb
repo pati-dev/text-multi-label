{
  "nbformat": 4,
  "nbformat_minor": 0,
  "metadata": {
    "colab": {
      "name": "attributes-from-text.ipynb",
      "provenance": [],
      "collapsed_sections": [
        "uW1ofdxroCde",
        "T6xu0NOr2sAN"
      ],
      "machine_shape": "hm",
      "include_colab_link": true
    },
    "kernelspec": {
      "name": "python3",
      "display_name": "Python 3"
    },
    "accelerator": "GPU"
  },
  "cells": [
    {
      "cell_type": "markdown",
      "metadata": {
        "id": "view-in-github",
        "colab_type": "text"
      },
      "source": [
        "<a href=\"https://colab.research.google.com/github/pati-dev/text-multi-label/blob/master/attributes_from_text.ipynb\" target=\"_parent\"><img src=\"https://colab.research.google.com/assets/colab-badge.svg\" alt=\"Open In Colab\"/></a>"
      ]
    },
    {
      "cell_type": "markdown",
      "metadata": {
        "id": "o2vhYz2qqNzl",
        "colab_type": "text"
      },
      "source": [
        "# Boot"
      ]
    },
    {
      "cell_type": "code",
      "metadata": {
        "id": "XouXIoPAorWA",
        "colab_type": "code",
        "outputId": "356787a4-89b7-4fff-830d-27be07287cbf",
        "colab": {
          "base_uri": "https://localhost:8080/",
          "height": 139
        }
      },
      "source": [
        "!pip install scikit-multilearn\n",
        "\n",
        "%reload_ext tensorboard\n",
        "%tensorflow_version 2.x\n",
        "import datetime\n",
        "import pandas as pd\n",
        "import numpy as np\n",
        "import math\n",
        "\n",
        "import tensorflow as tf\n",
        "from sklearn.model_selection import train_test_split\n",
        "from sklearn.metrics import accuracy_score\n",
        "from sklearn.feature_extraction.text import TfidfVectorizer\n",
        "from sklearn.linear_model import LogisticRegression\n",
        "from sklearn.pipeline import Pipeline\n",
        "from sklearn.multiclass import OneVsRestClassifier\n",
        "from skmultilearn.problem_transform import BinaryRelevance\n",
        "from sklearn.naive_bayes import GaussianNB\n",
        "from skmultilearn.adapt import MLkNN\n",
        "from scipy.sparse import csr_matrix, lil_matrix\n",
        "\n",
        "import gensim\n",
        "\n",
        "import matplotlib.pyplot as plt\n",
        "from wordcloud import WordCloud,STOPWORDS"
      ],
      "execution_count": 1,
      "outputs": [
        {
          "output_type": "stream",
          "text": [
            "Collecting scikit-multilearn\n",
            "\u001b[?25l  Downloading https://files.pythonhosted.org/packages/bb/1f/e6ff649c72a1cdf2c7a1d31eb21705110ce1c5d3e7e26b2cc300e1637272/scikit_multilearn-0.2.0-py3-none-any.whl (89kB)\n",
            "\r\u001b[K     |███▊                            | 10kB 26.4MB/s eta 0:00:01\r\u001b[K     |███████▍                        | 20kB 1.8MB/s eta 0:00:01\r\u001b[K     |███████████                     | 30kB 2.6MB/s eta 0:00:01\r\u001b[K     |██████████████▊                 | 40kB 1.7MB/s eta 0:00:01\r\u001b[K     |██████████████████▍             | 51kB 2.1MB/s eta 0:00:01\r\u001b[K     |██████████████████████          | 61kB 2.5MB/s eta 0:00:01\r\u001b[K     |█████████████████████████▊      | 71kB 2.9MB/s eta 0:00:01\r\u001b[K     |█████████████████████████████▍  | 81kB 3.3MB/s eta 0:00:01\r\u001b[K     |████████████████████████████████| 92kB 2.9MB/s \n",
            "\u001b[?25hInstalling collected packages: scikit-multilearn\n",
            "Successfully installed scikit-multilearn-0.2.0\n",
            "TensorFlow 2.x selected.\n"
          ],
          "name": "stdout"
        }
      ]
    },
    {
      "cell_type": "code",
      "metadata": {
        "id": "PdgopM6BpPiV",
        "colab_type": "code",
        "outputId": "30102a0f-bb9b-4e0b-c2e0-ce515db9d179",
        "colab": {
          "base_uri": "https://localhost:8080/",
          "height": 122
        }
      },
      "source": [
        "from google.colab import drive\n",
        "drive.mount('/content/drive')"
      ],
      "execution_count": 2,
      "outputs": [
        {
          "output_type": "stream",
          "text": [
            "Go to this URL in a browser: https://accounts.google.com/o/oauth2/auth?client_id=947318989803-6bn6qk8qdgf4n4g3pfee6491hc0brc4i.apps.googleusercontent.com&redirect_uri=urn%3aietf%3awg%3aoauth%3a2.0%3aoob&response_type=code&scope=email%20https%3a%2f%2fwww.googleapis.com%2fauth%2fdocs.test%20https%3a%2f%2fwww.googleapis.com%2fauth%2fdrive%20https%3a%2f%2fwww.googleapis.com%2fauth%2fdrive.photos.readonly%20https%3a%2f%2fwww.googleapis.com%2fauth%2fpeopleapi.readonly\n",
            "\n",
            "Enter your authorization code:\n",
            "··········\n",
            "Mounted at /content/drive\n"
          ],
          "name": "stdout"
        }
      ]
    },
    {
      "cell_type": "code",
      "metadata": {
        "id": "3K1lPtY66BLa",
        "colab_type": "code",
        "colab": {
          "base_uri": "https://localhost:8080/",
          "height": 598
        },
        "outputId": "bacabdb4-e91d-4424-c44a-68c9b4b77482"
      },
      "source": [
        "finalDF = pd.read_csv('/content/drive/My Drive/Search Project/finalDF.csv')\n",
        "finalDF.head()"
      ],
      "execution_count": 3,
      "outputs": [
        {
          "output_type": "execute_result",
          "data": {
            "text/html": [
              "<div>\n",
              "<style scoped>\n",
              "    .dataframe tbody tr th:only-of-type {\n",
              "        vertical-align: middle;\n",
              "    }\n",
              "\n",
              "    .dataframe tbody tr th {\n",
              "        vertical-align: top;\n",
              "    }\n",
              "\n",
              "    .dataframe thead th {\n",
              "        text-align: right;\n",
              "    }\n",
              "</style>\n",
              "<table border=\"1\" class=\"dataframe\">\n",
              "  <thead>\n",
              "    <tr style=\"text-align: right;\">\n",
              "      <th></th>\n",
              "      <th>business_id</th>\n",
              "      <th>text</th>\n",
              "      <th>RestaurantsReservations</th>\n",
              "      <th>RestaurantsGoodForGroups</th>\n",
              "      <th>OutdoorSeating</th>\n",
              "      <th>RestaurantsTakeOut</th>\n",
              "      <th>GoodForKids</th>\n",
              "      <th>RestaurantsDelivery</th>\n",
              "      <th>BikeParking</th>\n",
              "      <th>Wifi</th>\n",
              "    </tr>\n",
              "  </thead>\n",
              "  <tbody>\n",
              "    <tr>\n",
              "      <th>0</th>\n",
              "      <td>-7BCZH437U5FjmNJ26llkg</td>\n",
              "      <td>this is a nice destination especially for thos...</td>\n",
              "      <td>True</td>\n",
              "      <td>True</td>\n",
              "      <td>False</td>\n",
              "      <td>True</td>\n",
              "      <td>True</td>\n",
              "      <td>True</td>\n",
              "      <td>True</td>\n",
              "      <td>True</td>\n",
              "    </tr>\n",
              "    <tr>\n",
              "      <th>1</th>\n",
              "      <td>-9u2uFwhlj3Yq4mG5IweoA</td>\n",
              "      <td>i am not sure what to think of this place hips...</td>\n",
              "      <td>True</td>\n",
              "      <td>False</td>\n",
              "      <td>False</td>\n",
              "      <td>True</td>\n",
              "      <td>False</td>\n",
              "      <td>True</td>\n",
              "      <td>True</td>\n",
              "      <td>False</td>\n",
              "    </tr>\n",
              "    <tr>\n",
              "      <th>2</th>\n",
              "      <td>-BbnAc9YEO6pjvJGEtFbVQ</td>\n",
              "      <td>lovely little place for ramen amongst the many...</td>\n",
              "      <td>False</td>\n",
              "      <td>True</td>\n",
              "      <td>False</td>\n",
              "      <td>True</td>\n",
              "      <td>True</td>\n",
              "      <td>False</td>\n",
              "      <td>True</td>\n",
              "      <td>False</td>\n",
              "    </tr>\n",
              "    <tr>\n",
              "      <th>3</th>\n",
              "      <td>-CLTZ0cO-ooKDDmXHFoGMg</td>\n",
              "      <td>this was a planned visit as we were visiting a...</td>\n",
              "      <td>False</td>\n",
              "      <td>False</td>\n",
              "      <td>False</td>\n",
              "      <td>True</td>\n",
              "      <td>True</td>\n",
              "      <td>True</td>\n",
              "      <td>True</td>\n",
              "      <td>False</td>\n",
              "    </tr>\n",
              "    <tr>\n",
              "      <th>4</th>\n",
              "      <td>-EX_qttyhm5YNb8NWtAcCQ</td>\n",
              "      <td>fun little bar for some country music i would ...</td>\n",
              "      <td>False</td>\n",
              "      <td>True</td>\n",
              "      <td>False</td>\n",
              "      <td>True</td>\n",
              "      <td>False</td>\n",
              "      <td>False</td>\n",
              "      <td>True</td>\n",
              "      <td>False</td>\n",
              "    </tr>\n",
              "  </tbody>\n",
              "</table>\n",
              "</div>"
            ],
            "text/plain": [
              "              business_id  ...   Wifi\n",
              "0  -7BCZH437U5FjmNJ26llkg  ...   True\n",
              "1  -9u2uFwhlj3Yq4mG5IweoA  ...  False\n",
              "2  -BbnAc9YEO6pjvJGEtFbVQ  ...  False\n",
              "3  -CLTZ0cO-ooKDDmXHFoGMg  ...  False\n",
              "4  -EX_qttyhm5YNb8NWtAcCQ  ...  False\n",
              "\n",
              "[5 rows x 10 columns]"
            ]
          },
          "metadata": {
            "tags": []
          },
          "execution_count": 3
        }
      ]
    },
    {
      "cell_type": "markdown",
      "metadata": {
        "id": "uW1ofdxroCde",
        "colab_type": "text"
      },
      "source": [
        "# Word Clouds"
      ]
    },
    {
      "cell_type": "code",
      "metadata": {
        "id": "qKOBNbeBoCLg",
        "colab_type": "code",
        "colab": {}
      },
      "source": [
        "plt.figure(figsize=(40,25))\n",
        "\n",
        "# RestaurantsReservations\n",
        "subset = finalDF[finalDF.RestaurantsReservations==True]\n",
        "text = subset.text.values\n",
        "cloud = WordCloud(\n",
        "                          stopwords=STOPWORDS,\n",
        "                          background_color='black',\n",
        "                          collocations=False,\n",
        "                          width=2500,\n",
        "                          height=1800\n",
        "                         ).generate(\" \".join(text))\n",
        "plt.axis('off')\n",
        "plt.title(\"RestaurantsReservations\",fontsize=40)\n",
        "plt.imshow(cloud)"
      ],
      "execution_count": 0,
      "outputs": []
    },
    {
      "cell_type": "code",
      "metadata": {
        "id": "ynyqWPtlsigF",
        "colab_type": "code",
        "colab": {}
      },
      "source": [
        "plt.figure(figsize=(40,25))\n",
        "\n",
        "# RestaurantsGoodForGroups\n",
        "subset = finalDF[finalDF.RestaurantsGoodForGroups==True]\n",
        "text = subset.text.values\n",
        "cloud = WordCloud(\n",
        "                          stopwords=STOPWORDS,\n",
        "                          background_color='black',\n",
        "                          collocations=False,\n",
        "                          width=2500,\n",
        "                          height=1800\n",
        "                         ).generate(\" \".join(text))\n",
        "plt.axis('off')\n",
        "plt.title(\"RestaurantsGoodForGroups\",fontsize=40)\n",
        "plt.imshow(cloud)"
      ],
      "execution_count": 0,
      "outputs": []
    },
    {
      "cell_type": "code",
      "metadata": {
        "id": "MKFZBIPrtJnN",
        "colab_type": "code",
        "colab": {}
      },
      "source": [
        "plt.figure(figsize=(40,25))\n",
        "\n",
        "# OutdoorSeating\n",
        "subset = finalDF[finalDF.OutdoorSeating==True]\n",
        "text = subset.text.values\n",
        "cloud = WordCloud(\n",
        "                          stopwords=STOPWORDS,\n",
        "                          background_color='black',\n",
        "                          collocations=False,\n",
        "                          width=2500,\n",
        "                          height=1800\n",
        "                         ).generate(\" \".join(text))\n",
        "plt.axis('off')\n",
        "plt.title(\"OutdoorSeating\",fontsize=40)\n",
        "plt.imshow(cloud)"
      ],
      "execution_count": 0,
      "outputs": []
    },
    {
      "cell_type": "code",
      "metadata": {
        "id": "l7EZOv6Bthyu",
        "colab_type": "code",
        "colab": {}
      },
      "source": [
        "plt.figure(figsize=(40,25))\n",
        "\n",
        "# RestaurantsTakeOut\n",
        "subset = finalDF[finalDF.RestaurantsTakeOut==True]\n",
        "text = subset.text.values\n",
        "cloud = WordCloud(\n",
        "                          stopwords=STOPWORDS,\n",
        "                          background_color='black',\n",
        "                          collocations=False,\n",
        "                          width=2500,\n",
        "                          height=1800\n",
        "                         ).generate(\" \".join(text))\n",
        "plt.axis('off')\n",
        "plt.title(\"RestaurantsTakeOut\",fontsize=40)\n",
        "plt.imshow(cloud)"
      ],
      "execution_count": 0,
      "outputs": []
    },
    {
      "cell_type": "code",
      "metadata": {
        "id": "5o0aqW3Ytmd-",
        "colab_type": "code",
        "colab": {}
      },
      "source": [
        "plt.figure(figsize=(40,25))\n",
        "\n",
        "# GoodForKids\n",
        "subset = finalDF[finalDF.GoodForKids==True]\n",
        "text = subset.text.values\n",
        "cloud = WordCloud(\n",
        "                          stopwords=STOPWORDS,\n",
        "                          background_color='black',\n",
        "                          collocations=False,\n",
        "                          width=2500,\n",
        "                          height=1800\n",
        "                         ).generate(\" \".join(text))\n",
        "plt.axis('off')\n",
        "plt.title(\"GoodForKids\",fontsize=40)\n",
        "plt.imshow(cloud)"
      ],
      "execution_count": 0,
      "outputs": []
    },
    {
      "cell_type": "code",
      "metadata": {
        "id": "-IYrmUPct7Ks",
        "colab_type": "code",
        "colab": {}
      },
      "source": [
        "plt.figure(figsize=(40,25))\n",
        "\n",
        "# RestaurantsDelivery\n",
        "subset = finalDF[finalDF.RestaurantsDelivery==True]\n",
        "text = subset.text.values\n",
        "cloud = WordCloud(\n",
        "                          stopwords=STOPWORDS,\n",
        "                          background_color='black',\n",
        "                          collocations=False,\n",
        "                          width=2500,\n",
        "                          height=1800\n",
        "                         ).generate(\" \".join(text))\n",
        "plt.axis('off')\n",
        "plt.title(\"RestaurantsDelivery\",fontsize=40)\n",
        "plt.imshow(cloud)"
      ],
      "execution_count": 0,
      "outputs": []
    },
    {
      "cell_type": "code",
      "metadata": {
        "id": "nQskqiD8t_DF",
        "colab_type": "code",
        "colab": {}
      },
      "source": [
        "plt.figure(figsize=(40,25))\n",
        "\n",
        "# BikeParking\n",
        "subset = finalDF[finalDF.BikeParking==True]\n",
        "text = subset.text.values\n",
        "cloud = WordCloud(\n",
        "                          stopwords=STOPWORDS,\n",
        "                          background_color='black',\n",
        "                          collocations=False,\n",
        "                          width=2500,\n",
        "                          height=1800\n",
        "                         ).generate(\" \".join(text))\n",
        "plt.axis('off')\n",
        "plt.title(\"BikeParking\",fontsize=40)\n",
        "plt.imshow(cloud)"
      ],
      "execution_count": 0,
      "outputs": []
    },
    {
      "cell_type": "code",
      "metadata": {
        "id": "6ZVYFHv-uK48",
        "colab_type": "code",
        "colab": {}
      },
      "source": [
        "plt.figure(figsize=(40,25))\n",
        "\n",
        "# Wifi\n",
        "subset = finalDF[finalDF.Wifi==True]\n",
        "text = subset.text.values\n",
        "cloud = WordCloud(\n",
        "                          stopwords=STOPWORDS,\n",
        "                          background_color='black',\n",
        "                          collocations=False,\n",
        "                          width=2500,\n",
        "                          height=1800\n",
        "                         ).generate(\" \".join(text))\n",
        "plt.axis('off')\n",
        "plt.title(\"Wifi\",fontsize=40)\n",
        "plt.imshow(cloud)"
      ],
      "execution_count": 0,
      "outputs": []
    },
    {
      "cell_type": "markdown",
      "metadata": {
        "id": "I3nLwWZgwx6U",
        "colab_type": "text"
      },
      "source": [
        "# Data Preparation"
      ]
    },
    {
      "cell_type": "code",
      "metadata": {
        "id": "PKsOvJtjwgo2",
        "colab_type": "code",
        "colab": {
          "base_uri": "https://localhost:8080/",
          "height": 34
        },
        "outputId": "c2a5dd65-e851-42d4-aeb6-962230a5a33b"
      },
      "source": [
        "train, test = train_test_split(finalDF, test_size=0.30, shuffle=True)\n",
        "print(train.shape, test.shape)"
      ],
      "execution_count": 4,
      "outputs": [
        {
          "output_type": "stream",
          "text": [
            "(1316, 10) (564, 10)\n"
          ],
          "name": "stdout"
        }
      ]
    },
    {
      "cell_type": "markdown",
      "metadata": {
        "id": "Gt1F6B61xeXg",
        "colab_type": "text"
      },
      "source": [
        "## Method 1: TF-IDF using *sci-kit learn*"
      ]
    },
    {
      "cell_type": "code",
      "metadata": {
        "id": "sFO8ElRfu_Ol",
        "colab_type": "code",
        "colab": {
          "base_uri": "https://localhost:8080/",
          "height": 51
        },
        "outputId": "5dd95845-21ec-4e8b-83a8-04360e35159a"
      },
      "source": [
        "vectorizer = TfidfVectorizer(strip_accents='unicode', analyzer='word', ngram_range=(1,1), norm='l2')\n",
        "\n",
        "vectorizer.fit(train.text.values)\n",
        "vectorizer.fit(test.text.values)\n",
        "\n",
        "x_train = vectorizer.transform(train.text.values)\n",
        "y_train = train.drop(labels = ['business_id','text'], axis=1)\n",
        "\n",
        "x_test = vectorizer.transform(test.text.values)\n",
        "y_test = test.drop(labels = ['business_id','text'], axis=1)\n",
        "\n",
        "print(x_train.shape, y_train.shape)\n",
        "print(x_test.shape, y_test.shape)"
      ],
      "execution_count": 5,
      "outputs": [
        {
          "output_type": "stream",
          "text": [
            "(1316, 46631) (1316, 8)\n",
            "(564, 46631) (564, 8)\n"
          ],
          "name": "stdout"
        }
      ]
    },
    {
      "cell_type": "markdown",
      "metadata": {
        "id": "8LTtC2fw8xI0",
        "colab_type": "text"
      },
      "source": [
        "## Method 2: Tokenizer using *Keras*"
      ]
    },
    {
      "cell_type": "code",
      "metadata": {
        "id": "QU5-HwOX8yWk",
        "colab_type": "code",
        "colab": {
          "base_uri": "https://localhost:8080/",
          "height": 51
        },
        "outputId": "60ff5d7f-ba77-480d-f5c4-c25ffff3164b"
      },
      "source": [
        "NUM_WORDS = 20000\n",
        "SEQ_LEN = 5000\n",
        "\n",
        "tokenizer = tf.keras.preprocessing.text.Tokenizer(num_words=NUM_WORDS, lower=True)\n",
        "tokenizer.fit_on_texts(train.text.values)\n",
        "sequences = tokenizer.texts_to_sequences(train.text.values)\n",
        "x_train = tf.keras.preprocessing.sequence.pad_sequences(sequences, maxlen=SEQ_LEN)\n",
        "y_train = train.drop(labels = ['business_id','text'], axis=1)\n",
        "\n",
        "tokenizer = tf.keras.preprocessing.text.Tokenizer(num_words=NUM_WORDS, lower=True)\n",
        "tokenizer.fit_on_texts(test.text.values)\n",
        "sequences = tokenizer.texts_to_sequences(test.text.values)\n",
        "x_test = tf.keras.preprocessing.sequence.pad_sequences(sequences, maxlen=SEQ_LEN)\n",
        "y_test = test.drop(labels = ['business_id','text'], axis=1)\n",
        "\n",
        "print(x_train.shape, y_train.shape)\n",
        "print(x_test.shape, y_test.shape)"
      ],
      "execution_count": 11,
      "outputs": [
        {
          "output_type": "stream",
          "text": [
            "(1316, 5000) (1316, 8)\n",
            "(564, 5000) (564, 8)\n"
          ],
          "name": "stdout"
        }
      ]
    },
    {
      "cell_type": "markdown",
      "metadata": {
        "id": "2p9Y2oJ8_UTr",
        "colab_type": "text"
      },
      "source": [
        "## Method 3: Word2vec using *Gensim*"
      ]
    },
    {
      "cell_type": "code",
      "metadata": {
        "id": "EXXjm80jGVDj",
        "colab_type": "code",
        "colab": {
          "base_uri": "https://localhost:8080/",
          "height": 419
        },
        "outputId": "1b69d1b6-32e2-40cd-8794-e18bb0d79aea"
      },
      "source": [
        "y_train"
      ],
      "execution_count": 33,
      "outputs": [
        {
          "output_type": "execute_result",
          "data": {
            "text/html": [
              "<div>\n",
              "<style scoped>\n",
              "    .dataframe tbody tr th:only-of-type {\n",
              "        vertical-align: middle;\n",
              "    }\n",
              "\n",
              "    .dataframe tbody tr th {\n",
              "        vertical-align: top;\n",
              "    }\n",
              "\n",
              "    .dataframe thead th {\n",
              "        text-align: right;\n",
              "    }\n",
              "</style>\n",
              "<table border=\"1\" class=\"dataframe\">\n",
              "  <thead>\n",
              "    <tr style=\"text-align: right;\">\n",
              "      <th></th>\n",
              "      <th>RestaurantsReservations</th>\n",
              "      <th>RestaurantsGoodForGroups</th>\n",
              "      <th>OutdoorSeating</th>\n",
              "      <th>RestaurantsTakeOut</th>\n",
              "      <th>GoodForKids</th>\n",
              "      <th>RestaurantsDelivery</th>\n",
              "      <th>BikeParking</th>\n",
              "      <th>Wifi</th>\n",
              "    </tr>\n",
              "  </thead>\n",
              "  <tbody>\n",
              "    <tr>\n",
              "      <th>260</th>\n",
              "      <td>True</td>\n",
              "      <td>True</td>\n",
              "      <td>False</td>\n",
              "      <td>True</td>\n",
              "      <td>True</td>\n",
              "      <td>False</td>\n",
              "      <td>True</td>\n",
              "      <td>False</td>\n",
              "    </tr>\n",
              "    <tr>\n",
              "      <th>1500</th>\n",
              "      <td>True</td>\n",
              "      <td>True</td>\n",
              "      <td>True</td>\n",
              "      <td>True</td>\n",
              "      <td>False</td>\n",
              "      <td>False</td>\n",
              "      <td>True</td>\n",
              "      <td>False</td>\n",
              "    </tr>\n",
              "    <tr>\n",
              "      <th>933</th>\n",
              "      <td>True</td>\n",
              "      <td>True</td>\n",
              "      <td>False</td>\n",
              "      <td>True</td>\n",
              "      <td>True</td>\n",
              "      <td>True</td>\n",
              "      <td>True</td>\n",
              "      <td>False</td>\n",
              "    </tr>\n",
              "    <tr>\n",
              "      <th>1429</th>\n",
              "      <td>True</td>\n",
              "      <td>True</td>\n",
              "      <td>True</td>\n",
              "      <td>True</td>\n",
              "      <td>True</td>\n",
              "      <td>False</td>\n",
              "      <td>True</td>\n",
              "      <td>True</td>\n",
              "    </tr>\n",
              "    <tr>\n",
              "      <th>631</th>\n",
              "      <td>True</td>\n",
              "      <td>True</td>\n",
              "      <td>False</td>\n",
              "      <td>False</td>\n",
              "      <td>False</td>\n",
              "      <td>False</td>\n",
              "      <td>True</td>\n",
              "      <td>True</td>\n",
              "    </tr>\n",
              "    <tr>\n",
              "      <th>...</th>\n",
              "      <td>...</td>\n",
              "      <td>...</td>\n",
              "      <td>...</td>\n",
              "      <td>...</td>\n",
              "      <td>...</td>\n",
              "      <td>...</td>\n",
              "      <td>...</td>\n",
              "      <td>...</td>\n",
              "    </tr>\n",
              "    <tr>\n",
              "      <th>987</th>\n",
              "      <td>True</td>\n",
              "      <td>True</td>\n",
              "      <td>False</td>\n",
              "      <td>True</td>\n",
              "      <td>True</td>\n",
              "      <td>False</td>\n",
              "      <td>True</td>\n",
              "      <td>True</td>\n",
              "    </tr>\n",
              "    <tr>\n",
              "      <th>1011</th>\n",
              "      <td>True</td>\n",
              "      <td>True</td>\n",
              "      <td>True</td>\n",
              "      <td>True</td>\n",
              "      <td>True</td>\n",
              "      <td>False</td>\n",
              "      <td>True</td>\n",
              "      <td>True</td>\n",
              "    </tr>\n",
              "    <tr>\n",
              "      <th>1856</th>\n",
              "      <td>True</td>\n",
              "      <td>True</td>\n",
              "      <td>False</td>\n",
              "      <td>True</td>\n",
              "      <td>False</td>\n",
              "      <td>False</td>\n",
              "      <td>True</td>\n",
              "      <td>False</td>\n",
              "    </tr>\n",
              "    <tr>\n",
              "      <th>891</th>\n",
              "      <td>True</td>\n",
              "      <td>True</td>\n",
              "      <td>False</td>\n",
              "      <td>True</td>\n",
              "      <td>True</td>\n",
              "      <td>True</td>\n",
              "      <td>True</td>\n",
              "      <td>True</td>\n",
              "    </tr>\n",
              "    <tr>\n",
              "      <th>0</th>\n",
              "      <td>True</td>\n",
              "      <td>True</td>\n",
              "      <td>False</td>\n",
              "      <td>True</td>\n",
              "      <td>True</td>\n",
              "      <td>True</td>\n",
              "      <td>True</td>\n",
              "      <td>True</td>\n",
              "    </tr>\n",
              "  </tbody>\n",
              "</table>\n",
              "<p>1316 rows × 8 columns</p>\n",
              "</div>"
            ],
            "text/plain": [
              "      RestaurantsReservations  RestaurantsGoodForGroups  ...  BikeParking   Wifi\n",
              "260                      True                      True  ...         True  False\n",
              "1500                     True                      True  ...         True  False\n",
              "933                      True                      True  ...         True  False\n",
              "1429                     True                      True  ...         True   True\n",
              "631                      True                      True  ...         True   True\n",
              "...                       ...                       ...  ...          ...    ...\n",
              "987                      True                      True  ...         True   True\n",
              "1011                     True                      True  ...         True   True\n",
              "1856                     True                      True  ...         True  False\n",
              "891                      True                      True  ...         True   True\n",
              "0                        True                      True  ...         True   True\n",
              "\n",
              "[1316 rows x 8 columns]"
            ]
          },
          "metadata": {
            "tags": []
          },
          "execution_count": 33
        }
      ]
    },
    {
      "cell_type": "code",
      "metadata": {
        "id": "LEg0I97-_Uz3",
        "colab_type": "code",
        "colab": {
          "base_uri": "https://localhost:8080/",
          "height": 377
        },
        "outputId": "4408bbd7-bcb2-48b5-f56f-d1f5ae1cb8ac"
      },
      "source": [
        "NUM_WORDS = 10000\n",
        "SEQ_LEN = 999\n",
        "\n",
        "def word2idx(word):\n",
        "  return w2v_model.wv.vocab[word].index\n",
        "def idx2word(idx):\n",
        "  return w2v_model.wv.index2word[idx]\n",
        "\n",
        "# Train data\n",
        "sentences = [[word for word in txt.lower().split()[:NUM_WORDS]] for txt in train.text.values]\n",
        "w2v_model = gensim.models.Word2Vec(sentences, size=SEQ_LEN, window=5, min_count=5, workers=4)\n",
        "\n",
        "pretrained_weights = w2v_model.wv.vectors\n",
        "vocab_size, emdedding_size = pretrained_weights.shape\n",
        "print('Result train embedding shape:', pretrained_weights.shape)\n",
        "\n",
        "print('\\nPreparing train data for modeling...')\n",
        "x_train = np.zeros([len(sentences), NUM_WORDS], dtype=np.int32)\n",
        "for i, sentence in enumerate(sentences):\n",
        "  for t, word in enumerate(sentence[:-1]):\n",
        "    if word in w2v_model.wv.vocab:\n",
        "      x_train[i, t] = word2idx(word)\n",
        "\n",
        "print('Checking similar words for train model:')\n",
        "for word in ['friendly', 'cheap', 'delicious', 'chicken', 'pasta']:\n",
        "  most_similar = ', '.join('%s (%.2f)' % (similar, dist) for similar, dist in w2v_model.wv.most_similar(word)[:8])\n",
        "  print('  %s -> %s' % (word, most_similar))\n",
        "\n",
        "# Test data\n",
        "sentences = [[word for word in txt.lower().split()[:NUM_WORDS]] for txt in test.text.values]\n",
        "w2v_model = gensim.models.Word2Vec(sentences, size=SEQ_LEN, window=5, min_count=5, workers=4)\n",
        "\n",
        "pretrained_weights = w2v_model.wv.vectors\n",
        "vocab_size, emdedding_size = pretrained_weights.shape\n",
        "print('Result test embedding shape:', pretrained_weights.shape)\n",
        "\n",
        "print('\\nPreparing test data for modeling...')\n",
        "x_test = np.zeros([len(sentences), NUM_WORDS], dtype=np.int32)\n",
        "for i, sentence in enumerate(sentences):\n",
        "  for t, word in enumerate(sentence[:-1]):\n",
        "    if word in w2v_model.wv.vocab:\n",
        "      x_test[i, t] = word2idx(word)\n",
        "\n",
        "print('Checking similar words for test model:')\n",
        "for word in ['friendly', 'cheap', 'delicious', 'chicken', 'pasta']:\n",
        "  most_similar = ', '.join('%s (%.2f)' % (similar, dist) for similar, dist in w2v_model.wv.most_similar(word)[:8])\n",
        "  print('  %s -> %s' % (word, most_similar))\n",
        "\n",
        "y_test = train.drop(labels = ['business_id','text'], axis=1)\n",
        "y_test = train.drop(labels = ['business_id','text'], axis=1)\n",
        "\n",
        "print(x_train.shape, y_train.shape)\n",
        "print(x_test.shape, y_test.shape)"
      ],
      "execution_count": 20,
      "outputs": [
        {
          "output_type": "stream",
          "text": [
            "Result train embedding shape: (21311, 999)\n",
            "\n",
            "Preparing train data for modeling...\n",
            "Checking similar words for train model:\n",
            "  friendly -> courteous (0.77), polite (0.73), personable (0.72), attentive (0.71), efficient (0.67), welcoming (0.67), professional (0.66), cheerful (0.65)\n",
            "  cheap -> inexpensive (0.72), affordable (0.66), expensive (0.60), reasonable (0.53), pricey (0.49), reliable (0.49), bargain (0.49), healthy (0.49)\n",
            "  delicious -> tasty (0.83), yummy (0.81), delish (0.80), scrumptious (0.73), amazing (0.72), divine (0.72), phenomenal (0.70), fantastic (0.68)\n",
            "  chicken -> seitan (0.70), paneer (0.65), oxtail (0.63), gobi (0.60), eggplant (0.59), chana (0.59), goreng (0.58), cauliflower (0.57)\n",
            "  pasta -> spaghetti (0.71), risotto (0.70), bolognese (0.70), gnocchi (0.69), carbonara (0.68), rigatoni (0.68), linguine (0.67), fettuccine (0.66)\n"
          ],
          "name": "stdout"
        },
        {
          "output_type": "stream",
          "text": [
            "/usr/local/lib/python3.6/dist-packages/gensim/matutils.py:737: FutureWarning: Conversion of the second argument of issubdtype from `int` to `np.signedinteger` is deprecated. In future, it will be treated as `np.int64 == np.dtype(int).type`.\n",
            "  if np.issubdtype(vec.dtype, np.int):\n"
          ],
          "name": "stderr"
        },
        {
          "output_type": "stream",
          "text": [
            "Result test embedding shape: (14171, 999)\n",
            "\n",
            "Preparing test data for modeling...\n",
            "Checking similar words for test model:\n",
            "  friendly -> efficient (0.80), courteous (0.80), attentive (0.79), polite (0.78), prompt (0.73), accommodating (0.73), professional (0.72), helpful (0.71)\n",
            "  cheap -> affordable (0.68), inexpensive (0.65), expensive (0.58), reasonable (0.56), value (0.55), healthy (0.55), reliable (0.54), priced (0.53)\n",
            "  delicious -> yummy (0.82), tasty (0.81), delish (0.79), incredible (0.72), amazing (0.70), fantastic (0.68), phenomenal (0.65), divine (0.65)\n",
            "  chicken -> paneer (0.66), roti (0.64), chix (0.58), oxtail (0.58), cauliflower (0.57), deep (0.56), lamb (0.55), calamari (0.54)\n",
            "  pasta -> spaghetti (0.75), risotto (0.75), carbonara (0.73), gnocchi (0.71), ravioli (0.65), funghi (0.65), penne (0.65), bolognese (0.64)\n"
          ],
          "name": "stdout"
        }
      ]
    },
    {
      "cell_type": "markdown",
      "metadata": {
        "id": "Lhn2TVWI-yrH",
        "colab_type": "text"
      },
      "source": [
        "# Modeling"
      ]
    },
    {
      "cell_type": "markdown",
      "metadata": {
        "id": "DSkyhbiDu4ry",
        "colab_type": "text"
      },
      "source": [
        "## Model 1: One vs. Rest"
      ]
    },
    {
      "cell_type": "code",
      "metadata": {
        "id": "yrdP-G42xdq0",
        "colab_type": "code",
        "colab": {
          "base_uri": "https://localhost:8080/",
          "height": 561
        },
        "outputId": "11da962a-5856-4973-c980-1e254475bddb"
      },
      "source": [
        "categories = ['RestaurantsReservations',\n",
        "       'RestaurantsGoodForGroups', 'OutdoorSeating', 'RestaurantsTakeOut',\n",
        "       'GoodForKids', 'RestaurantsDelivery', 'BikeParking', 'Wifi']\n",
        "# Using pipeline for applying logistic regression and one vs rest classifier\n",
        "LogReg_pipeline = Pipeline([\n",
        "                ('clf', OneVsRestClassifier(LogisticRegression(solver='sag'), n_jobs=-1)),\n",
        "            ])\n",
        "for category in categories:\n",
        "    print('**Processing {} comments...**'.format(category))\n",
        "    \n",
        "    # Training logistic regression model on train data\n",
        "    LogReg_pipeline.fit(x_train, train[category])\n",
        "    \n",
        "    # calculating test accuracy\n",
        "    prediction = LogReg_pipeline.predict(x_test)\n",
        "    print('Test accuracy is {}'.format(accuracy_score(test[category], prediction)))\n",
        "    print(\"\\n\")"
      ],
      "execution_count": 21,
      "outputs": [
        {
          "output_type": "stream",
          "text": [
            "**Processing RestaurantsReservations comments...**\n",
            "Test accuracy is 0.549645390070922\n",
            "\n",
            "\n",
            "**Processing RestaurantsGoodForGroups comments...**\n",
            "Test accuracy is 0.8563829787234043\n",
            "\n",
            "\n",
            "**Processing OutdoorSeating comments...**\n",
            "Test accuracy is 0.5709219858156028\n",
            "\n",
            "\n",
            "**Processing RestaurantsTakeOut comments...**\n",
            "Test accuracy is 0.9042553191489362\n",
            "\n",
            "\n",
            "**Processing GoodForKids comments...**\n",
            "Test accuracy is 0.7039007092198581\n",
            "\n",
            "\n",
            "**Processing RestaurantsDelivery comments...**\n",
            "Test accuracy is 0.7304964539007093\n",
            "\n",
            "\n",
            "**Processing BikeParking comments...**\n",
            "Test accuracy is 0.8865248226950354\n",
            "\n",
            "\n",
            "**Processing Wifi comments...**\n",
            "Test accuracy is 0.5088652482269503\n",
            "\n",
            "\n"
          ],
          "name": "stdout"
        }
      ]
    },
    {
      "cell_type": "markdown",
      "metadata": {
        "id": "tsbjkegbyY3u",
        "colab_type": "text"
      },
      "source": [
        "## Model 2: Binary Relevance"
      ]
    },
    {
      "cell_type": "code",
      "metadata": {
        "id": "OOvREX50yU5l",
        "colab_type": "code",
        "colab": {
          "base_uri": "https://localhost:8080/",
          "height": 34
        },
        "outputId": "cbe742ad-83d9-4731-d4af-84e2903a7ab5"
      },
      "source": [
        "# initialize binary relevance multi-label classifier\n",
        "# with a gaussian naive bayes base classifier\n",
        "classifier = BinaryRelevance(GaussianNB())\n",
        "# train\n",
        "classifier.fit(x_train, y_train)\n",
        "# predict\n",
        "predictions = classifier.predict(x_test)\n",
        "# accuracy\n",
        "print(\"Accuracy = \", accuracy_score(y_test,predictions))"
      ],
      "execution_count": 22,
      "outputs": [
        {
          "output_type": "stream",
          "text": [
            "Accuracy =  0.02127659574468085\n"
          ],
          "name": "stdout"
        }
      ]
    },
    {
      "cell_type": "markdown",
      "metadata": {
        "id": "Bqt1edHgysUC",
        "colab_type": "text"
      },
      "source": [
        "## Model 3: Multi-label KNN (ML-KNN)"
      ]
    },
    {
      "cell_type": "code",
      "metadata": {
        "id": "Nu7HBguCy9do",
        "colab_type": "code",
        "colab": {}
      },
      "source": [
        "classifier_new = MLkNN(k=10)\n",
        "# Note that this classifier can throw up errors when handling sparse matrices.\n",
        "lil_x_train = lil_matrix(x_train).toarray()\n",
        "lil_y_train = lil_matrix(y_train).toarray()\n",
        "lil_x_test = lil_matrix(x_test).toarray()\n",
        "# train\n",
        "classifier_new.fit(lil_x_train, lil_y_train)\n",
        "# predict\n",
        "predictions_new = classifier_new.predict(lil_x_test)\n",
        "# accuracy\n",
        "print(\"Accuracy = \",accuracy_score(y_test,predictions_new))\n",
        "print(\"\\n\")"
      ],
      "execution_count": 0,
      "outputs": []
    },
    {
      "cell_type": "markdown",
      "metadata": {
        "id": "GJpqehpu-uaZ",
        "colab_type": "text"
      },
      "source": [
        "## Model 4: Neural Network"
      ]
    },
    {
      "cell_type": "code",
      "metadata": {
        "id": "mK1f10Ne-673",
        "colab_type": "code",
        "colab": {
          "base_uri": "https://localhost:8080/",
          "height": 357
        },
        "outputId": "0dc6094b-0232-4dc2-e78f-62faf5e09f2c"
      },
      "source": [
        "tf.keras.backend.clear_session()\n",
        "\n",
        "model = tf.keras.models.Sequential()\n",
        "\n",
        "model.add(tf.keras.layers.Embedding(input_dim=21311, \n",
        "                                    output_dim=100, \n",
        "                                    # input_length=seq_len,\n",
        "                                    dtype='float32'))\n",
        "# model.add(tf.keras.layers.Dropout(0.1))\n",
        "\n",
        "model.add(tf.keras.layers.LSTM(units=32))\n",
        "model.add(tf.keras.layers.LayerNormalization())\n",
        "# model.add(tf.keras.layers.Dropout(0.1))\n",
        "\n",
        "# model.add(tf.keras.layers.Conv1D(filters=32, \n",
        "#                                  kernel_size=2,\n",
        "#                                  strides=1,\n",
        "#                                  activation='relu'))\n",
        "# model.add(tf.keras.layers.BatchNormalization())\n",
        "# model.add(tf.keras.layers.Flatten())\n",
        "\n",
        "# model.add(tf.keras.layers.Dense(units=1024, \n",
        "#                                activation='relu'))\n",
        "# model.add(tf.keras.layers.BatchNormalization())\n",
        "# model.add(tf.keras.layers.Dropout(0.1))\n",
        "\n",
        "model.add(tf.keras.layers.Dense(units=32, \n",
        "                               activation='relu'))\n",
        "model.add(tf.keras.layers.BatchNormalization())\n",
        "# model.add(tf.keras.layers.Dropout(0.3))\n",
        "\n",
        "model.add(tf.keras.layers.Dense(units=y_train.shape[1], \n",
        "                               activation='sigmoid'))\n",
        "\n",
        "model.summary()"
      ],
      "execution_count": 26,
      "outputs": [
        {
          "output_type": "stream",
          "text": [
            "Model: \"sequential\"\n",
            "_________________________________________________________________\n",
            "Layer (type)                 Output Shape              Param #   \n",
            "=================================================================\n",
            "embedding (Embedding)        (None, None, 100)         2131100   \n",
            "_________________________________________________________________\n",
            "lstm (LSTM)                  (None, 32)                17024     \n",
            "_________________________________________________________________\n",
            "layer_normalization (LayerNo (None, 32)                64        \n",
            "_________________________________________________________________\n",
            "dense (Dense)                (None, 32)                1056      \n",
            "_________________________________________________________________\n",
            "batch_normalization (BatchNo (None, 32)                128       \n",
            "_________________________________________________________________\n",
            "dense_1 (Dense)              (None, 8)                 264       \n",
            "=================================================================\n",
            "Total params: 2,149,636\n",
            "Trainable params: 2,149,572\n",
            "Non-trainable params: 64\n",
            "_________________________________________________________________\n"
          ],
          "name": "stdout"
        }
      ]
    },
    {
      "cell_type": "code",
      "metadata": {
        "id": "FfGbDKV6GGDl",
        "colab_type": "code",
        "colab": {
          "base_uri": "https://localhost:8080/",
          "height": 34
        },
        "outputId": "b688eff4-44c1-4b30-c2c0-59362c7bcc8c"
      },
      "source": [
        "type(y_train)"
      ],
      "execution_count": 32,
      "outputs": [
        {
          "output_type": "execute_result",
          "data": {
            "text/plain": [
              "pandas.core.frame.DataFrame"
            ]
          },
          "metadata": {
            "tags": []
          },
          "execution_count": 32
        }
      ]
    },
    {
      "cell_type": "code",
      "metadata": {
        "id": "Ye3N0ktiFtFL",
        "colab_type": "code",
        "colab": {
          "base_uri": "https://localhost:8080/",
          "height": 341
        },
        "outputId": "fde9f091-b7ed-4099-91ef-f9c655c4c656"
      },
      "source": [
        "model.compile(optimizer=tf.keras.optimizers.Adam(0.001), loss='binary_crossentropy', metrics=['categorical_accuracy'])\n",
        "model.fit(x_train, \n",
        "          y_train,\n",
        "          epochs=20,\n",
        "          batch_size=32)"
      ],
      "execution_count": 30,
      "outputs": [
        {
          "output_type": "error",
          "ename": "ValueError",
          "evalue": "ignored",
          "traceback": [
            "\u001b[0;31m---------------------------------------------------------------------------\u001b[0m",
            "\u001b[0;31mValueError\u001b[0m                                Traceback (most recent call last)",
            "\u001b[0;32m<ipython-input-30-534ea6f7db2a>\u001b[0m in \u001b[0;36m<module>\u001b[0;34m()\u001b[0m\n\u001b[1;32m      3\u001b[0m           \u001b[0my_train\u001b[0m\u001b[0;34m,\u001b[0m\u001b[0;34m\u001b[0m\u001b[0;34m\u001b[0m\u001b[0m\n\u001b[1;32m      4\u001b[0m           \u001b[0mepochs\u001b[0m\u001b[0;34m=\u001b[0m\u001b[0;36m20\u001b[0m\u001b[0;34m,\u001b[0m\u001b[0;34m\u001b[0m\u001b[0;34m\u001b[0m\u001b[0m\n\u001b[0;32m----> 5\u001b[0;31m           batch_size=32)\n\u001b[0m",
            "\u001b[0;32m/tensorflow-2.0.0/python3.6/tensorflow_core/python/keras/engine/training.py\u001b[0m in \u001b[0;36mfit\u001b[0;34m(self, x, y, batch_size, epochs, verbose, callbacks, validation_split, validation_data, shuffle, class_weight, sample_weight, initial_epoch, steps_per_epoch, validation_steps, validation_freq, max_queue_size, workers, use_multiprocessing, **kwargs)\u001b[0m\n\u001b[1;32m    726\u001b[0m         \u001b[0mmax_queue_size\u001b[0m\u001b[0;34m=\u001b[0m\u001b[0mmax_queue_size\u001b[0m\u001b[0;34m,\u001b[0m\u001b[0;34m\u001b[0m\u001b[0;34m\u001b[0m\u001b[0m\n\u001b[1;32m    727\u001b[0m         \u001b[0mworkers\u001b[0m\u001b[0;34m=\u001b[0m\u001b[0mworkers\u001b[0m\u001b[0;34m,\u001b[0m\u001b[0;34m\u001b[0m\u001b[0;34m\u001b[0m\u001b[0m\n\u001b[0;32m--> 728\u001b[0;31m         use_multiprocessing=use_multiprocessing)\n\u001b[0m\u001b[1;32m    729\u001b[0m \u001b[0;34m\u001b[0m\u001b[0m\n\u001b[1;32m    730\u001b[0m   def evaluate(self,\n",
            "\u001b[0;32m/tensorflow-2.0.0/python3.6/tensorflow_core/python/keras/engine/training_v2.py\u001b[0m in \u001b[0;36mfit\u001b[0;34m(self, model, x, y, batch_size, epochs, verbose, callbacks, validation_split, validation_data, shuffle, class_weight, sample_weight, initial_epoch, steps_per_epoch, validation_steps, validation_freq, **kwargs)\u001b[0m\n\u001b[1;32m    222\u001b[0m           \u001b[0mvalidation_data\u001b[0m\u001b[0;34m=\u001b[0m\u001b[0mvalidation_data\u001b[0m\u001b[0;34m,\u001b[0m\u001b[0;34m\u001b[0m\u001b[0;34m\u001b[0m\u001b[0m\n\u001b[1;32m    223\u001b[0m           \u001b[0mvalidation_steps\u001b[0m\u001b[0;34m=\u001b[0m\u001b[0mvalidation_steps\u001b[0m\u001b[0;34m,\u001b[0m\u001b[0;34m\u001b[0m\u001b[0;34m\u001b[0m\u001b[0m\n\u001b[0;32m--> 224\u001b[0;31m           distribution_strategy=strategy)\n\u001b[0m\u001b[1;32m    225\u001b[0m \u001b[0;34m\u001b[0m\u001b[0m\n\u001b[1;32m    226\u001b[0m       \u001b[0mtotal_samples\u001b[0m \u001b[0;34m=\u001b[0m \u001b[0m_get_total_number_of_samples\u001b[0m\u001b[0;34m(\u001b[0m\u001b[0mtraining_data_adapter\u001b[0m\u001b[0;34m)\u001b[0m\u001b[0;34m\u001b[0m\u001b[0;34m\u001b[0m\u001b[0m\n",
            "\u001b[0;32m/tensorflow-2.0.0/python3.6/tensorflow_core/python/keras/engine/training_v2.py\u001b[0m in \u001b[0;36m_process_training_inputs\u001b[0;34m(model, x, y, batch_size, epochs, sample_weights, class_weights, steps_per_epoch, validation_split, validation_data, validation_steps, shuffle, distribution_strategy, max_queue_size, workers, use_multiprocessing)\u001b[0m\n\u001b[1;32m    495\u001b[0m                      'at same time.')\n\u001b[1;32m    496\u001b[0m \u001b[0;34m\u001b[0m\u001b[0m\n\u001b[0;32m--> 497\u001b[0;31m   \u001b[0madapter_cls\u001b[0m \u001b[0;34m=\u001b[0m \u001b[0mdata_adapter\u001b[0m\u001b[0;34m.\u001b[0m\u001b[0mselect_data_adapter\u001b[0m\u001b[0;34m(\u001b[0m\u001b[0mx\u001b[0m\u001b[0;34m,\u001b[0m \u001b[0my\u001b[0m\u001b[0;34m)\u001b[0m\u001b[0;34m\u001b[0m\u001b[0;34m\u001b[0m\u001b[0m\n\u001b[0m\u001b[1;32m    498\u001b[0m \u001b[0;34m\u001b[0m\u001b[0m\n\u001b[1;32m    499\u001b[0m   \u001b[0;31m# Handle validation_split, we want to split the data and get the training\u001b[0m\u001b[0;34m\u001b[0m\u001b[0;34m\u001b[0m\u001b[0;34m\u001b[0m\u001b[0m\n",
            "\u001b[0;32m/tensorflow-2.0.0/python3.6/tensorflow_core/python/keras/engine/data_adapter.py\u001b[0m in \u001b[0;36mselect_data_adapter\u001b[0;34m(x, y)\u001b[0m\n\u001b[1;32m    651\u001b[0m         \u001b[0;34m\"Failed to find data adapter that can handle \"\u001b[0m\u001b[0;34m\u001b[0m\u001b[0;34m\u001b[0m\u001b[0m\n\u001b[1;32m    652\u001b[0m         \"input: {}, {}\".format(\n\u001b[0;32m--> 653\u001b[0;31m             _type_name(x), _type_name(y)))\n\u001b[0m\u001b[1;32m    654\u001b[0m   \u001b[0;32melif\u001b[0m \u001b[0mlen\u001b[0m\u001b[0;34m(\u001b[0m\u001b[0madapter_cls\u001b[0m\u001b[0;34m)\u001b[0m \u001b[0;34m>\u001b[0m \u001b[0;36m1\u001b[0m\u001b[0;34m:\u001b[0m\u001b[0;34m\u001b[0m\u001b[0;34m\u001b[0m\u001b[0m\n\u001b[1;32m    655\u001b[0m     raise RuntimeError(\n",
            "\u001b[0;31mValueError\u001b[0m: Failed to find data adapter that can handle input: <class 'numpy.ndarray'>, <class 'pandas.core.frame.DataFrame'>"
          ]
        }
      ]
    },
    {
      "cell_type": "markdown",
      "metadata": {
        "id": "eOnOFRxJn70O",
        "colab_type": "text"
      },
      "source": [
        "# Neural Network"
      ]
    },
    {
      "cell_type": "markdown",
      "metadata": {
        "id": "0wXU6Oz7dDgN",
        "colab_type": "text"
      },
      "source": [
        "Create text to sequence matrices"
      ]
    },
    {
      "cell_type": "code",
      "metadata": {
        "id": "w-Uao0GTIeQ7",
        "colab_type": "code",
        "colab": {}
      },
      "source": [
        "MAX_SEQUENCE_LENGTH = 30\n",
        "MAX_NB_WORDS = 200000\n",
        "EMBEDDING_DIM = 300"
      ],
      "execution_count": 0,
      "outputs": []
    },
    {
      "cell_type": "code",
      "metadata": {
        "id": "wr9jWfbRaZQh",
        "colab_type": "code",
        "colab": {}
      },
      "source": [
        "# num_words = 200000\n",
        "# seq_len = 30\n",
        "\n",
        "tokenizer = tf.keras.preprocessing.text.Tokenizer(num_words=MAX_NB_WORDS)\n",
        "tokenizer.fit_on_texts(finalDF.text.values)\n",
        "sequences = tokenizer.texts_to_sequences(finalDF.text.values)\n",
        "x = tf.keras.preprocessing.sequence.pad_sequences(sequences, maxlen=seq_len)"
      ],
      "execution_count": 0,
      "outputs": []
    },
    {
      "cell_type": "code",
      "metadata": {
        "id": "F7k1NPAwj72J",
        "colab_type": "code",
        "colab": {}
      },
      "source": [
        "max_sentence_len = 500\n",
        "sentences = [[word for word in txt.lower().split()[:max_sentence_len]] for txt in finalDF.text]\n",
        "w2v_model = gensim.models.Word2Vec(sentences, size=200, window=5, min_count=5, workers=4)"
      ],
      "execution_count": 0,
      "outputs": []
    },
    {
      "cell_type": "code",
      "metadata": {
        "id": "aj_blMOFlt8r",
        "colab_type": "code",
        "colab": {
          "base_uri": "https://localhost:8080/",
          "height": 34
        },
        "outputId": "ec7d5d34-6c8d-4cde-a99d-55e140638812"
      },
      "source": [
        "pretrained_weights = w2v_model.wv.vectors\n",
        "vocab_size, emdedding_size = pretrained_weights.shape\n",
        "print('Result embedding shape:', pretrained_weights.shape)"
      ],
      "execution_count": 25,
      "outputs": [
        {
          "output_type": "stream",
          "text": [
            "Result embedding shape: (6660, 200)\n"
          ],
          "name": "stdout"
        }
      ]
    },
    {
      "cell_type": "code",
      "metadata": {
        "id": "sjB2_joMmx7C",
        "colab_type": "code",
        "colab": {
          "base_uri": "https://localhost:8080/",
          "height": 173
        },
        "outputId": "5d00b565-18e8-4775-88df-7c1cedbac25c"
      },
      "source": [
        "print('Checking similar words:')\n",
        "for word in ['friendly', 'cheap', 'delicious', 'chicken', 'pasta']:\n",
        "  most_similar = ', '.join('%s (%.2f)' % (similar, dist) for similar, dist in w2v_model.wv.most_similar(word)[:8])\n",
        "  print('  %s -> %s' % (word, most_similar))"
      ],
      "execution_count": 26,
      "outputs": [
        {
          "output_type": "stream",
          "text": [
            "Checking similar words:\n",
            "  friendly -> attentive (0.94), helpful (0.91), efficient (0.88), accommodating (0.86), polite (0.86), prompt (0.84), welcoming (0.83), pleasant (0.83)\n",
            "  cheap -> reasonable (0.77), value (0.76), price (0.75), prices (0.74), low (0.72), affordable (0.70), quality (0.69), especially (0.68)\n",
            "  delicious -> tasty (0.90), amazing (0.87), yummy (0.83), awesome (0.76), incredible (0.76), fantastic (0.76), fresh (0.76), excellent (0.74)\n",
            "  chicken -> pork (0.87), beef (0.87), roti (0.83), soup (0.83), curry (0.83), poutine (0.82), sandwich (0.81), fried (0.80)\n",
            "  pasta -> duck (0.90), seafood (0.90), risotto (0.88), lamb (0.88), lobster (0.87), tuna (0.87), curry (0.87), octopus (0.87)\n"
          ],
          "name": "stdout"
        },
        {
          "output_type": "stream",
          "text": [
            "/usr/local/lib/python3.6/dist-packages/gensim/matutils.py:737: FutureWarning: Conversion of the second argument of issubdtype from `int` to `np.signedinteger` is deprecated. In future, it will be treated as `np.int64 == np.dtype(int).type`.\n",
            "  if np.issubdtype(vec.dtype, np.int):\n"
          ],
          "name": "stderr"
        }
      ]
    },
    {
      "cell_type": "code",
      "metadata": {
        "id": "InOLn-XrrPvr",
        "colab_type": "code",
        "colab": {
          "base_uri": "https://localhost:8080/",
          "height": 85
        },
        "outputId": "3b6e333c-1234-4a9d-cc34-ad2b4268b427"
      },
      "source": [
        "def word2idx(word):\n",
        "  return w2v_model.wv.vocab[word].index\n",
        "def idx2word(idx):\n",
        "  return w2v_model.wv.index2word[idx]\n",
        "\n",
        "print('\\nPreparing the data for LSTM...')\n",
        "x = np.zeros([len(sentences), max_sentence_len], dtype=np.int32)\n",
        "for i, sentence in enumerate(sentences):\n",
        "  for t, word in enumerate(sentence[:-1]):\n",
        "    if word in w2v_model.wv.vocab:\n",
        "      x[i, t] = word2idx(word)\n",
        "    \n",
        "y = np.array(finalDF.iloc[:,2:])\n",
        "\n",
        "print(x.shape)\n",
        "print(y.shape)"
      ],
      "execution_count": 27,
      "outputs": [
        {
          "output_type": "stream",
          "text": [
            "\n",
            "Preparing the data for LSTM...\n",
            "(1880, 500)\n",
            "(1880, 8)\n"
          ],
          "name": "stdout"
        }
      ]
    },
    {
      "cell_type": "markdown",
      "metadata": {
        "id": "8QZ8PQjoUkc_",
        "colab_type": "text"
      },
      "source": [
        "Prepare data"
      ]
    },
    {
      "cell_type": "code",
      "metadata": {
        "id": "C24l44lqeOT_",
        "colab_type": "code",
        "colab": {
          "base_uri": "https://localhost:8080/",
          "height": 68
        },
        "outputId": "a336922b-4dc9-4232-9610-4b76c60ba622"
      },
      "source": [
        "y = y.astype('float32')\n",
        "x_train, x_tv, y_train, y_tv = train_test_split(x, y, test_size=0.3)\n",
        "x_valdn, x_test, y_valdn, y_test = train_test_split(x_tv, y_tv, test_size=0.5)\n",
        "\n",
        "print(x_train.shape, y_train.shape)\n",
        "print(x_valdn.shape, y_valdn.shape)\n",
        "print(x_test.shape, y_test.shape)"
      ],
      "execution_count": 29,
      "outputs": [
        {
          "output_type": "stream",
          "text": [
            "(1316, 500) (1316, 8)\n",
            "(282, 500) (282, 8)\n",
            "(282, 500) (282, 8)\n"
          ],
          "name": "stdout"
        }
      ]
    },
    {
      "cell_type": "code",
      "metadata": {
        "id": "KGcBOTrrXX_O",
        "colab_type": "code",
        "colab": {}
      },
      "source": [
        "# pathToLogs = '/content/drive/My Drive/Search Project/logs/'\n",
        "pathToLogs = '/content/logs/'\n",
        "\n",
        "# Clear any logs from previous runs\n",
        "!rm -rf {pathToLogs}"
      ],
      "execution_count": 0,
      "outputs": []
    },
    {
      "cell_type": "markdown",
      "metadata": {
        "id": "HVxr6IDAZWpY",
        "colab_type": "text"
      },
      "source": [
        "Fit model"
      ]
    },
    {
      "cell_type": "code",
      "metadata": {
        "id": "u6Qs76k2qqAn",
        "colab_type": "code",
        "colab": {}
      },
      "source": [
        "# Clear session\n",
        "tf.keras.backend.clear_session()\n",
        "\n",
        "# Define input\n",
        "\n",
        "model = tf.keras.models.Sequential()\n",
        "\n",
        "# model.add(tf.keras.layers.Embedding(input_dim=vocab_size,\n",
        "#                                     output_dim=emdedding_size,\n",
        "#                                     input_length=200,\n",
        "#                                     weights=[pretrained_weights],\n",
        "#                                     dtype='float32'))\n",
        "\n",
        "lstm_units = 8\n",
        "\n",
        "model.add(tf.keras.layers.LSTM(units=lstm_units,\n",
        "                              #  input_shape = (None, max_sentence_len),\n",
        "                               return_sequences=False))\n",
        "model.add(tf.keras.layers.LayerNormalization())\n",
        "# model.add(tf.keras.layers.Dropout(0.5))\n",
        "\n",
        "# model.add(tf.keras.layers.Reshape((45, 513, 1), input_shape=(45, 513)))\n",
        "# model.add(tf.keras.layers.Reshape((513, 45, 1), input_shape=(45, 513)))\n",
        "\n",
        "# model.add(tf.keras.layers.Reshape((45, lstm_units, 1), input_shape=(45, lstm_units)))\n",
        "\n",
        "# model.add(tf.keras.layers.Conv2D(filters=4,\n",
        "#                                  kernel_size=(1, 2),\n",
        "#                                  strides=(1, 2),\n",
        "#                                  activation='tanh'))\n",
        "# model.add(tf.keras.layers.BatchNormalization())\n",
        "# model.add(tf.keras.layers.MaxPool2D(pool_size=(1,2), strides=(1,2)))\n",
        "\n",
        "# model.add(tf.keras.layers.Conv1D(filters=32, \n",
        "#                                  input_shape=input_shape,\n",
        "#                                  kernel_size=2,\n",
        "#                                  strides=1,\n",
        "#                                  activation='tanh'))\n",
        "# model.add(tf.keras.layers.BatchNormalization())\n",
        "# model.add(tf.keras.layers.MaxPool1D(pool_size=2))\n",
        "\n",
        "# model.add(tf.keras.layers.Flatten())\n",
        "# model.add(tf.keras.layers.Dropout(0.2))\n",
        "\n",
        "model.add(tf.keras.layers.Dense(units=8, \n",
        "                               activation='relu'))\n",
        "model.add(tf.keras.layers.BatchNormalization())\n",
        "# model.add(tf.keras.layers.Dropout(0.3))\n",
        "\n",
        "model.add(tf.keras.layers.Dense(units=y_train.shape[1], \n",
        "                                activation='sigmoid'))\n",
        "# model.add(tf.keras.layers.BatchNormalization())\n",
        "\n",
        "# model.summary()"
      ],
      "execution_count": 0,
      "outputs": []
    },
    {
      "cell_type": "code",
      "metadata": {
        "id": "lFVGSldcfvV4",
        "colab_type": "code",
        "colab": {}
      },
      "source": [
        "learning_rate = 0.0002\n",
        "\n",
        "current_time = datetime.datetime.now().strftime(\"%Y%m%d-%H%M%S\")\n",
        "\n",
        "train_log_dir = 'logs/gradient_tape/' + current_time + '/train'\n",
        "valdn_log_dir = 'logs/gradient_tape/' + current_time + '/valdn'\n",
        "\n",
        "train_writer = tf.summary.create_file_writer(train_log_dir)\n",
        "valdn_writer = tf.summary.create_file_writer(valdn_log_dir)\n",
        "\n",
        "\n",
        "# Sigmoid Cross-entropy with Logits\n",
        "def computeLoss(labels, logits):\n",
        "  return tf.nn.sigmoid_cross_entropy_with_logits(labels=labels, logits=logits)\n",
        "\n",
        "\n",
        "# Exact Match Ratio or Subset Accuracy\n",
        "def computeAccuracy(truth, predict):\n",
        "  binaryPred = np.where(predict > 0.5, 1., 0.)\n",
        "  acc = accuracy_score(y_true=truth, y_pred=binaryPred, normalize=True)\n",
        "  return acc\n",
        "\n",
        "\n",
        "def train_step(features, labels, optimizer = tf.keras.optimizers.Adam(learning_rate=learning_rate)):\n",
        "  with tf.GradientTape() as tape:\n",
        "    \n",
        "    # Compute loss\n",
        "    logits = model(features, training=True)\n",
        "    loss = computeLoss(labels, logits)\n",
        "    loss_value = tf.reduce_mean(loss)\n",
        "    \n",
        "    # Compute accuracy\n",
        "    predictions = model(x_train, training=False)\n",
        "    acc = computeAccuracy(y_train, predictions)\n",
        "\n",
        "  # Compute gradients and minimize using the optimizer\n",
        "  grads = tape.gradient(loss_value, model.trainable_variables)\n",
        "  optimizer.apply_gradients(zip(grads, model.trainable_variables))\n",
        "  \n",
        "  return loss_value, acc\n",
        "\n",
        "\n",
        "def test_step(model, features, labels):\n",
        "  # Compute loss\n",
        "  predictions = model(features, training=False)\n",
        "  loss = computeLoss(labels, predictions)\n",
        "  loss_value = tf.reduce_mean(loss)\n",
        "  # Compute accuracy\n",
        "  acc = computeAccuracy(labels, predictions)\n",
        "\n",
        "  return loss_value, acc\n",
        "\n",
        "\n",
        "def train(epochs, batchSize):\n",
        "  \n",
        "  # Epoch loop\n",
        "  for epoch in range(epochs):\n",
        "    \n",
        "    # Initialize vars\n",
        "    epoch_loss = 0\n",
        "    epoch_acc = 0\n",
        "    numBatches = math.ceil(x_train.shape[0] / batchSize)\n",
        "    \n",
        "    # Batch loop\n",
        "    for batch in range(numBatches):\n",
        "      \n",
        "      # Compute indices\n",
        "      start = batch*batchSize\n",
        "      end = (batch+1)*batchSize\n",
        "      \n",
        "      # Extract batch\n",
        "      features, labels = x_train[start:end], y_train[start:end]\n",
        "      \n",
        "      # Train\n",
        "      batch_loss, batch_acc = train_step(features, labels)\n",
        "      \n",
        "      # Update local loss and accuracy\n",
        "      epoch_loss += batch_loss\n",
        "      epoch_acc += batch_acc\n",
        "    \n",
        "    # Update global loss and accuracy\n",
        "    train_loss = epoch_loss / numBatches\n",
        "    train_acc = epoch_acc / numBatches\n",
        "\n",
        "    # Log training loss and accuracy\n",
        "    with train_writer.as_default():\n",
        "      tf.summary.scalar('training loss', train_loss, step=epoch)\n",
        "      tf.summary.scalar('accuracy', train_acc, step=epoch)\n",
        "\n",
        "    # Validate the model\n",
        "    valdn_loss, valdn_acc = test_step(model, x_valdn, y_valdn)\n",
        "\n",
        "    # Log validation loss and accuracy\n",
        "    with valdn_writer.as_default():\n",
        "      tf.summary.scalar('training loss', valdn_loss, step=epoch)\n",
        "      tf.summary.scalar('accuracy', valdn_acc, step=epoch)\n",
        "    \n",
        "    # Pretty print output\n",
        "    template = 'Epoch {}, Training Loss: {}, Training Accuracy: {}, Validation Loss: {}, Validation Accuracy: {}'\n",
        "    print(template.format(epoch+1,\n",
        "                          train_loss,\n",
        "                          train_acc*100,\n",
        "                          valdn_loss,\n",
        "                          valdn_acc*100))"
      ],
      "execution_count": 0,
      "outputs": []
    },
    {
      "cell_type": "code",
      "metadata": {
        "id": "4WAnNI9rfhBy",
        "colab_type": "code",
        "outputId": "5347e36c-e27f-4a13-b917-21a0a7263cb4",
        "colab": {
          "base_uri": "https://localhost:8080/",
          "height": 307
        }
      },
      "source": [
        "train(20, 50)"
      ],
      "execution_count": 51,
      "outputs": [
        {
          "output_type": "error",
          "ename": "ValueError",
          "evalue": "ignored",
          "traceback": [
            "\u001b[0;31m---------------------------------------------------------------------------\u001b[0m",
            "\u001b[0;31mValueError\u001b[0m                                Traceback (most recent call last)",
            "\u001b[0;32m<ipython-input-51-aa1c2e929618>\u001b[0m in \u001b[0;36m<module>\u001b[0;34m()\u001b[0m\n\u001b[0;32m----> 1\u001b[0;31m \u001b[0mtrain\u001b[0m\u001b[0;34m(\u001b[0m\u001b[0;36m20\u001b[0m\u001b[0;34m,\u001b[0m \u001b[0;36m50\u001b[0m\u001b[0;34m)\u001b[0m\u001b[0;34m\u001b[0m\u001b[0;34m\u001b[0m\u001b[0m\n\u001b[0m",
            "\u001b[0;32m<ipython-input-32-ccb90c7a6fd0>\u001b[0m in \u001b[0;36mtrain\u001b[0;34m(epochs, batchSize)\u001b[0m\n\u001b[1;32m     73\u001b[0m \u001b[0;34m\u001b[0m\u001b[0m\n\u001b[1;32m     74\u001b[0m       \u001b[0;31m# Train\u001b[0m\u001b[0;34m\u001b[0m\u001b[0;34m\u001b[0m\u001b[0;34m\u001b[0m\u001b[0m\n\u001b[0;32m---> 75\u001b[0;31m       \u001b[0mbatch_loss\u001b[0m\u001b[0;34m,\u001b[0m \u001b[0mbatch_acc\u001b[0m \u001b[0;34m=\u001b[0m \u001b[0mtrain_step\u001b[0m\u001b[0;34m(\u001b[0m\u001b[0mfeatures\u001b[0m\u001b[0;34m,\u001b[0m \u001b[0mlabels\u001b[0m\u001b[0;34m)\u001b[0m\u001b[0;34m\u001b[0m\u001b[0;34m\u001b[0m\u001b[0m\n\u001b[0m\u001b[1;32m     76\u001b[0m \u001b[0;34m\u001b[0m\u001b[0m\n\u001b[1;32m     77\u001b[0m       \u001b[0;31m# Update local loss and accuracy\u001b[0m\u001b[0;34m\u001b[0m\u001b[0;34m\u001b[0m\u001b[0;34m\u001b[0m\u001b[0m\n",
            "\u001b[0;32m<ipython-input-32-ccb90c7a6fd0>\u001b[0m in \u001b[0;36mtrain_step\u001b[0;34m(features, labels, optimizer)\u001b[0m\n\u001b[1;32m     26\u001b[0m \u001b[0;34m\u001b[0m\u001b[0m\n\u001b[1;32m     27\u001b[0m     \u001b[0;31m# Compute loss\u001b[0m\u001b[0;34m\u001b[0m\u001b[0;34m\u001b[0m\u001b[0;34m\u001b[0m\u001b[0m\n\u001b[0;32m---> 28\u001b[0;31m     \u001b[0mlogits\u001b[0m \u001b[0;34m=\u001b[0m \u001b[0mmodel\u001b[0m\u001b[0;34m(\u001b[0m\u001b[0mfeatures\u001b[0m\u001b[0;34m,\u001b[0m \u001b[0mtraining\u001b[0m\u001b[0;34m=\u001b[0m\u001b[0;32mTrue\u001b[0m\u001b[0;34m)\u001b[0m\u001b[0;34m\u001b[0m\u001b[0;34m\u001b[0m\u001b[0m\n\u001b[0m\u001b[1;32m     29\u001b[0m     \u001b[0mloss\u001b[0m \u001b[0;34m=\u001b[0m \u001b[0mcomputeLoss\u001b[0m\u001b[0;34m(\u001b[0m\u001b[0mlabels\u001b[0m\u001b[0;34m,\u001b[0m \u001b[0mlogits\u001b[0m\u001b[0;34m)\u001b[0m\u001b[0;34m\u001b[0m\u001b[0;34m\u001b[0m\u001b[0m\n\u001b[1;32m     30\u001b[0m     \u001b[0mloss_value\u001b[0m \u001b[0;34m=\u001b[0m \u001b[0mtf\u001b[0m\u001b[0;34m.\u001b[0m\u001b[0mreduce_mean\u001b[0m\u001b[0;34m(\u001b[0m\u001b[0mloss\u001b[0m\u001b[0;34m)\u001b[0m\u001b[0;34m\u001b[0m\u001b[0;34m\u001b[0m\u001b[0m\n",
            "\u001b[0;32m/tensorflow-2.0.0/python3.6/tensorflow_core/python/keras/engine/base_layer.py\u001b[0m in \u001b[0;36m__call__\u001b[0;34m(self, inputs, *args, **kwargs)\u001b[0m\n\u001b[1;32m    885\u001b[0m         \u001b[0;31m# Eager execution on data tensors.\u001b[0m\u001b[0;34m\u001b[0m\u001b[0;34m\u001b[0m\u001b[0;34m\u001b[0m\u001b[0m\n\u001b[1;32m    886\u001b[0m         \u001b[0;32mwith\u001b[0m \u001b[0mbackend\u001b[0m\u001b[0;34m.\u001b[0m\u001b[0mname_scope\u001b[0m\u001b[0;34m(\u001b[0m\u001b[0mself\u001b[0m\u001b[0;34m.\u001b[0m\u001b[0m_name_scope\u001b[0m\u001b[0;34m(\u001b[0m\u001b[0;34m)\u001b[0m\u001b[0;34m)\u001b[0m\u001b[0;34m:\u001b[0m\u001b[0;34m\u001b[0m\u001b[0;34m\u001b[0m\u001b[0m\n\u001b[0;32m--> 887\u001b[0;31m           \u001b[0mself\u001b[0m\u001b[0;34m.\u001b[0m\u001b[0m_maybe_build\u001b[0m\u001b[0;34m(\u001b[0m\u001b[0minputs\u001b[0m\u001b[0;34m)\u001b[0m\u001b[0;34m\u001b[0m\u001b[0;34m\u001b[0m\u001b[0m\n\u001b[0m\u001b[1;32m    888\u001b[0m           \u001b[0mcast_inputs\u001b[0m \u001b[0;34m=\u001b[0m \u001b[0mself\u001b[0m\u001b[0;34m.\u001b[0m\u001b[0m_maybe_cast_inputs\u001b[0m\u001b[0;34m(\u001b[0m\u001b[0minputs\u001b[0m\u001b[0;34m)\u001b[0m\u001b[0;34m\u001b[0m\u001b[0;34m\u001b[0m\u001b[0m\n\u001b[1;32m    889\u001b[0m           with base_layer_utils.autocast_context_manager(\n",
            "\u001b[0;32m/tensorflow-2.0.0/python3.6/tensorflow_core/python/keras/engine/base_layer.py\u001b[0m in \u001b[0;36m_maybe_build\u001b[0;34m(self, inputs)\u001b[0m\n\u001b[1;32m   2120\u001b[0m     \u001b[0;32mif\u001b[0m \u001b[0;32mnot\u001b[0m \u001b[0mself\u001b[0m\u001b[0;34m.\u001b[0m\u001b[0mbuilt\u001b[0m\u001b[0;34m:\u001b[0m\u001b[0;34m\u001b[0m\u001b[0;34m\u001b[0m\u001b[0m\n\u001b[1;32m   2121\u001b[0m       input_spec.assert_input_compatibility(\n\u001b[0;32m-> 2122\u001b[0;31m           self.input_spec, inputs, self.name)\n\u001b[0m\u001b[1;32m   2123\u001b[0m       \u001b[0minput_list\u001b[0m \u001b[0;34m=\u001b[0m \u001b[0mnest\u001b[0m\u001b[0;34m.\u001b[0m\u001b[0mflatten\u001b[0m\u001b[0;34m(\u001b[0m\u001b[0minputs\u001b[0m\u001b[0;34m)\u001b[0m\u001b[0;34m\u001b[0m\u001b[0;34m\u001b[0m\u001b[0m\n\u001b[1;32m   2124\u001b[0m       \u001b[0;32mif\u001b[0m \u001b[0minput_list\u001b[0m \u001b[0;32mand\u001b[0m \u001b[0mself\u001b[0m\u001b[0;34m.\u001b[0m\u001b[0m_dtype_policy\u001b[0m\u001b[0;34m.\u001b[0m\u001b[0mcompute_dtype\u001b[0m \u001b[0;32mis\u001b[0m \u001b[0;32mNone\u001b[0m\u001b[0;34m:\u001b[0m\u001b[0;34m\u001b[0m\u001b[0;34m\u001b[0m\u001b[0m\n",
            "\u001b[0;32m/tensorflow-2.0.0/python3.6/tensorflow_core/python/keras/engine/input_spec.py\u001b[0m in \u001b[0;36massert_input_compatibility\u001b[0;34m(input_spec, inputs, layer_name)\u001b[0m\n\u001b[1;32m    175\u001b[0m                          \u001b[0;34m'expected ndim='\u001b[0m \u001b[0;34m+\u001b[0m \u001b[0mstr\u001b[0m\u001b[0;34m(\u001b[0m\u001b[0mspec\u001b[0m\u001b[0;34m.\u001b[0m\u001b[0mndim\u001b[0m\u001b[0;34m)\u001b[0m \u001b[0;34m+\u001b[0m \u001b[0;34m', found ndim='\u001b[0m \u001b[0;34m+\u001b[0m\u001b[0;34m\u001b[0m\u001b[0;34m\u001b[0m\u001b[0m\n\u001b[1;32m    176\u001b[0m                          \u001b[0mstr\u001b[0m\u001b[0;34m(\u001b[0m\u001b[0mndim\u001b[0m\u001b[0;34m)\u001b[0m \u001b[0;34m+\u001b[0m \u001b[0;34m'. Full shape received: '\u001b[0m \u001b[0;34m+\u001b[0m\u001b[0;34m\u001b[0m\u001b[0;34m\u001b[0m\u001b[0m\n\u001b[0;32m--> 177\u001b[0;31m                          str(x.shape.as_list()))\n\u001b[0m\u001b[1;32m    178\u001b[0m     \u001b[0;32mif\u001b[0m \u001b[0mspec\u001b[0m\u001b[0;34m.\u001b[0m\u001b[0mmax_ndim\u001b[0m \u001b[0;32mis\u001b[0m \u001b[0;32mnot\u001b[0m \u001b[0;32mNone\u001b[0m\u001b[0;34m:\u001b[0m\u001b[0;34m\u001b[0m\u001b[0;34m\u001b[0m\u001b[0m\n\u001b[1;32m    179\u001b[0m       \u001b[0mndim\u001b[0m \u001b[0;34m=\u001b[0m \u001b[0mx\u001b[0m\u001b[0;34m.\u001b[0m\u001b[0mshape\u001b[0m\u001b[0;34m.\u001b[0m\u001b[0mndims\u001b[0m\u001b[0;34m\u001b[0m\u001b[0;34m\u001b[0m\u001b[0m\n",
            "\u001b[0;31mValueError\u001b[0m: Input 0 of layer sequential is incompatible with the layer: expected ndim=3, found ndim=2. Full shape received: [50, 500]"
          ]
        }
      ]
    },
    {
      "cell_type": "code",
      "metadata": {
        "id": "JRCTokEYUQk6",
        "colab_type": "code",
        "colab": {}
      },
      "source": [
        "%tensorboard --logdir logs/gradient_tape\n",
        "notebook.display(port=6006, height=800)"
      ],
      "execution_count": 0,
      "outputs": []
    },
    {
      "cell_type": "code",
      "metadata": {
        "id": "rCW5FBpaAfsi",
        "colab_type": "code",
        "colab": {}
      },
      "source": [
        "trainPred = model.predict(x_train)\n",
        "trainPred[:5]"
      ],
      "execution_count": 0,
      "outputs": []
    },
    {
      "cell_type": "code",
      "metadata": {
        "id": "z5Bgl2wjrJ9O",
        "colab_type": "code",
        "colab": {}
      },
      "source": [
        "metrics = model.evaluate(x_test, y_test)\n",
        "print('test loss, test acc:', metrics)"
      ],
      "execution_count": 0,
      "outputs": []
    },
    {
      "cell_type": "code",
      "metadata": {
        "id": "fZZyleDL8lgK",
        "colab_type": "code",
        "colab": {}
      },
      "source": [
        "# serialize model to JSON\n",
        "model_json = model.to_json()\n",
        "with open(\"/content/drive/My Drive/Search Project/model.json\", \"w\") as json_file:\n",
        "    json_file.write(model_json)\n",
        "# serialize weights to HDF5\n",
        "model.save_weights(\"/content/drive/My Drive/Search Project/model.h5\")\n",
        "print(\"Saved model to disk\")"
      ],
      "execution_count": 0,
      "outputs": []
    },
    {
      "cell_type": "code",
      "metadata": {
        "id": "hdt-Ps2egdB6",
        "colab_type": "code",
        "outputId": "7d333bcb-97f7-4f31-dd3c-f216e44c13e8",
        "colab": {
          "base_uri": "https://localhost:8080/",
          "height": 34
        }
      },
      "source": [
        "accuracy_score(np.array([[0, 1, 1],\n",
        "                         [1, 1, 0],\n",
        "                         [1, 1, 1],\n",
        "                         [1, 1, 1],\n",
        "                         [0, 0, 1]]),\n",
        "               np.array([[0, 1, 1],\n",
        "                         [0, 1, 1],\n",
        "                         [0, 0, 0],\n",
        "                         [1, 1, 0],\n",
        "                         [0, 0, 1]]))*100"
      ],
      "execution_count": 0,
      "outputs": [
        {
          "output_type": "execute_result",
          "data": {
            "text/plain": [
              "40.0"
            ]
          },
          "metadata": {
            "tags": []
          },
          "execution_count": 130
        }
      ]
    },
    {
      "cell_type": "markdown",
      "metadata": {
        "id": "T6xu0NOr2sAN",
        "colab_type": "text"
      },
      "source": [
        "# References"
      ]
    },
    {
      "cell_type": "markdown",
      "metadata": {
        "id": "zqE-_4Qa2t6Q",
        "colab_type": "text"
      },
      "source": [
        "[Medium article](https://towardsdatascience.com/journey-to-the-center-of-multi-label-classification-384c40229bff)"
      ]
    }
  ]
}