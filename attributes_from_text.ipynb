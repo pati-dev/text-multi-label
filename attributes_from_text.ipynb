{
  "nbformat": 4,
  "nbformat_minor": 0,
  "metadata": {
    "colab": {
      "name": "attributes-from-text.ipynb",
      "provenance": [],
      "collapsed_sections": [],
      "include_colab_link": true
    },
    "kernelspec": {
      "name": "python3",
      "display_name": "Python 3"
    }
  },
  "cells": [
    {
      "cell_type": "markdown",
      "metadata": {
        "id": "view-in-github",
        "colab_type": "text"
      },
      "source": [
        "<a href=\"https://colab.research.google.com/github/pati-dev/text-multi-label/blob/master/attributes_from_text.ipynb\" target=\"_parent\"><img src=\"https://colab.research.google.com/assets/colab-badge.svg\" alt=\"Open In Colab\"/></a>"
      ]
    },
    {
      "cell_type": "markdown",
      "metadata": {
        "id": "o2vhYz2qqNzl",
        "colab_type": "text"
      },
      "source": [
        "Boot"
      ]
    },
    {
      "cell_type": "code",
      "metadata": {
        "id": "XouXIoPAorWA",
        "colab_type": "code",
        "colab": {}
      },
      "source": [
        "%matplotlib inline\n",
        "import pandas as pd"
      ],
      "execution_count": 0,
      "outputs": []
    },
    {
      "cell_type": "code",
      "metadata": {
        "id": "PdgopM6BpPiV",
        "colab_type": "code",
        "colab": {
          "base_uri": "https://localhost:8080/",
          "height": 122
        },
        "outputId": "d45d8cf1-1337-4978-8923-11f6f017b755"
      },
      "source": [
        "from google.colab import drive\n",
        "drive.mount('/content/drive')"
      ],
      "execution_count": 2,
      "outputs": [
        {
          "output_type": "stream",
          "text": [
            "Go to this URL in a browser: https://accounts.google.com/o/oauth2/auth?client_id=947318989803-6bn6qk8qdgf4n4g3pfee6491hc0brc4i.apps.googleusercontent.com&redirect_uri=urn%3aietf%3awg%3aoauth%3a2.0%3aoob&response_type=code&scope=email%20https%3a%2f%2fwww.googleapis.com%2fauth%2fdocs.test%20https%3a%2f%2fwww.googleapis.com%2fauth%2fdrive%20https%3a%2f%2fwww.googleapis.com%2fauth%2fdrive.photos.readonly%20https%3a%2f%2fwww.googleapis.com%2fauth%2fpeopleapi.readonly\n",
            "\n",
            "Enter your authorization code:\n",
            "··········\n",
            "Mounted at /content/drive\n"
          ],
          "name": "stdout"
        }
      ]
    },
    {
      "cell_type": "markdown",
      "metadata": {
        "id": "CI7u73646Ae9",
        "colab_type": "text"
      },
      "source": [
        "Load data"
      ]
    },
    {
      "cell_type": "code",
      "metadata": {
        "id": "CEbDSmPUpQaj",
        "colab_type": "code",
        "colab": {
          "base_uri": "https://localhost:8080/",
          "height": 700
        },
        "outputId": "6a3766ab-d73a-4ff7-a89e-5e950cc9b3a0"
      },
      "source": [
        "bizDF = pd.read_csv(\"/content/drive/My Drive/Search Project/toronto_filtered_reviews_all_cat.csv\", encoding='latin1')\n",
        "bizDF.head()"
      ],
      "execution_count": 3,
      "outputs": [
        {
          "output_type": "execute_result",
          "data": {
            "text/html": [
              "<div>\n",
              "<style scoped>\n",
              "    .dataframe tbody tr th:only-of-type {\n",
              "        vertical-align: middle;\n",
              "    }\n",
              "\n",
              "    .dataframe tbody tr th {\n",
              "        vertical-align: top;\n",
              "    }\n",
              "\n",
              "    .dataframe thead th {\n",
              "        text-align: right;\n",
              "    }\n",
              "</style>\n",
              "<table border=\"1\" class=\"dataframe\">\n",
              "  <thead>\n",
              "    <tr style=\"text-align: right;\">\n",
              "      <th></th>\n",
              "      <th>Unnamed: 0</th>\n",
              "      <th>business_id</th>\n",
              "      <th>categories</th>\n",
              "      <th>user_id</th>\n",
              "      <th>text</th>\n",
              "      <th>RestaurantsPriceRange2</th>\n",
              "      <th>BikeParking</th>\n",
              "      <th>RestaurantsTakeOut</th>\n",
              "      <th>GoodForKids</th>\n",
              "      <th>OutdoorSeating</th>\n",
              "      <th>RestaurantsGoodForGroups</th>\n",
              "      <th>RestaurantsReservations</th>\n",
              "      <th>RestaurantsDelivery</th>\n",
              "      <th>WiFi</th>\n",
              "    </tr>\n",
              "  </thead>\n",
              "  <tbody>\n",
              "    <tr>\n",
              "      <th>0</th>\n",
              "      <td>1</td>\n",
              "      <td>c35qzLN6ItDpVIoj2uQW4Q</td>\n",
              "      <td>Soup, Restaurants, Sandwiches</td>\n",
              "      <td>h9y55WNNg7SYg3kQwzTMmQ</td>\n",
              "      <td>Had the soup and sandwich.  Wow, it was great....</td>\n",
              "      <td>2</td>\n",
              "      <td>True</td>\n",
              "      <td>True</td>\n",
              "      <td>True</td>\n",
              "      <td>True</td>\n",
              "      <td>True</td>\n",
              "      <td>False</td>\n",
              "      <td>True</td>\n",
              "      <td>u'free'</td>\n",
              "    </tr>\n",
              "    <tr>\n",
              "      <th>1</th>\n",
              "      <td>2</td>\n",
              "      <td>c35qzLN6ItDpVIoj2uQW4Q</td>\n",
              "      <td>Soup, Restaurants, Sandwiches</td>\n",
              "      <td>QfCfgc5PyNVwd_DgPzmeuA</td>\n",
              "      <td>I can't remember when I had a lunch as good as...</td>\n",
              "      <td>2</td>\n",
              "      <td>True</td>\n",
              "      <td>True</td>\n",
              "      <td>True</td>\n",
              "      <td>True</td>\n",
              "      <td>True</td>\n",
              "      <td>False</td>\n",
              "      <td>True</td>\n",
              "      <td>u'free'</td>\n",
              "    </tr>\n",
              "    <tr>\n",
              "      <th>2</th>\n",
              "      <td>3</td>\n",
              "      <td>c35qzLN6ItDpVIoj2uQW4Q</td>\n",
              "      <td>Soup, Restaurants, Sandwiches</td>\n",
              "      <td>mKemb3MpSyUbsVUVSmI5tg</td>\n",
              "      <td>wow! the wraps are hearty and healthy. i had t...</td>\n",
              "      <td>2</td>\n",
              "      <td>True</td>\n",
              "      <td>True</td>\n",
              "      <td>True</td>\n",
              "      <td>True</td>\n",
              "      <td>True</td>\n",
              "      <td>False</td>\n",
              "      <td>True</td>\n",
              "      <td>u'free'</td>\n",
              "    </tr>\n",
              "    <tr>\n",
              "      <th>3</th>\n",
              "      <td>4</td>\n",
              "      <td>c35qzLN6ItDpVIoj2uQW4Q</td>\n",
              "      <td>Soup, Restaurants, Sandwiches</td>\n",
              "      <td>zbSBmoujGgIPuNWQcny14g</td>\n",
              "      <td>First time here today w/ a male friend who had...</td>\n",
              "      <td>2</td>\n",
              "      <td>True</td>\n",
              "      <td>True</td>\n",
              "      <td>True</td>\n",
              "      <td>True</td>\n",
              "      <td>True</td>\n",
              "      <td>False</td>\n",
              "      <td>True</td>\n",
              "      <td>u'free'</td>\n",
              "    </tr>\n",
              "    <tr>\n",
              "      <th>4</th>\n",
              "      <td>5</td>\n",
              "      <td>c35qzLN6ItDpVIoj2uQW4Q</td>\n",
              "      <td>Soup, Restaurants, Sandwiches</td>\n",
              "      <td>XDYnGRhaCQteZNFPZonRow</td>\n",
              "      <td>I don't even think my own mother could make so...</td>\n",
              "      <td>2</td>\n",
              "      <td>True</td>\n",
              "      <td>True</td>\n",
              "      <td>True</td>\n",
              "      <td>True</td>\n",
              "      <td>True</td>\n",
              "      <td>False</td>\n",
              "      <td>True</td>\n",
              "      <td>u'free'</td>\n",
              "    </tr>\n",
              "  </tbody>\n",
              "</table>\n",
              "</div>"
            ],
            "text/plain": [
              "   Unnamed: 0             business_id  ... RestaurantsDelivery     WiFi\n",
              "0           1  c35qzLN6ItDpVIoj2uQW4Q  ...                True  u'free'\n",
              "1           2  c35qzLN6ItDpVIoj2uQW4Q  ...                True  u'free'\n",
              "2           3  c35qzLN6ItDpVIoj2uQW4Q  ...                True  u'free'\n",
              "3           4  c35qzLN6ItDpVIoj2uQW4Q  ...                True  u'free'\n",
              "4           5  c35qzLN6ItDpVIoj2uQW4Q  ...                True  u'free'\n",
              "\n",
              "[5 rows x 14 columns]"
            ]
          },
          "metadata": {
            "tags": []
          },
          "execution_count": 3
        }
      ]
    },
    {
      "cell_type": "code",
      "metadata": {
        "id": "17b030zIsPZD",
        "colab_type": "code",
        "colab": {
          "base_uri": "https://localhost:8080/",
          "height": 102
        },
        "outputId": "dbacb030-406c-47f5-d1d0-31a39d7235c0"
      },
      "source": [
        "bizDF.columns"
      ],
      "execution_count": 4,
      "outputs": [
        {
          "output_type": "execute_result",
          "data": {
            "text/plain": [
              "Index(['Unnamed: 0', 'business_id', 'categories', 'user_id', 'text',\n",
              "       'RestaurantsPriceRange2', 'BikeParking', 'RestaurantsTakeOut',\n",
              "       'GoodForKids', 'OutdoorSeating', 'RestaurantsGoodForGroups',\n",
              "       'RestaurantsReservations', 'RestaurantsDelivery', 'WiFi'],\n",
              "      dtype='object')"
            ]
          },
          "metadata": {
            "tags": []
          },
          "execution_count": 4
        }
      ]
    },
    {
      "cell_type": "markdown",
      "metadata": {
        "id": "YC-Te74_6HfS",
        "colab_type": "text"
      },
      "source": [
        "We have multiple rows for each *business* $\\times$ *user* combination."
      ]
    },
    {
      "cell_type": "code",
      "metadata": {
        "id": "pKrBF8Yyto2d",
        "colab_type": "code",
        "colab": {
          "base_uri": "https://localhost:8080/",
          "height": 68
        },
        "outputId": "fe8bae81-fb95-4311-a1ef-23d5a850b70c"
      },
      "source": [
        "print(len(bizDF.business_id.unique()))\n",
        "print(len(bizDF))\n",
        "print(len(bizDF.text.unique()))"
      ],
      "execution_count": 11,
      "outputs": [
        {
          "output_type": "stream",
          "text": [
            "888\n",
            "97916\n",
            "97766\n"
          ],
          "name": "stdout"
        }
      ]
    },
    {
      "cell_type": "markdown",
      "metadata": {
        "id": "wojWev5Z6anR",
        "colab_type": "text"
      },
      "source": [
        "Merge all reviews for a restaurant separated by a *space*."
      ]
    },
    {
      "cell_type": "code",
      "metadata": {
        "id": "p_RDEKYOrqoi",
        "colab_type": "code",
        "colab": {
          "base_uri": "https://localhost:8080/",
          "height": 136
        },
        "outputId": "8035b4b3-312b-41a8-fc39-c9a4f0fc8e8d"
      },
      "source": [
        "def combineText(reviews):\n",
        "  return \" \".join(reviews)\n",
        "\n",
        "reviewsDF = pd.DataFrame(bizDF.groupby(['business_id'])['text'].apply(combineText).reset_index())\n",
        "print(reviewsDF.head())\n",
        "print(len(reviewsDF))"
      ],
      "execution_count": 62,
      "outputs": [
        {
          "output_type": "stream",
          "text": [
            "              business_id                                               text\n",
            "0  -9u2uFwhlj3Yq4mG5IweoA  I'm not sure what to think of this place...hip...\n",
            "1  -BbnAc9YEO6pjvJGEtFbVQ  Lovely little place for ramen amongst the many...\n",
            "2  -CLTZ0cO-ooKDDmXHFoGMg  This was a planned visit as we were visiting a...\n",
            "3  -EX_qttyhm5YNb8NWtAcCQ  Fun little bar for some country music!!! I wou...\n",
            "4  -ICGmF2qUVKdvOehVNgPbg  Lamesa was one of those wonderful unexpected e...\n",
            "888\n"
          ],
          "name": "stdout"
        }
      ]
    },
    {
      "cell_type": "markdown",
      "metadata": {
        "id": "e3lpv7zD6h4c",
        "colab_type": "text"
      },
      "source": [
        "Merge reviews DF with shrunk down version of biz DF."
      ]
    },
    {
      "cell_type": "code",
      "metadata": {
        "id": "VjfliP4U55r8",
        "colab_type": "code",
        "colab": {
          "base_uri": "https://localhost:8080/",
          "height": 34
        },
        "outputId": "44888c32-3b02-437d-bf10-8427cefbdd4a"
      },
      "source": [
        "features = ['RestaurantsPriceRange2',\n",
        "            'BikeParking', \n",
        "            'RestaurantsTakeOut',\n",
        "            'GoodForKids', \n",
        "            'OutdoorSeating', \n",
        "            'RestaurantsGoodForGroups',\n",
        "            'RestaurantsReservations', \n",
        "            'RestaurantsDelivery', \n",
        "            'WiFi']\n",
        "featuresDF = bizDF.loc[:, features + ['business_id']].drop_duplicates()\n",
        "\n",
        "finalDF = reviewsDF.merge(featuresDF, on='business_id')"
      ],
      "execution_count": 59,
      "outputs": [
        {
          "output_type": "execute_result",
          "data": {
            "text/plain": [
              "888"
            ]
          },
          "metadata": {
            "tags": []
          },
          "execution_count": 59
        }
      ]
    }
  ]
}