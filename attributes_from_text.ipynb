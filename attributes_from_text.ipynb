{
  "nbformat": 4,
  "nbformat_minor": 0,
  "metadata": {
    "colab": {
      "name": "attributes-from-text.ipynb",
      "provenance": [],
      "collapsed_sections": [
        "uW1ofdxroCde",
        "eOnOFRxJn70O",
        "T6xu0NOr2sAN"
      ],
      "machine_shape": "hm",
      "include_colab_link": true
    },
    "kernelspec": {
      "name": "python3",
      "display_name": "Python 3"
    },
    "accelerator": "GPU"
  },
  "cells": [
    {
      "cell_type": "markdown",
      "metadata": {
        "id": "view-in-github",
        "colab_type": "text"
      },
      "source": [
        "<a href=\"https://colab.research.google.com/github/pati-dev/text-multi-label/blob/master/attributes_from_text.ipynb\" target=\"_parent\"><img src=\"https://colab.research.google.com/assets/colab-badge.svg\" alt=\"Open In Colab\"/></a>"
      ]
    },
    {
      "cell_type": "markdown",
      "metadata": {
        "id": "o2vhYz2qqNzl",
        "colab_type": "text"
      },
      "source": [
        "# Boot"
      ]
    },
    {
      "cell_type": "code",
      "metadata": {
        "id": "XouXIoPAorWA",
        "colab_type": "code",
        "outputId": "04cb4a94-15b2-46ad-cd8b-5d7369fdd21d",
        "colab": {
          "base_uri": "https://localhost:8080/",
          "height": 51
        }
      },
      "source": [
        "!pip install scikit-multilearn\n",
        "\n",
        "%reload_ext tensorboard\n",
        "%tensorflow_version 2.x\n",
        "import datetime\n",
        "import pandas as pd\n",
        "import numpy as np\n",
        "import math\n",
        "\n",
        "import tensorflow as tf\n",
        "from sklearn.model_selection import train_test_split\n",
        "from sklearn.metrics import accuracy_score\n",
        "from sklearn.feature_extraction.text import TfidfVectorizer\n",
        "from sklearn.linear_model import LogisticRegression\n",
        "from sklearn.pipeline import Pipeline\n",
        "from sklearn.multiclass import OneVsRestClassifier\n",
        "from skmultilearn.problem_transform import BinaryRelevance\n",
        "from sklearn.naive_bayes import GaussianNB\n",
        "from skmultilearn.adapt import MLkNN\n",
        "from scipy.sparse import csr_matrix, lil_matrix\n",
        "\n",
        "import gensim\n",
        "\n",
        "import matplotlib.pyplot as plt\n",
        "from wordcloud import WordCloud,STOPWORDS"
      ],
      "execution_count": 1,
      "outputs": [
        {
          "output_type": "stream",
          "text": [
            "Requirement already satisfied: scikit-multilearn in /usr/local/lib/python3.6/dist-packages (0.2.0)\n",
            "TensorFlow 2.x selected.\n"
          ],
          "name": "stdout"
        }
      ]
    },
    {
      "cell_type": "code",
      "metadata": {
        "id": "PdgopM6BpPiV",
        "colab_type": "code",
        "outputId": "65d06a6e-5b60-42a7-8e30-88f332012855",
        "colab": {
          "base_uri": "https://localhost:8080/",
          "height": 34
        }
      },
      "source": [
        "from google.colab import drive\n",
        "drive.mount('/content/drive')"
      ],
      "execution_count": 2,
      "outputs": [
        {
          "output_type": "stream",
          "text": [
            "Drive already mounted at /content/drive; to attempt to forcibly remount, call drive.mount(\"/content/drive\", force_remount=True).\n"
          ],
          "name": "stdout"
        }
      ]
    },
    {
      "cell_type": "code",
      "metadata": {
        "id": "3K1lPtY66BLa",
        "colab_type": "code",
        "colab": {
          "base_uri": "https://localhost:8080/",
          "height": 598
        },
        "outputId": "57b8a565-f9ff-4a8e-b923-35582f6e5e22"
      },
      "source": [
        "finalDF = pd.read_csv('/content/drive/My Drive/Search Project/finalDF.csv')\n",
        "finalDF.head()"
      ],
      "execution_count": 3,
      "outputs": [
        {
          "output_type": "execute_result",
          "data": {
            "text/html": [
              "<div>\n",
              "<style scoped>\n",
              "    .dataframe tbody tr th:only-of-type {\n",
              "        vertical-align: middle;\n",
              "    }\n",
              "\n",
              "    .dataframe tbody tr th {\n",
              "        vertical-align: top;\n",
              "    }\n",
              "\n",
              "    .dataframe thead th {\n",
              "        text-align: right;\n",
              "    }\n",
              "</style>\n",
              "<table border=\"1\" class=\"dataframe\">\n",
              "  <thead>\n",
              "    <tr style=\"text-align: right;\">\n",
              "      <th></th>\n",
              "      <th>business_id</th>\n",
              "      <th>text</th>\n",
              "      <th>RestaurantsReservations</th>\n",
              "      <th>RestaurantsGoodForGroups</th>\n",
              "      <th>OutdoorSeating</th>\n",
              "      <th>RestaurantsTakeOut</th>\n",
              "      <th>GoodForKids</th>\n",
              "      <th>RestaurantsDelivery</th>\n",
              "      <th>BikeParking</th>\n",
              "      <th>Wifi</th>\n",
              "    </tr>\n",
              "  </thead>\n",
              "  <tbody>\n",
              "    <tr>\n",
              "      <th>0</th>\n",
              "      <td>-7BCZH437U5FjmNJ26llkg</td>\n",
              "      <td>this is a nice destination especially for thos...</td>\n",
              "      <td>True</td>\n",
              "      <td>True</td>\n",
              "      <td>False</td>\n",
              "      <td>True</td>\n",
              "      <td>True</td>\n",
              "      <td>True</td>\n",
              "      <td>True</td>\n",
              "      <td>True</td>\n",
              "    </tr>\n",
              "    <tr>\n",
              "      <th>1</th>\n",
              "      <td>-9u2uFwhlj3Yq4mG5IweoA</td>\n",
              "      <td>i am not sure what to think of this place hips...</td>\n",
              "      <td>True</td>\n",
              "      <td>False</td>\n",
              "      <td>False</td>\n",
              "      <td>True</td>\n",
              "      <td>False</td>\n",
              "      <td>True</td>\n",
              "      <td>True</td>\n",
              "      <td>False</td>\n",
              "    </tr>\n",
              "    <tr>\n",
              "      <th>2</th>\n",
              "      <td>-BbnAc9YEO6pjvJGEtFbVQ</td>\n",
              "      <td>lovely little place for ramen amongst the many...</td>\n",
              "      <td>False</td>\n",
              "      <td>True</td>\n",
              "      <td>False</td>\n",
              "      <td>True</td>\n",
              "      <td>True</td>\n",
              "      <td>False</td>\n",
              "      <td>True</td>\n",
              "      <td>False</td>\n",
              "    </tr>\n",
              "    <tr>\n",
              "      <th>3</th>\n",
              "      <td>-CLTZ0cO-ooKDDmXHFoGMg</td>\n",
              "      <td>this was a planned visit as we were visiting a...</td>\n",
              "      <td>False</td>\n",
              "      <td>False</td>\n",
              "      <td>False</td>\n",
              "      <td>True</td>\n",
              "      <td>True</td>\n",
              "      <td>True</td>\n",
              "      <td>True</td>\n",
              "      <td>False</td>\n",
              "    </tr>\n",
              "    <tr>\n",
              "      <th>4</th>\n",
              "      <td>-EX_qttyhm5YNb8NWtAcCQ</td>\n",
              "      <td>fun little bar for some country music i would ...</td>\n",
              "      <td>False</td>\n",
              "      <td>True</td>\n",
              "      <td>False</td>\n",
              "      <td>True</td>\n",
              "      <td>False</td>\n",
              "      <td>False</td>\n",
              "      <td>True</td>\n",
              "      <td>False</td>\n",
              "    </tr>\n",
              "  </tbody>\n",
              "</table>\n",
              "</div>"
            ],
            "text/plain": [
              "              business_id  ...   Wifi\n",
              "0  -7BCZH437U5FjmNJ26llkg  ...   True\n",
              "1  -9u2uFwhlj3Yq4mG5IweoA  ...  False\n",
              "2  -BbnAc9YEO6pjvJGEtFbVQ  ...  False\n",
              "3  -CLTZ0cO-ooKDDmXHFoGMg  ...  False\n",
              "4  -EX_qttyhm5YNb8NWtAcCQ  ...  False\n",
              "\n",
              "[5 rows x 10 columns]"
            ]
          },
          "metadata": {
            "tags": []
          },
          "execution_count": 3
        }
      ]
    },
    {
      "cell_type": "markdown",
      "metadata": {
        "id": "uW1ofdxroCde",
        "colab_type": "text"
      },
      "source": [
        "# Word Clouds"
      ]
    },
    {
      "cell_type": "code",
      "metadata": {
        "id": "qKOBNbeBoCLg",
        "colab_type": "code",
        "colab": {}
      },
      "source": [
        "plt.figure(figsize=(40,25))\n",
        "\n",
        "# RestaurantsReservations\n",
        "subset = finalDF[finalDF.RestaurantsReservations==True]\n",
        "text = subset.text.values\n",
        "cloud = WordCloud(\n",
        "                          stopwords=STOPWORDS,\n",
        "                          background_color='black',\n",
        "                          collocations=False,\n",
        "                          width=2500,\n",
        "                          height=1800\n",
        "                         ).generate(\" \".join(text))\n",
        "plt.axis('off')\n",
        "plt.title(\"RestaurantsReservations\",fontsize=40)\n",
        "plt.imshow(cloud)"
      ],
      "execution_count": 0,
      "outputs": []
    },
    {
      "cell_type": "code",
      "metadata": {
        "id": "ynyqWPtlsigF",
        "colab_type": "code",
        "colab": {}
      },
      "source": [
        "plt.figure(figsize=(40,25))\n",
        "\n",
        "# RestaurantsGoodForGroups\n",
        "subset = finalDF[finalDF.RestaurantsGoodForGroups==True]\n",
        "text = subset.text.values\n",
        "cloud = WordCloud(\n",
        "                          stopwords=STOPWORDS,\n",
        "                          background_color='black',\n",
        "                          collocations=False,\n",
        "                          width=2500,\n",
        "                          height=1800\n",
        "                         ).generate(\" \".join(text))\n",
        "plt.axis('off')\n",
        "plt.title(\"RestaurantsGoodForGroups\",fontsize=40)\n",
        "plt.imshow(cloud)"
      ],
      "execution_count": 0,
      "outputs": []
    },
    {
      "cell_type": "code",
      "metadata": {
        "id": "MKFZBIPrtJnN",
        "colab_type": "code",
        "colab": {}
      },
      "source": [
        "plt.figure(figsize=(40,25))\n",
        "\n",
        "# OutdoorSeating\n",
        "subset = finalDF[finalDF.OutdoorSeating==True]\n",
        "text = subset.text.values\n",
        "cloud = WordCloud(\n",
        "                          stopwords=STOPWORDS,\n",
        "                          background_color='black',\n",
        "                          collocations=False,\n",
        "                          width=2500,\n",
        "                          height=1800\n",
        "                         ).generate(\" \".join(text))\n",
        "plt.axis('off')\n",
        "plt.title(\"OutdoorSeating\",fontsize=40)\n",
        "plt.imshow(cloud)"
      ],
      "execution_count": 0,
      "outputs": []
    },
    {
      "cell_type": "code",
      "metadata": {
        "id": "l7EZOv6Bthyu",
        "colab_type": "code",
        "colab": {}
      },
      "source": [
        "plt.figure(figsize=(40,25))\n",
        "\n",
        "# RestaurantsTakeOut\n",
        "subset = finalDF[finalDF.RestaurantsTakeOut==True]\n",
        "text = subset.text.values\n",
        "cloud = WordCloud(\n",
        "                          stopwords=STOPWORDS,\n",
        "                          background_color='black',\n",
        "                          collocations=False,\n",
        "                          width=2500,\n",
        "                          height=1800\n",
        "                         ).generate(\" \".join(text))\n",
        "plt.axis('off')\n",
        "plt.title(\"RestaurantsTakeOut\",fontsize=40)\n",
        "plt.imshow(cloud)"
      ],
      "execution_count": 0,
      "outputs": []
    },
    {
      "cell_type": "code",
      "metadata": {
        "id": "5o0aqW3Ytmd-",
        "colab_type": "code",
        "colab": {}
      },
      "source": [
        "plt.figure(figsize=(40,25))\n",
        "\n",
        "# GoodForKids\n",
        "subset = finalDF[finalDF.GoodForKids==True]\n",
        "text = subset.text.values\n",
        "cloud = WordCloud(\n",
        "                          stopwords=STOPWORDS,\n",
        "                          background_color='black',\n",
        "                          collocations=False,\n",
        "                          width=2500,\n",
        "                          height=1800\n",
        "                         ).generate(\" \".join(text))\n",
        "plt.axis('off')\n",
        "plt.title(\"GoodForKids\",fontsize=40)\n",
        "plt.imshow(cloud)"
      ],
      "execution_count": 0,
      "outputs": []
    },
    {
      "cell_type": "code",
      "metadata": {
        "id": "-IYrmUPct7Ks",
        "colab_type": "code",
        "colab": {}
      },
      "source": [
        "plt.figure(figsize=(40,25))\n",
        "\n",
        "# RestaurantsDelivery\n",
        "subset = finalDF[finalDF.RestaurantsDelivery==True]\n",
        "text = subset.text.values\n",
        "cloud = WordCloud(\n",
        "                          stopwords=STOPWORDS,\n",
        "                          background_color='black',\n",
        "                          collocations=False,\n",
        "                          width=2500,\n",
        "                          height=1800\n",
        "                         ).generate(\" \".join(text))\n",
        "plt.axis('off')\n",
        "plt.title(\"RestaurantsDelivery\",fontsize=40)\n",
        "plt.imshow(cloud)"
      ],
      "execution_count": 0,
      "outputs": []
    },
    {
      "cell_type": "code",
      "metadata": {
        "id": "nQskqiD8t_DF",
        "colab_type": "code",
        "colab": {}
      },
      "source": [
        "plt.figure(figsize=(40,25))\n",
        "\n",
        "# BikeParking\n",
        "subset = finalDF[finalDF.BikeParking==True]\n",
        "text = subset.text.values\n",
        "cloud = WordCloud(\n",
        "                          stopwords=STOPWORDS,\n",
        "                          background_color='black',\n",
        "                          collocations=False,\n",
        "                          width=2500,\n",
        "                          height=1800\n",
        "                         ).generate(\" \".join(text))\n",
        "plt.axis('off')\n",
        "plt.title(\"BikeParking\",fontsize=40)\n",
        "plt.imshow(cloud)"
      ],
      "execution_count": 0,
      "outputs": []
    },
    {
      "cell_type": "code",
      "metadata": {
        "id": "6ZVYFHv-uK48",
        "colab_type": "code",
        "colab": {}
      },
      "source": [
        "plt.figure(figsize=(40,25))\n",
        "\n",
        "# Wifi\n",
        "subset = finalDF[finalDF.Wifi==True]\n",
        "text = subset.text.values\n",
        "cloud = WordCloud(\n",
        "                          stopwords=STOPWORDS,\n",
        "                          background_color='black',\n",
        "                          collocations=False,\n",
        "                          width=2500,\n",
        "                          height=1800\n",
        "                         ).generate(\" \".join(text))\n",
        "plt.axis('off')\n",
        "plt.title(\"Wifi\",fontsize=40)\n",
        "plt.imshow(cloud)"
      ],
      "execution_count": 0,
      "outputs": []
    },
    {
      "cell_type": "markdown",
      "metadata": {
        "id": "I3nLwWZgwx6U",
        "colab_type": "text"
      },
      "source": [
        "# Data Preparation"
      ]
    },
    {
      "cell_type": "code",
      "metadata": {
        "id": "PKsOvJtjwgo2",
        "colab_type": "code",
        "colab": {
          "base_uri": "https://localhost:8080/",
          "height": 34
        },
        "outputId": "9117ed4e-4be9-40dc-e3b8-55d94aca077a"
      },
      "source": [
        "train, test = train_test_split(finalDF, test_size=0.30, shuffle=True)\n",
        "print(train.shape, test.shape)"
      ],
      "execution_count": 4,
      "outputs": [
        {
          "output_type": "stream",
          "text": [
            "(1316, 10) (564, 10)\n"
          ],
          "name": "stdout"
        }
      ]
    },
    {
      "cell_type": "markdown",
      "metadata": {
        "id": "Gt1F6B61xeXg",
        "colab_type": "text"
      },
      "source": [
        "Vectorize text data"
      ]
    },
    {
      "cell_type": "code",
      "metadata": {
        "id": "sFO8ElRfu_Ol",
        "colab_type": "code",
        "colab": {
          "base_uri": "https://localhost:8080/",
          "height": 51
        },
        "outputId": "4836c35c-a4fa-4ce4-9a83-e23a563c876a"
      },
      "source": [
        "vectorizer = TfidfVectorizer(strip_accents='unicode', analyzer='word', ngram_range=(1,1), norm='l2')\n",
        "\n",
        "vectorizer.fit(train.text.values)\n",
        "vectorizer.fit(test.text.values)\n",
        "\n",
        "x_train = vectorizer.transform(train.text.values)\n",
        "y_train = train.drop(labels = ['business_id','text'], axis=1)\n",
        "\n",
        "x_test = vectorizer.transform(test.text.values)\n",
        "y_test = test.drop(labels = ['business_id','text'], axis=1)\n",
        "\n",
        "print(x_train.shape, y_train.shape)\n",
        "print(x_test.shape, y_test.shape)"
      ],
      "execution_count": 5,
      "outputs": [
        {
          "output_type": "stream",
          "text": [
            "(1316, 46532) (1316, 8)\n",
            "(564, 46532) (564, 8)\n"
          ],
          "name": "stdout"
        }
      ]
    },
    {
      "cell_type": "markdown",
      "metadata": {
        "id": "DSkyhbiDu4ry",
        "colab_type": "text"
      },
      "source": [
        "# Model 1: One vs. Rest"
      ]
    },
    {
      "cell_type": "code",
      "metadata": {
        "id": "yrdP-G42xdq0",
        "colab_type": "code",
        "colab": {
          "base_uri": "https://localhost:8080/",
          "height": 561
        },
        "outputId": "3d6fc76e-c1cc-4a7b-c5d3-4acb74f9d683"
      },
      "source": [
        "categories = ['RestaurantsReservations',\n",
        "       'RestaurantsGoodForGroups', 'OutdoorSeating', 'RestaurantsTakeOut',\n",
        "       'GoodForKids', 'RestaurantsDelivery', 'BikeParking', 'Wifi']\n",
        "# Using pipeline for applying logistic regression and one vs rest classifier\n",
        "LogReg_pipeline = Pipeline([\n",
        "                ('clf', OneVsRestClassifier(LogisticRegression(solver='sag'), n_jobs=-1)),\n",
        "            ])\n",
        "for category in categories:\n",
        "    print('**Processing {} comments...**'.format(category))\n",
        "    \n",
        "    # Training logistic regression model on train data\n",
        "    LogReg_pipeline.fit(x_train, train[category])\n",
        "    \n",
        "    # calculating test accuracy\n",
        "    prediction = LogReg_pipeline.predict(x_test)\n",
        "    print('Test accuracy is {}'.format(accuracy_score(test[category], prediction)))\n",
        "    print(\"\\n\")"
      ],
      "execution_count": 6,
      "outputs": [
        {
          "output_type": "stream",
          "text": [
            "**Processing RestaurantsReservations comments...**\n",
            "Test accuracy is 0.824468085106383\n",
            "\n",
            "\n",
            "**Processing RestaurantsGoodForGroups comments...**\n",
            "Test accuracy is 0.8617021276595744\n",
            "\n",
            "\n",
            "**Processing OutdoorSeating comments...**\n",
            "Test accuracy is 0.7145390070921985\n",
            "\n",
            "\n",
            "**Processing RestaurantsTakeOut comments...**\n",
            "Test accuracy is 0.8936170212765957\n",
            "\n",
            "\n",
            "**Processing GoodForKids comments...**\n",
            "Test accuracy is 0.8315602836879432\n",
            "\n",
            "\n",
            "**Processing RestaurantsDelivery comments...**\n",
            "Test accuracy is 0.7659574468085106\n",
            "\n",
            "\n",
            "**Processing BikeParking comments...**\n",
            "Test accuracy is 0.9166666666666666\n",
            "\n",
            "\n",
            "**Processing Wifi comments...**\n",
            "Test accuracy is 0.6879432624113475\n",
            "\n",
            "\n"
          ],
          "name": "stdout"
        }
      ]
    },
    {
      "cell_type": "markdown",
      "metadata": {
        "id": "tsbjkegbyY3u",
        "colab_type": "text"
      },
      "source": [
        "# Model 2: Binary Relevance"
      ]
    },
    {
      "cell_type": "code",
      "metadata": {
        "id": "OOvREX50yU5l",
        "colab_type": "code",
        "colab": {
          "base_uri": "https://localhost:8080/",
          "height": 34
        },
        "outputId": "db07423c-953b-40a1-c573-66c48eb6b6e3"
      },
      "source": [
        "# initialize binary relevance multi-label classifier\n",
        "# with a gaussian naive bayes base classifier\n",
        "classifier = BinaryRelevance(GaussianNB())\n",
        "# train\n",
        "classifier.fit(x_train, y_train)\n",
        "# predict\n",
        "predictions = classifier.predict(x_test)\n",
        "# accuracy\n",
        "print(\"Accuracy = \", accuracy_score(y_test,predictions))"
      ],
      "execution_count": 7,
      "outputs": [
        {
          "output_type": "stream",
          "text": [
            "Accuracy =  0.10638297872340426\n"
          ],
          "name": "stdout"
        }
      ]
    },
    {
      "cell_type": "markdown",
      "metadata": {
        "id": "Bqt1edHgysUC",
        "colab_type": "text"
      },
      "source": [
        "# Model 3: Multi-label KNN (ML-KNN)"
      ]
    },
    {
      "cell_type": "code",
      "metadata": {
        "id": "Nu7HBguCy9do",
        "colab_type": "code",
        "colab": {}
      },
      "source": [
        "classifier_new = MLkNN(k=10)\n",
        "# Note that this classifier can throw up errors when handling sparse matrices.\n",
        "x_train = lil_matrix(x_train).toarray()\n",
        "y_train = lil_matrix(y_train).toarray()\n",
        "x_test = lil_matrix(x_test).toarray()\n",
        "# train\n",
        "classifier_new.fit(x_train, y_train)\n",
        "# predict\n",
        "predictions_new = classifier_new.predict(x_test)\n",
        "# accuracy\n",
        "print(\"Accuracy = \",accuracy_score(y_test,predictions_new))\n",
        "print(\"\\n\")"
      ],
      "execution_count": 0,
      "outputs": []
    },
    {
      "cell_type": "markdown",
      "metadata": {
        "id": "eOnOFRxJn70O",
        "colab_type": "text"
      },
      "source": [
        "# Neural Network"
      ]
    },
    {
      "cell_type": "markdown",
      "metadata": {
        "id": "0wXU6Oz7dDgN",
        "colab_type": "text"
      },
      "source": [
        "Create text to sequence matrices"
      ]
    },
    {
      "cell_type": "code",
      "metadata": {
        "id": "w-Uao0GTIeQ7",
        "colab_type": "code",
        "colab": {}
      },
      "source": [
        "MAX_SEQUENCE_LENGTH = 30\n",
        "MAX_NB_WORDS = 200000\n",
        "EMBEDDING_DIM = 300"
      ],
      "execution_count": 0,
      "outputs": []
    },
    {
      "cell_type": "code",
      "metadata": {
        "id": "wr9jWfbRaZQh",
        "colab_type": "code",
        "colab": {}
      },
      "source": [
        "# num_words = 200000\n",
        "# seq_len = 30\n",
        "\n",
        "tokenizer = tf.keras.preprocessing.text.Tokenizer(num_words=MAX_NB_WORDS)\n",
        "tokenizer.fit_on_texts(finalDF.text)\n",
        "sequences = tokenizer.texts_to_sequences(finalDF.text)\n",
        "x = tf.keras.preprocessing.sequence.pad_sequences(sequences, maxlen=seq_len)"
      ],
      "execution_count": 0,
      "outputs": []
    },
    {
      "cell_type": "code",
      "metadata": {
        "id": "F7k1NPAwj72J",
        "colab_type": "code",
        "colab": {}
      },
      "source": [
        "max_sentence_len = 500\n",
        "sentences = [[word for word in txt.lower().split()[:max_sentence_len]] for txt in finalDF.text]\n",
        "w2v_model = gensim.models.Word2Vec(sentences, size=200, window=5, min_count=5, workers=4)"
      ],
      "execution_count": 0,
      "outputs": []
    },
    {
      "cell_type": "code",
      "metadata": {
        "id": "aj_blMOFlt8r",
        "colab_type": "code",
        "colab": {
          "base_uri": "https://localhost:8080/",
          "height": 34
        },
        "outputId": "ec7d5d34-6c8d-4cde-a99d-55e140638812"
      },
      "source": [
        "pretrained_weights = w2v_model.wv.vectors\n",
        "vocab_size, emdedding_size = pretrained_weights.shape\n",
        "print('Result embedding shape:', pretrained_weights.shape)"
      ],
      "execution_count": 25,
      "outputs": [
        {
          "output_type": "stream",
          "text": [
            "Result embedding shape: (6660, 200)\n"
          ],
          "name": "stdout"
        }
      ]
    },
    {
      "cell_type": "code",
      "metadata": {
        "id": "sjB2_joMmx7C",
        "colab_type": "code",
        "colab": {
          "base_uri": "https://localhost:8080/",
          "height": 173
        },
        "outputId": "5d00b565-18e8-4775-88df-7c1cedbac25c"
      },
      "source": [
        "print('Checking similar words:')\n",
        "for word in ['friendly', 'cheap', 'delicious', 'chicken', 'pasta']:\n",
        "  most_similar = ', '.join('%s (%.2f)' % (similar, dist) for similar, dist in w2v_model.wv.most_similar(word)[:8])\n",
        "  print('  %s -> %s' % (word, most_similar))"
      ],
      "execution_count": 26,
      "outputs": [
        {
          "output_type": "stream",
          "text": [
            "Checking similar words:\n",
            "  friendly -> attentive (0.94), helpful (0.91), efficient (0.88), accommodating (0.86), polite (0.86), prompt (0.84), welcoming (0.83), pleasant (0.83)\n",
            "  cheap -> reasonable (0.77), value (0.76), price (0.75), prices (0.74), low (0.72), affordable (0.70), quality (0.69), especially (0.68)\n",
            "  delicious -> tasty (0.90), amazing (0.87), yummy (0.83), awesome (0.76), incredible (0.76), fantastic (0.76), fresh (0.76), excellent (0.74)\n",
            "  chicken -> pork (0.87), beef (0.87), roti (0.83), soup (0.83), curry (0.83), poutine (0.82), sandwich (0.81), fried (0.80)\n",
            "  pasta -> duck (0.90), seafood (0.90), risotto (0.88), lamb (0.88), lobster (0.87), tuna (0.87), curry (0.87), octopus (0.87)\n"
          ],
          "name": "stdout"
        },
        {
          "output_type": "stream",
          "text": [
            "/usr/local/lib/python3.6/dist-packages/gensim/matutils.py:737: FutureWarning: Conversion of the second argument of issubdtype from `int` to `np.signedinteger` is deprecated. In future, it will be treated as `np.int64 == np.dtype(int).type`.\n",
            "  if np.issubdtype(vec.dtype, np.int):\n"
          ],
          "name": "stderr"
        }
      ]
    },
    {
      "cell_type": "code",
      "metadata": {
        "id": "InOLn-XrrPvr",
        "colab_type": "code",
        "colab": {
          "base_uri": "https://localhost:8080/",
          "height": 85
        },
        "outputId": "3b6e333c-1234-4a9d-cc34-ad2b4268b427"
      },
      "source": [
        "def word2idx(word):\n",
        "  return w2v_model.wv.vocab[word].index\n",
        "def idx2word(idx):\n",
        "  return w2v_model.wv.index2word[idx]\n",
        "\n",
        "print('\\nPreparing the data for LSTM...')\n",
        "x = np.zeros([len(sentences), max_sentence_len], dtype=np.int32)\n",
        "for i, sentence in enumerate(sentences):\n",
        "  for t, word in enumerate(sentence[:-1]):\n",
        "    if word in w2v_model.wv.vocab:\n",
        "      x[i, t] = word2idx(word)\n",
        "    \n",
        "y = np.array(finalDF.iloc[:,2:])\n",
        "\n",
        "print(x.shape)\n",
        "print(y.shape)"
      ],
      "execution_count": 27,
      "outputs": [
        {
          "output_type": "stream",
          "text": [
            "\n",
            "Preparing the data for LSTM...\n",
            "(1880, 500)\n",
            "(1880, 8)\n"
          ],
          "name": "stdout"
        }
      ]
    },
    {
      "cell_type": "markdown",
      "metadata": {
        "id": "8QZ8PQjoUkc_",
        "colab_type": "text"
      },
      "source": [
        "Prepare data"
      ]
    },
    {
      "cell_type": "code",
      "metadata": {
        "id": "C24l44lqeOT_",
        "colab_type": "code",
        "colab": {
          "base_uri": "https://localhost:8080/",
          "height": 68
        },
        "outputId": "a336922b-4dc9-4232-9610-4b76c60ba622"
      },
      "source": [
        "y = y.astype('float32')\n",
        "x_train, x_tv, y_train, y_tv = train_test_split(x, y, test_size=0.3)\n",
        "x_valdn, x_test, y_valdn, y_test = train_test_split(x_tv, y_tv, test_size=0.5)\n",
        "\n",
        "print(x_train.shape, y_train.shape)\n",
        "print(x_valdn.shape, y_valdn.shape)\n",
        "print(x_test.shape, y_test.shape)"
      ],
      "execution_count": 29,
      "outputs": [
        {
          "output_type": "stream",
          "text": [
            "(1316, 500) (1316, 8)\n",
            "(282, 500) (282, 8)\n",
            "(282, 500) (282, 8)\n"
          ],
          "name": "stdout"
        }
      ]
    },
    {
      "cell_type": "code",
      "metadata": {
        "id": "KGcBOTrrXX_O",
        "colab_type": "code",
        "colab": {}
      },
      "source": [
        "# pathToLogs = '/content/drive/My Drive/Search Project/logs/'\n",
        "pathToLogs = '/content/logs/'\n",
        "\n",
        "# Clear any logs from previous runs\n",
        "!rm -rf {pathToLogs}"
      ],
      "execution_count": 0,
      "outputs": []
    },
    {
      "cell_type": "markdown",
      "metadata": {
        "id": "HVxr6IDAZWpY",
        "colab_type": "text"
      },
      "source": [
        "Fit model"
      ]
    },
    {
      "cell_type": "code",
      "metadata": {
        "id": "u6Qs76k2qqAn",
        "colab_type": "code",
        "colab": {}
      },
      "source": [
        "# Clear session\n",
        "tf.keras.backend.clear_session()\n",
        "\n",
        "# Define input\n",
        "\n",
        "model = tf.keras.models.Sequential()\n",
        "\n",
        "# model.add(tf.keras.layers.Embedding(input_dim=vocab_size,\n",
        "#                                     output_dim=emdedding_size,\n",
        "#                                     input_length=200,\n",
        "#                                     weights=[pretrained_weights],\n",
        "#                                     dtype='float32'))\n",
        "\n",
        "lstm_units = 8\n",
        "\n",
        "model.add(tf.keras.layers.LSTM(units=lstm_units,\n",
        "                              #  input_shape = (None, max_sentence_len),\n",
        "                               return_sequences=False))\n",
        "model.add(tf.keras.layers.LayerNormalization())\n",
        "# model.add(tf.keras.layers.Dropout(0.5))\n",
        "\n",
        "# model.add(tf.keras.layers.Reshape((45, 513, 1), input_shape=(45, 513)))\n",
        "# model.add(tf.keras.layers.Reshape((513, 45, 1), input_shape=(45, 513)))\n",
        "\n",
        "# model.add(tf.keras.layers.Reshape((45, lstm_units, 1), input_shape=(45, lstm_units)))\n",
        "\n",
        "# model.add(tf.keras.layers.Conv2D(filters=4,\n",
        "#                                  kernel_size=(1, 2),\n",
        "#                                  strides=(1, 2),\n",
        "#                                  activation='tanh'))\n",
        "# model.add(tf.keras.layers.BatchNormalization())\n",
        "# model.add(tf.keras.layers.MaxPool2D(pool_size=(1,2), strides=(1,2)))\n",
        "\n",
        "# model.add(tf.keras.layers.Conv1D(filters=32, \n",
        "#                                  input_shape=input_shape,\n",
        "#                                  kernel_size=2,\n",
        "#                                  strides=1,\n",
        "#                                  activation='tanh'))\n",
        "# model.add(tf.keras.layers.BatchNormalization())\n",
        "# model.add(tf.keras.layers.MaxPool1D(pool_size=2))\n",
        "\n",
        "# model.add(tf.keras.layers.Flatten())\n",
        "# model.add(tf.keras.layers.Dropout(0.2))\n",
        "\n",
        "model.add(tf.keras.layers.Dense(units=8, \n",
        "                               activation='relu'))\n",
        "model.add(tf.keras.layers.BatchNormalization())\n",
        "# model.add(tf.keras.layers.Dropout(0.3))\n",
        "\n",
        "model.add(tf.keras.layers.Dense(units=y_train.shape[1], \n",
        "                                activation='sigmoid'))\n",
        "# model.add(tf.keras.layers.BatchNormalization())\n",
        "\n",
        "# model.summary()"
      ],
      "execution_count": 0,
      "outputs": []
    },
    {
      "cell_type": "code",
      "metadata": {
        "id": "lFVGSldcfvV4",
        "colab_type": "code",
        "colab": {}
      },
      "source": [
        "learning_rate = 0.0002\n",
        "\n",
        "current_time = datetime.datetime.now().strftime(\"%Y%m%d-%H%M%S\")\n",
        "\n",
        "train_log_dir = 'logs/gradient_tape/' + current_time + '/train'\n",
        "valdn_log_dir = 'logs/gradient_tape/' + current_time + '/valdn'\n",
        "\n",
        "train_writer = tf.summary.create_file_writer(train_log_dir)\n",
        "valdn_writer = tf.summary.create_file_writer(valdn_log_dir)\n",
        "\n",
        "\n",
        "# Sigmoid Cross-entropy with Logits\n",
        "def computeLoss(labels, logits):\n",
        "  return tf.nn.sigmoid_cross_entropy_with_logits(labels=labels, logits=logits)\n",
        "\n",
        "\n",
        "# Exact Match Ratio or Subset Accuracy\n",
        "def computeAccuracy(truth, predict):\n",
        "  binaryPred = np.where(predict > 0.5, 1., 0.)\n",
        "  acc = accuracy_score(y_true=truth, y_pred=binaryPred, normalize=True)\n",
        "  return acc\n",
        "\n",
        "\n",
        "def train_step(features, labels, optimizer = tf.keras.optimizers.Adam(learning_rate=learning_rate)):\n",
        "  with tf.GradientTape() as tape:\n",
        "    \n",
        "    # Compute loss\n",
        "    logits = model(features, training=True)\n",
        "    loss = computeLoss(labels, logits)\n",
        "    loss_value = tf.reduce_mean(loss)\n",
        "    \n",
        "    # Compute accuracy\n",
        "    predictions = model(x_train, training=False)\n",
        "    acc = computeAccuracy(y_train, predictions)\n",
        "\n",
        "  # Compute gradients and minimize using the optimizer\n",
        "  grads = tape.gradient(loss_value, model.trainable_variables)\n",
        "  optimizer.apply_gradients(zip(grads, model.trainable_variables))\n",
        "  \n",
        "  return loss_value, acc\n",
        "\n",
        "\n",
        "def test_step(model, features, labels):\n",
        "  # Compute loss\n",
        "  predictions = model(features, training=False)\n",
        "  loss = computeLoss(labels, predictions)\n",
        "  loss_value = tf.reduce_mean(loss)\n",
        "  # Compute accuracy\n",
        "  acc = computeAccuracy(labels, predictions)\n",
        "\n",
        "  return loss_value, acc\n",
        "\n",
        "\n",
        "def train(epochs, batchSize):\n",
        "  \n",
        "  # Epoch loop\n",
        "  for epoch in range(epochs):\n",
        "    \n",
        "    # Initialize vars\n",
        "    epoch_loss = 0\n",
        "    epoch_acc = 0\n",
        "    numBatches = math.ceil(x_train.shape[0] / batchSize)\n",
        "    \n",
        "    # Batch loop\n",
        "    for batch in range(numBatches):\n",
        "      \n",
        "      # Compute indices\n",
        "      start = batch*batchSize\n",
        "      end = (batch+1)*batchSize\n",
        "      \n",
        "      # Extract batch\n",
        "      features, labels = x_train[start:end], y_train[start:end]\n",
        "      \n",
        "      # Train\n",
        "      batch_loss, batch_acc = train_step(features, labels)\n",
        "      \n",
        "      # Update local loss and accuracy\n",
        "      epoch_loss += batch_loss\n",
        "      epoch_acc += batch_acc\n",
        "    \n",
        "    # Update global loss and accuracy\n",
        "    train_loss = epoch_loss / numBatches\n",
        "    train_acc = epoch_acc / numBatches\n",
        "\n",
        "    # Log training loss and accuracy\n",
        "    with train_writer.as_default():\n",
        "      tf.summary.scalar('training loss', train_loss, step=epoch)\n",
        "      tf.summary.scalar('accuracy', train_acc, step=epoch)\n",
        "\n",
        "    # Validate the model\n",
        "    valdn_loss, valdn_acc = test_step(model, x_valdn, y_valdn)\n",
        "\n",
        "    # Log validation loss and accuracy\n",
        "    with valdn_writer.as_default():\n",
        "      tf.summary.scalar('training loss', valdn_loss, step=epoch)\n",
        "      tf.summary.scalar('accuracy', valdn_acc, step=epoch)\n",
        "    \n",
        "    # Pretty print output\n",
        "    template = 'Epoch {}, Training Loss: {}, Training Accuracy: {}, Validation Loss: {}, Validation Accuracy: {}'\n",
        "    print(template.format(epoch+1,\n",
        "                          train_loss,\n",
        "                          train_acc*100,\n",
        "                          valdn_loss,\n",
        "                          valdn_acc*100))"
      ],
      "execution_count": 0,
      "outputs": []
    },
    {
      "cell_type": "code",
      "metadata": {
        "id": "4WAnNI9rfhBy",
        "colab_type": "code",
        "outputId": "5347e36c-e27f-4a13-b917-21a0a7263cb4",
        "colab": {
          "base_uri": "https://localhost:8080/",
          "height": 307
        }
      },
      "source": [
        "train(20, 50)"
      ],
      "execution_count": 51,
      "outputs": [
        {
          "output_type": "error",
          "ename": "ValueError",
          "evalue": "ignored",
          "traceback": [
            "\u001b[0;31m---------------------------------------------------------------------------\u001b[0m",
            "\u001b[0;31mValueError\u001b[0m                                Traceback (most recent call last)",
            "\u001b[0;32m<ipython-input-51-aa1c2e929618>\u001b[0m in \u001b[0;36m<module>\u001b[0;34m()\u001b[0m\n\u001b[0;32m----> 1\u001b[0;31m \u001b[0mtrain\u001b[0m\u001b[0;34m(\u001b[0m\u001b[0;36m20\u001b[0m\u001b[0;34m,\u001b[0m \u001b[0;36m50\u001b[0m\u001b[0;34m)\u001b[0m\u001b[0;34m\u001b[0m\u001b[0;34m\u001b[0m\u001b[0m\n\u001b[0m",
            "\u001b[0;32m<ipython-input-32-ccb90c7a6fd0>\u001b[0m in \u001b[0;36mtrain\u001b[0;34m(epochs, batchSize)\u001b[0m\n\u001b[1;32m     73\u001b[0m \u001b[0;34m\u001b[0m\u001b[0m\n\u001b[1;32m     74\u001b[0m       \u001b[0;31m# Train\u001b[0m\u001b[0;34m\u001b[0m\u001b[0;34m\u001b[0m\u001b[0;34m\u001b[0m\u001b[0m\n\u001b[0;32m---> 75\u001b[0;31m       \u001b[0mbatch_loss\u001b[0m\u001b[0;34m,\u001b[0m \u001b[0mbatch_acc\u001b[0m \u001b[0;34m=\u001b[0m \u001b[0mtrain_step\u001b[0m\u001b[0;34m(\u001b[0m\u001b[0mfeatures\u001b[0m\u001b[0;34m,\u001b[0m \u001b[0mlabels\u001b[0m\u001b[0;34m)\u001b[0m\u001b[0;34m\u001b[0m\u001b[0;34m\u001b[0m\u001b[0m\n\u001b[0m\u001b[1;32m     76\u001b[0m \u001b[0;34m\u001b[0m\u001b[0m\n\u001b[1;32m     77\u001b[0m       \u001b[0;31m# Update local loss and accuracy\u001b[0m\u001b[0;34m\u001b[0m\u001b[0;34m\u001b[0m\u001b[0;34m\u001b[0m\u001b[0m\n",
            "\u001b[0;32m<ipython-input-32-ccb90c7a6fd0>\u001b[0m in \u001b[0;36mtrain_step\u001b[0;34m(features, labels, optimizer)\u001b[0m\n\u001b[1;32m     26\u001b[0m \u001b[0;34m\u001b[0m\u001b[0m\n\u001b[1;32m     27\u001b[0m     \u001b[0;31m# Compute loss\u001b[0m\u001b[0;34m\u001b[0m\u001b[0;34m\u001b[0m\u001b[0;34m\u001b[0m\u001b[0m\n\u001b[0;32m---> 28\u001b[0;31m     \u001b[0mlogits\u001b[0m \u001b[0;34m=\u001b[0m \u001b[0mmodel\u001b[0m\u001b[0;34m(\u001b[0m\u001b[0mfeatures\u001b[0m\u001b[0;34m,\u001b[0m \u001b[0mtraining\u001b[0m\u001b[0;34m=\u001b[0m\u001b[0;32mTrue\u001b[0m\u001b[0;34m)\u001b[0m\u001b[0;34m\u001b[0m\u001b[0;34m\u001b[0m\u001b[0m\n\u001b[0m\u001b[1;32m     29\u001b[0m     \u001b[0mloss\u001b[0m \u001b[0;34m=\u001b[0m \u001b[0mcomputeLoss\u001b[0m\u001b[0;34m(\u001b[0m\u001b[0mlabels\u001b[0m\u001b[0;34m,\u001b[0m \u001b[0mlogits\u001b[0m\u001b[0;34m)\u001b[0m\u001b[0;34m\u001b[0m\u001b[0;34m\u001b[0m\u001b[0m\n\u001b[1;32m     30\u001b[0m     \u001b[0mloss_value\u001b[0m \u001b[0;34m=\u001b[0m \u001b[0mtf\u001b[0m\u001b[0;34m.\u001b[0m\u001b[0mreduce_mean\u001b[0m\u001b[0;34m(\u001b[0m\u001b[0mloss\u001b[0m\u001b[0;34m)\u001b[0m\u001b[0;34m\u001b[0m\u001b[0;34m\u001b[0m\u001b[0m\n",
            "\u001b[0;32m/tensorflow-2.0.0/python3.6/tensorflow_core/python/keras/engine/base_layer.py\u001b[0m in \u001b[0;36m__call__\u001b[0;34m(self, inputs, *args, **kwargs)\u001b[0m\n\u001b[1;32m    885\u001b[0m         \u001b[0;31m# Eager execution on data tensors.\u001b[0m\u001b[0;34m\u001b[0m\u001b[0;34m\u001b[0m\u001b[0;34m\u001b[0m\u001b[0m\n\u001b[1;32m    886\u001b[0m         \u001b[0;32mwith\u001b[0m \u001b[0mbackend\u001b[0m\u001b[0;34m.\u001b[0m\u001b[0mname_scope\u001b[0m\u001b[0;34m(\u001b[0m\u001b[0mself\u001b[0m\u001b[0;34m.\u001b[0m\u001b[0m_name_scope\u001b[0m\u001b[0;34m(\u001b[0m\u001b[0;34m)\u001b[0m\u001b[0;34m)\u001b[0m\u001b[0;34m:\u001b[0m\u001b[0;34m\u001b[0m\u001b[0;34m\u001b[0m\u001b[0m\n\u001b[0;32m--> 887\u001b[0;31m           \u001b[0mself\u001b[0m\u001b[0;34m.\u001b[0m\u001b[0m_maybe_build\u001b[0m\u001b[0;34m(\u001b[0m\u001b[0minputs\u001b[0m\u001b[0;34m)\u001b[0m\u001b[0;34m\u001b[0m\u001b[0;34m\u001b[0m\u001b[0m\n\u001b[0m\u001b[1;32m    888\u001b[0m           \u001b[0mcast_inputs\u001b[0m \u001b[0;34m=\u001b[0m \u001b[0mself\u001b[0m\u001b[0;34m.\u001b[0m\u001b[0m_maybe_cast_inputs\u001b[0m\u001b[0;34m(\u001b[0m\u001b[0minputs\u001b[0m\u001b[0;34m)\u001b[0m\u001b[0;34m\u001b[0m\u001b[0;34m\u001b[0m\u001b[0m\n\u001b[1;32m    889\u001b[0m           with base_layer_utils.autocast_context_manager(\n",
            "\u001b[0;32m/tensorflow-2.0.0/python3.6/tensorflow_core/python/keras/engine/base_layer.py\u001b[0m in \u001b[0;36m_maybe_build\u001b[0;34m(self, inputs)\u001b[0m\n\u001b[1;32m   2120\u001b[0m     \u001b[0;32mif\u001b[0m \u001b[0;32mnot\u001b[0m \u001b[0mself\u001b[0m\u001b[0;34m.\u001b[0m\u001b[0mbuilt\u001b[0m\u001b[0;34m:\u001b[0m\u001b[0;34m\u001b[0m\u001b[0;34m\u001b[0m\u001b[0m\n\u001b[1;32m   2121\u001b[0m       input_spec.assert_input_compatibility(\n\u001b[0;32m-> 2122\u001b[0;31m           self.input_spec, inputs, self.name)\n\u001b[0m\u001b[1;32m   2123\u001b[0m       \u001b[0minput_list\u001b[0m \u001b[0;34m=\u001b[0m \u001b[0mnest\u001b[0m\u001b[0;34m.\u001b[0m\u001b[0mflatten\u001b[0m\u001b[0;34m(\u001b[0m\u001b[0minputs\u001b[0m\u001b[0;34m)\u001b[0m\u001b[0;34m\u001b[0m\u001b[0;34m\u001b[0m\u001b[0m\n\u001b[1;32m   2124\u001b[0m       \u001b[0;32mif\u001b[0m \u001b[0minput_list\u001b[0m \u001b[0;32mand\u001b[0m \u001b[0mself\u001b[0m\u001b[0;34m.\u001b[0m\u001b[0m_dtype_policy\u001b[0m\u001b[0;34m.\u001b[0m\u001b[0mcompute_dtype\u001b[0m \u001b[0;32mis\u001b[0m \u001b[0;32mNone\u001b[0m\u001b[0;34m:\u001b[0m\u001b[0;34m\u001b[0m\u001b[0;34m\u001b[0m\u001b[0m\n",
            "\u001b[0;32m/tensorflow-2.0.0/python3.6/tensorflow_core/python/keras/engine/input_spec.py\u001b[0m in \u001b[0;36massert_input_compatibility\u001b[0;34m(input_spec, inputs, layer_name)\u001b[0m\n\u001b[1;32m    175\u001b[0m                          \u001b[0;34m'expected ndim='\u001b[0m \u001b[0;34m+\u001b[0m \u001b[0mstr\u001b[0m\u001b[0;34m(\u001b[0m\u001b[0mspec\u001b[0m\u001b[0;34m.\u001b[0m\u001b[0mndim\u001b[0m\u001b[0;34m)\u001b[0m \u001b[0;34m+\u001b[0m \u001b[0;34m', found ndim='\u001b[0m \u001b[0;34m+\u001b[0m\u001b[0;34m\u001b[0m\u001b[0;34m\u001b[0m\u001b[0m\n\u001b[1;32m    176\u001b[0m                          \u001b[0mstr\u001b[0m\u001b[0;34m(\u001b[0m\u001b[0mndim\u001b[0m\u001b[0;34m)\u001b[0m \u001b[0;34m+\u001b[0m \u001b[0;34m'. Full shape received: '\u001b[0m \u001b[0;34m+\u001b[0m\u001b[0;34m\u001b[0m\u001b[0;34m\u001b[0m\u001b[0m\n\u001b[0;32m--> 177\u001b[0;31m                          str(x.shape.as_list()))\n\u001b[0m\u001b[1;32m    178\u001b[0m     \u001b[0;32mif\u001b[0m \u001b[0mspec\u001b[0m\u001b[0;34m.\u001b[0m\u001b[0mmax_ndim\u001b[0m \u001b[0;32mis\u001b[0m \u001b[0;32mnot\u001b[0m \u001b[0;32mNone\u001b[0m\u001b[0;34m:\u001b[0m\u001b[0;34m\u001b[0m\u001b[0;34m\u001b[0m\u001b[0m\n\u001b[1;32m    179\u001b[0m       \u001b[0mndim\u001b[0m \u001b[0;34m=\u001b[0m \u001b[0mx\u001b[0m\u001b[0;34m.\u001b[0m\u001b[0mshape\u001b[0m\u001b[0;34m.\u001b[0m\u001b[0mndims\u001b[0m\u001b[0;34m\u001b[0m\u001b[0;34m\u001b[0m\u001b[0m\n",
            "\u001b[0;31mValueError\u001b[0m: Input 0 of layer sequential is incompatible with the layer: expected ndim=3, found ndim=2. Full shape received: [50, 500]"
          ]
        }
      ]
    },
    {
      "cell_type": "code",
      "metadata": {
        "id": "JRCTokEYUQk6",
        "colab_type": "code",
        "colab": {}
      },
      "source": [
        "%tensorboard --logdir logs/gradient_tape\n",
        "notebook.display(port=6006, height=800)"
      ],
      "execution_count": 0,
      "outputs": []
    },
    {
      "cell_type": "code",
      "metadata": {
        "id": "rCW5FBpaAfsi",
        "colab_type": "code",
        "colab": {}
      },
      "source": [
        "trainPred = model.predict(x_train)\n",
        "trainPred[:5]"
      ],
      "execution_count": 0,
      "outputs": []
    },
    {
      "cell_type": "code",
      "metadata": {
        "id": "z5Bgl2wjrJ9O",
        "colab_type": "code",
        "colab": {}
      },
      "source": [
        "metrics = model.evaluate(x_test, y_test)\n",
        "print('test loss, test acc:', metrics)"
      ],
      "execution_count": 0,
      "outputs": []
    },
    {
      "cell_type": "code",
      "metadata": {
        "id": "fZZyleDL8lgK",
        "colab_type": "code",
        "colab": {}
      },
      "source": [
        "# serialize model to JSON\n",
        "model_json = model.to_json()\n",
        "with open(\"/content/drive/My Drive/Search Project/model.json\", \"w\") as json_file:\n",
        "    json_file.write(model_json)\n",
        "# serialize weights to HDF5\n",
        "model.save_weights(\"/content/drive/My Drive/Search Project/model.h5\")\n",
        "print(\"Saved model to disk\")"
      ],
      "execution_count": 0,
      "outputs": []
    },
    {
      "cell_type": "code",
      "metadata": {
        "id": "hdt-Ps2egdB6",
        "colab_type": "code",
        "outputId": "7d333bcb-97f7-4f31-dd3c-f216e44c13e8",
        "colab": {
          "base_uri": "https://localhost:8080/",
          "height": 34
        }
      },
      "source": [
        "accuracy_score(np.array([[0, 1, 1],\n",
        "                         [1, 1, 0],\n",
        "                         [1, 1, 1],\n",
        "                         [1, 1, 1],\n",
        "                         [0, 0, 1]]),\n",
        "               np.array([[0, 1, 1],\n",
        "                         [0, 1, 1],\n",
        "                         [0, 0, 0],\n",
        "                         [1, 1, 0],\n",
        "                         [0, 0, 1]]))*100"
      ],
      "execution_count": 0,
      "outputs": [
        {
          "output_type": "execute_result",
          "data": {
            "text/plain": [
              "40.0"
            ]
          },
          "metadata": {
            "tags": []
          },
          "execution_count": 130
        }
      ]
    },
    {
      "cell_type": "markdown",
      "metadata": {
        "id": "T6xu0NOr2sAN",
        "colab_type": "text"
      },
      "source": [
        "# References"
      ]
    },
    {
      "cell_type": "markdown",
      "metadata": {
        "id": "zqE-_4Qa2t6Q",
        "colab_type": "text"
      },
      "source": [
        "[Medium article](https://towardsdatascience.com/journey-to-the-center-of-multi-label-classification-384c40229bff)"
      ]
    }
  ]
}